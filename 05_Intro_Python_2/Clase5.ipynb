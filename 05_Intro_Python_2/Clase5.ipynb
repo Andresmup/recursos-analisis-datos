{
 "cells": [
  {
   "cell_type": "markdown",
   "id": "b93e5f66-e0fb-4071-bf4a-d7a16d2857dc",
   "metadata": {},
   "source": [
    "# CLASE 5"
   ]
  },
  {
   "cell_type": "markdown",
   "id": "f78cf4c7-b9c4-42d7-96dc-c754e8517388",
   "metadata": {},
   "source": [
    "## IF ELIF ELSE"
   ]
  },
  {
   "cell_type": "markdown",
   "id": "4e1115e9-006c-499e-ba2b-9e87573d61ba",
   "metadata": {},
   "source": [
    "El if else en Python es una estructura de control que permite ejecutar bloques de código diferentes dependiendo de si una condición es verdadera o falsa. Si la condición dada es verdadera, se ejecuta el bloque de código dentro del if; de lo contrario, se ejecuta el bloque de código dentro del else."
   ]
  },
  {
   "cell_type": "markdown",
   "id": "429533e2-26ad-4bd7-951a-e97d05ecba27",
   "metadata": {},
   "source": [
    "### Ejercicio 1.1 \n",
    "Veamos una demo comparando dos valores numericos"
   ]
  },
  {
   "cell_type": "code",
   "execution_count": 1,
   "id": "f26b9e5f-a827-478a-850f-df214a765b16",
   "metadata": {},
   "outputs": [],
   "source": [
    "primer_valor = 10 #Defino la primer variable\n",
    "segundo_valor =  12 #Defino la segunda variable\n",
    "\n",
    "if primer_valor > segundo_valor: #Defino mi IF -> if <primer_termino> <lógica> <segundo_termino>:\n",
    "    print(\"El primer valor es grande que el segundo\") #Que hacer si la condición es afirmativa (verdadera) osea True"
   ]
  },
  {
   "cell_type": "markdown",
   "id": "9772e9f1-0909-43eb-99d8-83f1462799df",
   "metadata": {},
   "source": [
    "### Ejercicio 1.2\n",
    "Creemos un código que detecte cuando una persona es mayor de edad, ahora definamos usando else que hacer cuando no se cumple mi if"
   ]
  },
  {
   "cell_type": "code",
   "execution_count": 2,
   "id": "f81d639f-c6d9-484d-9e09-1d0efb09585b",
   "metadata": {},
   "outputs": [
    {
     "name": "stdout",
     "output_type": "stream",
     "text": [
      "Es mayor de edad\n"
     ]
    }
   ],
   "source": [
    "edad = 25  #Definimos la edad\n",
    "if edad >= 18 : #Definimos la condición if\n",
    "    print(\"Es mayor de edad\") #Que hacer cuando se cumple el if\n",
    "else: # Defino else que es la palabra que se usa para el bloque que indica que hacer cuando el if no se cumplio\n",
    "    print(\"Es menor de edad\") #Que hacer cuando \"caemos\" en el else"
   ]
  },
  {
   "cell_type": "markdown",
   "id": "44b3878d-9871-4561-a198-6bdaa551ea21",
   "metadata": {},
   "source": [
    "### Ejercicio 1.3\n",
    "\n",
    "Podemos usar booleanos con los if"
   ]
  },
  {
   "cell_type": "code",
   "execution_count": 3,
   "id": "ff4bcd39-1b93-4fc1-a433-9d66d754dc8f",
   "metadata": {},
   "outputs": [
    {
     "name": "stdout",
     "output_type": "stream",
     "text": [
      "Buenos dias profesor\n"
     ]
    }
   ],
   "source": [
    "profesor = True\n",
    "\n",
    "if profesor == True:\n",
    "    print(\"Buenos dias profesor\")\n",
    "else :\n",
    "    print(\"Usted no es el profesor\")"
   ]
  },
  {
   "cell_type": "markdown",
   "id": "e1ff6339-ed63-42b7-a1f3-4d1c66274a6c",
   "metadata": {},
   "source": [
    "### Ejercicio 1.4\n",
    "Con python al trabajar con booleanos en los if podemos aplicar un truquito para reducir el código"
   ]
  },
  {
   "cell_type": "code",
   "execution_count": 4,
   "id": "3e81d605-2553-48c1-859a-5c0aff54b87f",
   "metadata": {},
   "outputs": [
    {
     "name": "stdout",
     "output_type": "stream",
     "text": [
      "Buenos dias coordinador\n"
     ]
    }
   ],
   "source": [
    "coordinador = True\n",
    "\n",
    "if coordinador:\n",
    "    print(\"Buenos dias coordinador\")\n",
    "else :\n",
    "    print(\"Usted no es el coordinador\")"
   ]
  },
  {
   "cell_type": "markdown",
   "id": "2b2d0a21-39d5-4037-99c6-16d3731aefa3",
   "metadata": {},
   "source": [
    "### Ejercicio 1.5\n",
    "Tambien podemos aplicar los if en conjunto con strings"
   ]
  },
  {
   "cell_type": "code",
   "execution_count": 5,
   "id": "f56cc490-75cd-4b8f-aa82-11ee0c3999d0",
   "metadata": {},
   "outputs": [
    {
     "name": "stdout",
     "output_type": "stream",
     "text": [
      "Usted es argentino\n"
     ]
    }
   ],
   "source": [
    "nacionalidad = \"argentina\"\n",
    "\n",
    "if nacionalidad == \"argentina\":\n",
    "    print(\"Usted es argentino\")\n",
    "else:\n",
    "    print(\"Usted no es argentino\")"
   ]
  },
  {
   "cell_type": "markdown",
   "id": "24f109b1-e77c-4ac4-ad6c-66ef2bfd7dec",
   "metadata": {},
   "source": [
    "### Ejercicio 1.6\n",
    "Analicemos que pasa con los strings, recordemos que el termino case sensitive"
   ]
  },
  {
   "cell_type": "code",
   "execution_count": 6,
   "id": "314a5cb2-ce74-483e-b267-e9dd7e9ded5e",
   "metadata": {},
   "outputs": [
    {
     "name": "stdout",
     "output_type": "stream",
     "text": [
      "Usted no es argentino\n"
     ]
    }
   ],
   "source": [
    "nacionalidad = \"Argentina\"\n",
    "\n",
    "if nacionalidad == \"argentina\":\n",
    "    print(\"Usted es argentino\")\n",
    "else:\n",
    "    print(\"Usted no es argentino\")"
   ]
  },
  {
   "cell_type": "code",
   "execution_count": 7,
   "id": "49af463d-92d7-4a48-8b7c-3b8ba5ec3d22",
   "metadata": {},
   "outputs": [
    {
     "name": "stdout",
     "output_type": "stream",
     "text": [
      "Usted no es argentino\n"
     ]
    }
   ],
   "source": [
    "nacionalidad = \"ARGENTINA\"\n",
    "\n",
    "if nacionalidad == \"argentina\":\n",
    "    print(\"Usted es argentino\")\n",
    "else:\n",
    "    print(\"Usted no es argentino\")"
   ]
  },
  {
   "cell_type": "markdown",
   "id": "261ac18f-1104-46ac-88f6-721880694595",
   "metadata": {},
   "source": [
    "### Ejercicio 1.7\n",
    "Podemos aplicar diferentes condiciones, que se vallan ejecutando cuando la anterior fue rechazada.\n",
    "\n",
    "Para ello utilizaremos elif que seria como un nuevo if (es decir una nueva condición lógica) despues de otra anterior"
   ]
  },
  {
   "cell_type": "code",
   "execution_count": 8,
   "id": "9b7e099c-feb0-4bc7-bc32-fbe0c453ec59",
   "metadata": {},
   "outputs": [
    {
     "name": "stdout",
     "output_type": "stream",
     "text": [
      "En esta veterinaria si atendemos gatos\n"
     ]
    }
   ],
   "source": [
    "tipo_animal = \"gato\"\n",
    "\n",
    "if tipo_animal == \"perro\": #Condicion if inicial\n",
    "    print(\"En esta veterinaria si atendemos perros\") #Ejecución código if\n",
    "elif tipo_animal == \"gato\": #Condición elif\n",
    "    print(\"En esta veterinaria si atendemos gatos\") #Ejecución código elif\n",
    "else: #Deino else\n",
    "    print(\"En esta veterinaria solo atendemos perros y gatos\") #Ejecución código else"
   ]
  },
  {
   "cell_type": "markdown",
   "id": "8f7deb5f-fa14-4a5a-8ccd-69c637b53647",
   "metadata": {},
   "source": [
    "### Ejercicio 1.8\n",
    "No hay límite de elif a utilizar, por lo que podemos aplicar varios"
   ]
  },
  {
   "cell_type": "code",
   "execution_count": 9,
   "id": "5eaf1502-dc9d-4324-ab64-6c48d092574c",
   "metadata": {},
   "outputs": [
    {
     "name": "stdout",
     "output_type": "stream",
     "text": [
      "Color primario seleccionado: azul\n"
     ]
    }
   ],
   "source": [
    "color_primario = \"azul\"\n",
    "\n",
    "if color_primario == \"azul\": #Condicion if inicial\n",
    "    print(\"Color primario seleccionado: azul\") #Ejecución código if\n",
    "elif color_primario == \"rojo\": #Condición elif\n",
    "    print(\"Color primario seleccionado: rojo\") #Ejecución código elif\n",
    "elif color_primario == \"amarillo\": #Condición elif\n",
    "    print(\"Color primario seleccionado: amarillo\") #Ejecución código elif\n",
    "else: #Deino else\n",
    "    print(\"No a seleccionado un color primario\") #Ejecución código else"
   ]
  },
  {
   "cell_type": "markdown",
   "id": "eed8a0b5-763f-4db8-bc3f-9173f3f5b944",
   "metadata": {},
   "source": [
    "### Ejercicio 1.9\n",
    "\n",
    "Puedo anidar condiciones if una adentro de otra si es necesario"
   ]
  },
  {
   "cell_type": "code",
   "execution_count": 10,
   "id": "e3dea3c2-2187-4d83-b99c-fb525be6d910",
   "metadata": {},
   "outputs": [
    {
     "name": "stdout",
     "output_type": "stream",
     "text": [
      "Usted es mayor de edad\n",
      "Se encuentra en edad jubilatoria\n"
     ]
    }
   ],
   "source": [
    "edad = 70\n",
    "\n",
    "if edad > 18:\n",
    "    print(\"Usted es mayor de edad\")\n",
    "    \n",
    "    if edad < 65:\n",
    "        print(\"Se encuentra en edad laboral\")\n",
    "    else:\n",
    "        print(\"Se encuentra en edad jubilatoria\")\n",
    "        \n",
    "else:\n",
    "    print(\"Usted es menor de edad\")\n",
    "\n"
   ]
  },
  {
   "cell_type": "markdown",
   "id": "c8290338-eea2-4b76-9a21-628fc51bf8f4",
   "metadata": {},
   "source": [
    "### Ejercicio 1.10\n",
    "\n",
    "Otra posibilidad es utilizar el operado lógico AND -> &\n",
    "\n",
    "Recordemos que & obliga a que los dos miembros a cada lado obtengan una condición verdadera"
   ]
  },
  {
   "cell_type": "code",
   "execution_count": 11,
   "id": "05f6fc4b-0c8c-4216-8dda-e6580eebd1eb",
   "metadata": {},
   "outputs": [
    {
     "name": "stdout",
     "output_type": "stream",
     "text": [
      "usted se encuentra en edad jubilatoria\n"
     ]
    }
   ],
   "source": [
    "edad = 70\n",
    "genero = \"M\"\n",
    "\n",
    "if (edad >= 65) & (genero == \"M\"): #Defino if el cual debe cumplir 2 condiciones\n",
    "    print(\"usted se encuentra en edad jubilatoria\") #Código a ejecutar cuando se cumpla el if\n",
    "elif (edad >= 62) & (genero == \"F\"): #Defino elif el cual debe cumplir 2 condiciones\n",
    "    print(\"usted se encuentra en edad jubilatoria\") #Código a ejecutar cuando se cumpla el elif\n",
    "else: #Defino else\n",
    "    print(\"no se encuentra en edad jubilatoria\") #Código a ejecutar en el else"
   ]
  },
  {
   "cell_type": "markdown",
   "id": "f1e2b38f-e68c-44e4-8088-87ba0add2b62",
   "metadata": {},
   "source": [
    "### Ejercicio 1.11\n",
    "\n",
    "Otra posibilidad es utilizar el operador lógico OR -> |\n",
    "\n",
    "Recordemos que | obliga solamente que una condición se cumpla para obtener una condición verdadera"
   ]
  },
  {
   "cell_type": "code",
   "execution_count": 12,
   "id": "9e135879-0dc4-42db-b7bd-c173df31430f",
   "metadata": {},
   "outputs": [
    {
     "name": "stdout",
     "output_type": "stream",
     "text": [
      "Es empleado\n"
     ]
    }
   ],
   "source": [
    "cargo = \"profesor\"\n",
    "\n",
    "if (cargo == \"profesor\") | (cargo == \"coordinador\" ):\n",
    "    print(\"Es empleado\")\n",
    "else:\n",
    "    print(\"Es alumno\")"
   ]
  },
  {
   "cell_type": "markdown",
   "id": "7758efb1-d8b3-4ada-bbb9-67d43cedc204",
   "metadata": {},
   "source": [
    "### Ejercicio 1.12\n",
    "\n",
    "Otra posibilidad es utilizar el operador lógico NOT\n",
    "\n",
    "Recordemos que not se utiliza para negar o ver la condición contraria a lo que preguntamos"
   ]
  },
  {
   "cell_type": "code",
   "execution_count": 13,
   "id": "bd0229ba-e75c-4b93-915c-3cafc297e90f",
   "metadata": {},
   "outputs": [],
   "source": [
    "numero_entero = 1\n",
    "\n",
    "if not type(numero_entero) == int: #Defino una condición if que solo se active cuando el tipo de dato no es integer\n",
    "    print(\"Por favor cambie el típo de dato a entero\")"
   ]
  },
  {
   "cell_type": "markdown",
   "id": "9bc7f78e-f9c7-46e6-bcfa-4159ce2cd3cf",
   "metadata": {},
   "source": [
    "## FUNCIONES NATIVAS"
   ]
  },
  {
   "cell_type": "markdown",
   "id": "857ed7f2-df80-41c8-95bc-be9f713213c4",
   "metadata": {},
   "source": [
    "Dentro de todas las funciones nativas de python veamos algunas que podemos utilizar facilmente"
   ]
  },
  {
   "cell_type": "markdown",
   "id": "b58453d3-8bea-47a2-8f82-dca3931dfa8a",
   "metadata": {},
   "source": [
    "### Ejercicio 2.1\n",
    "\n",
    "La mas simple es print()"
   ]
  },
  {
   "cell_type": "code",
   "execution_count": 14,
   "id": "2fa41a0e-5b03-4428-aaea-c0271cca5245",
   "metadata": {},
   "outputs": [
    {
     "name": "stdout",
     "output_type": "stream",
     "text": [
      "Nombre: Juan \n",
      "Edad: 25\n"
     ]
    }
   ],
   "source": [
    "nombre = \"Juan\"\n",
    "edad = 25\n",
    "print(\"Nombre:\", nombre,\"\\n\" \"Edad:\",edad) # Ejemplo de uso de print() con \\n para poner saltos de linea"
   ]
  },
  {
   "cell_type": "markdown",
   "id": "e2d41c5b-65ae-442d-a4be-02f8544f8088",
   "metadata": {},
   "source": [
    "### Ejercicio 2.2\n",
    "\n",
    "Repasemos type()"
   ]
  },
  {
   "cell_type": "code",
   "execution_count": 15,
   "id": "ea53c1a9-2f42-4871-a43b-388ad135da2b",
   "metadata": {},
   "outputs": [
    {
     "data": {
      "text/plain": [
       "(str, bool)"
      ]
     },
     "execution_count": 15,
     "metadata": {},
     "output_type": "execute_result"
    }
   ],
   "source": [
    "verdadero_string, verdadero_bool  = \"True\", True\n",
    "\n",
    "type(verdadero_string), type(verdadero_bool)"
   ]
  },
  {
   "cell_type": "markdown",
   "id": "9423dfe4-06cb-4412-a0ad-df9fdd3486b3",
   "metadata": {},
   "source": [
    "### Ejercicio 2.3\n",
    "Con exec() podemos ejecutar una variable string que tenga un comando de pythono\n"
   ]
  },
  {
   "cell_type": "code",
   "execution_count": 16,
   "id": "4c0be0ab-25bc-4fe2-9f45-ffe6505ca45e",
   "metadata": {},
   "outputs": [
    {
     "data": {
      "text/plain": [
       "('print(\"Hola mundo\")', str)"
      ]
     },
     "execution_count": 16,
     "metadata": {},
     "output_type": "execute_result"
    }
   ],
   "source": [
    "codigo = 'print(\"Hola mundo\")'\n",
    "codigo, type(codigo)"
   ]
  },
  {
   "cell_type": "code",
   "execution_count": 17,
   "id": "3c0871ac-5e83-447c-b67f-dc307ca8f16a",
   "metadata": {},
   "outputs": [
    {
     "name": "stdout",
     "output_type": "stream",
     "text": [
      "Hola mundo\n"
     ]
    }
   ],
   "source": [
    "exec(codigo)"
   ]
  },
  {
   "cell_type": "markdown",
   "id": "46f449c3-3799-4eb9-a16d-93ebcb1c8c83",
   "metadata": {},
   "source": [
    "### Ejercicio 2.4\n",
    "format() es muy util para mostrar valores cuando hacemos un print"
   ]
  },
  {
   "cell_type": "code",
   "execution_count": 18,
   "id": "cbfc98d2-bbc0-4209-9133-d2cae04023a5",
   "metadata": {},
   "outputs": [
    {
     "name": "stdout",
     "output_type": "stream",
     "text": [
      "Mi nombre es Andres y tengo 25 años. \n",
      "¿Soy el profesor? = True\n"
     ]
    }
   ],
   "source": [
    "nombre = \"Andres\"\n",
    "edad = 25\n",
    "es_profesor = True\n",
    "mensaje = \"Mi nombre es {} y tengo {} años. \\n¿Soy el profesor? = {}\".format(nombre, edad, es_profesor)\n",
    "print(mensaje) "
   ]
  },
  {
   "cell_type": "markdown",
   "id": "44931cd3-0ed1-4608-8901-c90f6674a2dd",
   "metadata": {},
   "source": [
    "## Ejercicio 2.5\n",
    "\n",
    "Con input podemos ingresar un parametro directamente "
   ]
  },
  {
   "cell_type": "code",
   "execution_count": 19,
   "id": "be7bd8d2-2c84-401c-99af-fd3e7539d76c",
   "metadata": {},
   "outputs": [
    {
     "name": "stdin",
     "output_type": "stream",
     "text": [
      "Por favor, introduce tu nombre:  Andres\n"
     ]
    },
    {
     "name": "stdout",
     "output_type": "stream",
     "text": [
      "Hola, Andres\n"
     ]
    }
   ],
   "source": [
    "nombre = input(\"Por favor, introduce tu nombre: \")\n",
    "print(\"Hola,\", nombre)"
   ]
  },
  {
   "cell_type": "code",
   "execution_count": 20,
   "id": "be4bc79b-25ac-40a0-9b29-a6916f3c9f4e",
   "metadata": {},
   "outputs": [
    {
     "data": {
      "text/plain": [
       "str"
      ]
     },
     "execution_count": 20,
     "metadata": {},
     "output_type": "execute_result"
    }
   ],
   "source": [
    "type(nombre)"
   ]
  },
  {
   "cell_type": "markdown",
   "id": "c0a548ea-f875-4c1d-a197-57a3fd7bddcd",
   "metadata": {},
   "source": [
    "### Ejercicio 2.6\n",
    "\n",
    "isinstance() nos va a ser util cuando queramos chequear el tipo de dato de una variable"
   ]
  },
  {
   "cell_type": "code",
   "execution_count": 21,
   "id": "0eb36a95-5ffc-4948-a187-f30b5b57072a",
   "metadata": {},
   "outputs": [
    {
     "name": "stdout",
     "output_type": "stream",
     "text": [
      "False\n"
     ]
    }
   ],
   "source": [
    "numero_pi = 3.14\n",
    "print(isinstance(numero_pi, int)) #Si mi condición se cumple retorna True, caso contrario False"
   ]
  },
  {
   "cell_type": "markdown",
   "id": "39c596a4-ddd2-4b0c-b82b-a3438cd1bbac",
   "metadata": {},
   "source": [
    "### Ejercicio 2.7\n",
    "Cuando se trata de reducir o redondear la cantidad de decimales round() es la función que debemos usar"
   ]
  },
  {
   "cell_type": "code",
   "execution_count": 22,
   "id": "1c910c51-6dd4-4a79-910c-744dfd018254",
   "metadata": {},
   "outputs": [
    {
     "name": "stdout",
     "output_type": "stream",
     "text": [
      "3.14\n"
     ]
    }
   ],
   "source": [
    "pi = 3.14159\n",
    "print(round(pi, 2)) #Redondeo y muestro a 2 decimales"
   ]
  },
  {
   "cell_type": "code",
   "execution_count": 23,
   "id": "7f64b0b3-6561-46ee-b869-b76d6da09abe",
   "metadata": {},
   "outputs": [
    {
     "data": {
      "text/plain": [
       "float"
      ]
     },
     "execution_count": 23,
     "metadata": {},
     "output_type": "execute_result"
    }
   ],
   "source": [
    "type(pi) #Veamos el tipo de dato"
   ]
  },
  {
   "cell_type": "code",
   "execution_count": 24,
   "id": "0adf7104-b325-4d31-a653-63493620a128",
   "metadata": {},
   "outputs": [
    {
     "data": {
      "text/plain": [
       "(7.0, float)"
      ]
     },
     "execution_count": 24,
     "metadata": {},
     "output_type": "execute_result"
    }
   ],
   "source": [
    "numero_sin_transformar = 6.68\n",
    "numero_transformardo = round(numero_sin_transformar,0) #Redondeo sin decimales\n",
    "numero_transformardo, type(numero_transformardo) #Veamos como quedo y su tipo de dato"
   ]
  },
  {
   "cell_type": "code",
   "execution_count": 25,
   "id": "6f370f04-df5a-4c4b-9405-ef3d91d6d932",
   "metadata": {},
   "outputs": [
    {
     "data": {
      "text/plain": [
       "(7, int)"
      ]
     },
     "execution_count": 25,
     "metadata": {},
     "output_type": "execute_result"
    }
   ],
   "source": [
    "numero_transformardo_integer = int(numero_transformardo) #Ahora transformo a integer despues de redondear\n",
    "numero_transformardo_integer, type(numero_transformardo_integer)"
   ]
  },
  {
   "cell_type": "markdown",
   "id": "df0fa9b8-1a40-4c1c-98ec-e9566ab91068",
   "metadata": {},
   "source": [
    "### Ejercicio 2.8\n",
    "\n",
    "Queda propuesto un ejercicio donde se deben dar ejemplos para cada una de estas funciones básicas de python\n",
    "- str()\n",
    "- int()\n",
    "- float()\n",
    "- bool()"
   ]
  },
  {
   "cell_type": "markdown",
   "id": "1a130e96-0dca-4509-9b86-5e3631731dda",
   "metadata": {},
   "source": [
    "## FUNCIONES DEFINIDAS POR EL USUARIO\n",
    "\n",
    "En Python es posible crear nuestra propias funciones, para ello asi como con los bloques if else debemos seguir un cierto orden y estructura.\n",
    "```\n",
    "def nombre_de_la_funcion(parametro1, parametro2, ...):\r\n",
    "    \"\"\"\r\n",
    "    Opcional: Descripción opcional de la función.\r\n",
    "    Puede incluir información sobre los parámetros y el valor de retorno.\r\n",
    "    \"\"\"\r\n",
    "\r\n",
    "    # Cuerpo de la función donde vamos a tener nuestro código\r\n",
    "    return valor_de_retorno # Opcional: uso de la palabra clave return para devolver un vaor\n",
    "```\n"
   ]
  },
  {
   "cell_type": "markdown",
   "id": "2a6f9d5c-a8f4-480f-92aa-746b8ec17b85",
   "metadata": {},
   "source": [
    "### Ejericio 3.1\n",
    "\n",
    "Veamos una función definida por nosotros muy sencilla, del tipo sin retorno y sin parametros"
   ]
  },
  {
   "cell_type": "code",
   "execution_count": 26,
   "id": "725170d3-79af-485a-aa9f-8c14908b85cb",
   "metadata": {},
   "outputs": [],
   "source": [
    "def saludar_sin_retorno(): # Función sin retorno y sin parametros\n",
    "    print(\"¡Hola! Bienvenido a su asistente de data analitycs\")"
   ]
  },
  {
   "cell_type": "code",
   "execution_count": 27,
   "id": "acc37d63-26e3-49c2-88f8-181615a700c0",
   "metadata": {},
   "outputs": [
    {
     "name": "stdout",
     "output_type": "stream",
     "text": [
      "¡Hola! Bienvenido a su asistente de data analitycs\n"
     ]
    }
   ],
   "source": [
    "# Llamada a la función sin retorno\n",
    "saludar_sin_retorno()"
   ]
  },
  {
   "cell_type": "markdown",
   "id": "1a7953ed-d45f-46c4-85c3-00f6cd4f5ca9",
   "metadata": {},
   "source": [
    "### Ejercicio 3.2\n",
    "\n",
    "Ahora veamos una función sin retorno y con parametros\n",
    "\n",
    "En python podemos pasarle parametros (informacion) a la función para poder despues utilizarlos adentro"
   ]
  },
  {
   "cell_type": "code",
   "execution_count": 28,
   "id": "81dbc547-6610-48f1-b30a-5757d35c40b9",
   "metadata": {},
   "outputs": [],
   "source": [
    "def saludar_usuario(nombre):\n",
    "    print(\"Bienvenido:\", nombre)"
   ]
  },
  {
   "cell_type": "code",
   "execution_count": 29,
   "id": "be31f4f5-add1-4c91-88f3-aa3be3e75f57",
   "metadata": {},
   "outputs": [
    {
     "name": "stdout",
     "output_type": "stream",
     "text": [
      "Bienvenido: Andrés Muñoz\n"
     ]
    }
   ],
   "source": [
    "usuario = \"Andrés Muñoz\"\n",
    "\n",
    "saludar_usuario(usuario)"
   ]
  },
  {
   "cell_type": "markdown",
   "id": "f958cd75-a76f-4502-b4e9-9d63916fc279",
   "metadata": {},
   "source": [
    "### Ejercicio 3.3\n",
    "\n",
    "Ahora veamos una función con retorno y con parametros"
   ]
  },
  {
   "cell_type": "code",
   "execution_count": 30,
   "id": "8ae3d824-47bb-4c83-b9f8-e690f754c64a",
   "metadata": {},
   "outputs": [],
   "source": [
    "def sumar(a, b): # Función con retorno y con parametros\n",
    "    return a + b"
   ]
  },
  {
   "cell_type": "code",
   "execution_count": 31,
   "id": "6d4d59e8-886a-4a5d-bdde-173d32c96c09",
   "metadata": {},
   "outputs": [
    {
     "name": "stdout",
     "output_type": "stream",
     "text": [
      "El resultado de la suma es: 8\n"
     ]
    }
   ],
   "source": [
    "# Llamada a la función con retorno\n",
    "resultado_suma = sumar(3, 5)\n",
    "print(\"El resultado de la suma es:\", resultado_suma)"
   ]
  },
  {
   "cell_type": "markdown",
   "id": "e9c32572-09c8-4612-9e3e-795edfb084e0",
   "metadata": {},
   "source": [
    "### Ejericio 3.4\n",
    "\n",
    "Mucho cuidado porque el orden de los argumentos al llamar a una función con parámetros debe coincidir con el orden de los parámetros definidos en la función."
   ]
  },
  {
   "cell_type": "code",
   "execution_count": 32,
   "id": "da5bf06b-f4ec-4ef7-80f6-60354bf52b4b",
   "metadata": {},
   "outputs": [],
   "source": [
    "def resta(a, b): # Función con parámetros y retorno\n",
    "    return a - b"
   ]
  },
  {
   "cell_type": "code",
   "execution_count": 33,
   "id": "b7e10eb0-a462-4bcb-9f3b-cd052afb47ed",
   "metadata": {},
   "outputs": [
    {
     "name": "stdout",
     "output_type": "stream",
     "text": [
      "El resultado de la resta es: 5\n"
     ]
    }
   ],
   "source": [
    "# Llamada a la función con los argumentos en orden\n",
    "resultado_resta = resta(10, 5)\n",
    "print(\"El resultado de la resta es:\", resultado_resta)"
   ]
  },
  {
   "cell_type": "code",
   "execution_count": 34,
   "id": "2bea25d1-2598-42ec-a815-1a1ae2d5433f",
   "metadata": {},
   "outputs": [
    {
     "name": "stdout",
     "output_type": "stream",
     "text": [
      "El resultado de la resta es: -5\n"
     ]
    }
   ],
   "source": [
    "#Si invertimos el orden vamos a obtener otro resultado obviamente\n",
    "resultado_resta = resta(5, 10)\n",
    "print(\"El resultado de la resta es:\", resultado_resta)"
   ]
  },
  {
   "cell_type": "code",
   "execution_count": 35,
   "id": "9639dbfb-329c-4023-8c2e-78c406545930",
   "metadata": {},
   "outputs": [
    {
     "name": "stdout",
     "output_type": "stream",
     "text": [
      "El resultado de la resta (con otro orden de argumentos) es: 5\n"
     ]
    }
   ],
   "source": [
    "# Llamada a la función con los argumentos en diferente orden\n",
    "resultado_resta_otro_orden = resta(b=5, a=10) # Aunque el orden cambia, la función toma los argumentos en la misma posición que fueron definidos\n",
    "print(\"El resultado de la resta (con otro orden de argumentos) es:\", resultado_resta_otro_orden)"
   ]
  }
 ],
 "metadata": {
  "kernelspec": {
   "display_name": "Python 3 (ipykernel)",
   "language": "python",
   "name": "python3"
  },
  "language_info": {
   "codemirror_mode": {
    "name": "ipython",
    "version": 3
   },
   "file_extension": ".py",
   "mimetype": "text/x-python",
   "name": "python",
   "nbconvert_exporter": "python",
   "pygments_lexer": "ipython3",
   "version": "3.11.5"
  }
 },
 "nbformat": 4,
 "nbformat_minor": 5
}
