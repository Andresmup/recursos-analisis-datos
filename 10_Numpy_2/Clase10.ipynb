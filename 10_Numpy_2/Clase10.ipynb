{
  "nbformat": 4,
  "nbformat_minor": 0,
  "metadata": {
    "colab": {
      "provenance": [],
      "authorship_tag": "ABX9TyMDV3xZ6Psr4E48erF42MpF",
      "include_colab_link": true
    },
    "kernelspec": {
      "name": "python3",
      "display_name": "Python 3"
    },
    "language_info": {
      "name": "python"
    }
  },
  "cells": [
    {
      "cell_type": "markdown",
      "metadata": {
        "id": "view-in-github",
        "colab_type": "text"
      },
      "source": [
        "<a href=\"https://colab.research.google.com/github/Andresmup/recursos-analisis-datos/blob/dev/10_Numpy_2/Clase10.ipynb\" target=\"_parent\"><img src=\"https://colab.research.google.com/assets/colab-badge.svg\" alt=\"Open In Colab\"/></a>"
      ]
    },
    {
      "cell_type": "markdown",
      "source": [
        "# NUMPY"
      ],
      "metadata": {
        "id": "9gvf5QZbzMw7"
      }
    },
    {
      "cell_type": "markdown",
      "source": [
        "## PARTE A"
      ],
      "metadata": {
        "id": "g3AgIOiazQQx"
      }
    },
    {
      "cell_type": "markdown",
      "source": [
        "### Ejercicio 1.0\n",
        "\n",
        "Importar los módulos necesarios"
      ],
      "metadata": {
        "id": "WmYlsqeMshEs"
      }
    },
    {
      "cell_type": "code",
      "source": [
        "import math\n",
        "import numpy as np"
      ],
      "metadata": {
        "id": "0C9Ub_52sooU"
      },
      "execution_count": 1,
      "outputs": []
    },
    {
      "cell_type": "markdown",
      "source": [
        "### Ejercicio 1.1\n",
        "\n",
        "Calculemos el producto matricial, la matriz transpuesta y el determinante."
      ],
      "metadata": {
        "id": "YOAJZGbGzW8p"
      }
    },
    {
      "cell_type": "code",
      "source": [
        "matriz1 = np.array([[1, 2], [3, 4]])\n",
        "matriz2 = np.array([[5, 6], [7, 8]])\n",
        "\n",
        "producto_matricial = np.matmul(matriz1, matriz2)\n",
        "transpuesta = np.transpose(matriz1)\n",
        "determinante = np.linalg.det(matriz1)\n",
        "\n",
        "print(\"Producto matricial:\")\n",
        "print(producto_matricial)\n",
        "print(\"Transpuesta de la matriz:\")\n",
        "print(transpuesta)\n",
        "print(\"Determinante de la matriz:\")\n",
        "print(determinante)\n",
        ""
      ],
      "metadata": {
        "colab": {
          "base_uri": "https://localhost:8080/"
        },
        "id": "JNVxKL0UzSEZ",
        "outputId": "8d4631e0-35f1-4d8d-f63c-8978366bce01"
      },
      "execution_count": 2,
      "outputs": [
        {
          "output_type": "stream",
          "name": "stdout",
          "text": [
            "Producto matricial:\n",
            "[[19 22]\n",
            " [43 50]]\n",
            "Transpuesta de la matriz:\n",
            "[[1 3]\n",
            " [2 4]]\n",
            "Determinante de la matriz:\n",
            "-2.0000000000000004\n"
          ]
        }
      ]
    },
    {
      "cell_type": "markdown",
      "source": [
        "### Ejercicio 1.2\n",
        "\n",
        "Numpy tiene una función especifica para resolver ecuaciones lineales"
      ],
      "metadata": {
        "id": "TywBwnWOzjMA"
      }
    },
    {
      "cell_type": "code",
      "source": [
        "coeficientes = np.array([[2, 3], [4, -1]])\n",
        "constantes = np.array([5, 2])\n",
        "\n",
        "solucion = np.linalg.solve(coeficientes, constantes)\n",
        "print(\"Solución del sistema de ecuaciones:\")\n",
        "print(\"x =\", solucion[0])\n",
        "print(\"y =\", solucion[1])"
      ],
      "metadata": {
        "colab": {
          "base_uri": "https://localhost:8080/"
        },
        "id": "0y5TJq_xzmz5",
        "outputId": "6fc4ac8b-a051-4b90-dbc2-32f2dda9782f"
      },
      "execution_count": 3,
      "outputs": [
        {
          "output_type": "stream",
          "name": "stdout",
          "text": [
            "Solución del sistema de ecuaciones:\n",
            "x = 0.7857142857142857\n",
            "y = 1.1428571428571428\n"
          ]
        }
      ]
    },
    {
      "cell_type": "markdown",
      "source": [
        "### Ejercicio 1.3\n",
        "\n",
        "Exploremos funciones para conocer las dimensiones de un array multidimensional"
      ],
      "metadata": {
        "id": "dULjXV0Wz0DJ"
      }
    },
    {
      "cell_type": "code",
      "source": [
        "array_multidimensional = np.array([[[0, 1, 2, 3],[4, 5, 6, 7]],\n",
        "                                    [[0, 1, 2, 3],[4, 5, 6, 7]],\n",
        "                                     [[0 ,1 ,2, 3],[4, 5, 6, 7]]])"
      ],
      "metadata": {
        "id": "IVAIZ261z76C"
      },
      "execution_count": 4,
      "outputs": []
    },
    {
      "cell_type": "code",
      "source": [
        "array_multidimensional.ndim"
      ],
      "metadata": {
        "colab": {
          "base_uri": "https://localhost:8080/"
        },
        "id": "ejiggOmV0K6N",
        "outputId": "16a34938-71bc-4aea-8a75-15e4da7f47c8"
      },
      "execution_count": 5,
      "outputs": [
        {
          "output_type": "execute_result",
          "data": {
            "text/plain": [
              "3"
            ]
          },
          "metadata": {},
          "execution_count": 5
        }
      ]
    },
    {
      "cell_type": "code",
      "source": [
        "array_multidimensional.size"
      ],
      "metadata": {
        "colab": {
          "base_uri": "https://localhost:8080/"
        },
        "id": "_idQxNeL0Nf0",
        "outputId": "af4099f7-e86a-44bd-cf38-aceb33ddad64"
      },
      "execution_count": 6,
      "outputs": [
        {
          "output_type": "execute_result",
          "data": {
            "text/plain": [
              "24"
            ]
          },
          "metadata": {},
          "execution_count": 6
        }
      ]
    },
    {
      "cell_type": "code",
      "source": [
        "array_multidimensional.shape"
      ],
      "metadata": {
        "colab": {
          "base_uri": "https://localhost:8080/"
        },
        "id": "Kzn29U-40PVD",
        "outputId": "5ab2579d-795c-40a1-cf41-8b46f0ceeeef"
      },
      "execution_count": 7,
      "outputs": [
        {
          "output_type": "execute_result",
          "data": {
            "text/plain": [
              "(3, 2, 4)"
            ]
          },
          "metadata": {},
          "execution_count": 7
        }
      ]
    },
    {
      "cell_type": "markdown",
      "source": [
        "### Ejercicio 1.4\n",
        "\n",
        "Veamos que posibilidades hay para indexar valores y separar un array"
      ],
      "metadata": {
        "id": "u_XS2Qed0lIW"
      }
    },
    {
      "cell_type": "code",
      "source": [
        "array_indexado = np.array([1, 2, 3, 4, 5, 6, 7])"
      ],
      "metadata": {
        "id": "ypdaTR350sZ8"
      },
      "execution_count": 8,
      "outputs": []
    },
    {
      "cell_type": "code",
      "source": [
        "array_indexado[0]"
      ],
      "metadata": {
        "colab": {
          "base_uri": "https://localhost:8080/"
        },
        "id": "5oUPTQCo01-B",
        "outputId": "ed37d979-07d7-4d20-a0bd-80679e07d2a7"
      },
      "execution_count": 9,
      "outputs": [
        {
          "output_type": "execute_result",
          "data": {
            "text/plain": [
              "1"
            ]
          },
          "metadata": {},
          "execution_count": 9
        }
      ]
    },
    {
      "cell_type": "code",
      "source": [
        "array_indexado[1]"
      ],
      "metadata": {
        "colab": {
          "base_uri": "https://localhost:8080/"
        },
        "id": "RO0ORLtZ0y6H",
        "outputId": "058c2e49-715a-49c0-99e4-dfa2132bf076"
      },
      "execution_count": 10,
      "outputs": [
        {
          "output_type": "execute_result",
          "data": {
            "text/plain": [
              "2"
            ]
          },
          "metadata": {},
          "execution_count": 10
        }
      ]
    },
    {
      "cell_type": "code",
      "source": [
        "array_indexado[0:2]"
      ],
      "metadata": {
        "colab": {
          "base_uri": "https://localhost:8080/"
        },
        "id": "x7qrnLs30xko",
        "outputId": "8efba1bb-da8a-435b-c254-e8449e59afdc"
      },
      "execution_count": 11,
      "outputs": [
        {
          "output_type": "execute_result",
          "data": {
            "text/plain": [
              "array([1, 2])"
            ]
          },
          "metadata": {},
          "execution_count": 11
        }
      ]
    },
    {
      "cell_type": "code",
      "source": [
        "array_indexado[4:]"
      ],
      "metadata": {
        "colab": {
          "base_uri": "https://localhost:8080/"
        },
        "id": "eqk_Piur03rc",
        "outputId": "4c286294-c1eb-4995-9dd8-18de3c5e5972"
      },
      "execution_count": 12,
      "outputs": [
        {
          "output_type": "execute_result",
          "data": {
            "text/plain": [
              "array([5, 6, 7])"
            ]
          },
          "metadata": {},
          "execution_count": 12
        }
      ]
    },
    {
      "cell_type": "code",
      "source": [
        "array_indexado[-1:]"
      ],
      "metadata": {
        "colab": {
          "base_uri": "https://localhost:8080/"
        },
        "id": "q-OJSVi606B7",
        "outputId": "dc69e5a6-5e1b-444a-b1a1-9128cd05502f"
      },
      "execution_count": 13,
      "outputs": [
        {
          "output_type": "execute_result",
          "data": {
            "text/plain": [
              "array([7])"
            ]
          },
          "metadata": {},
          "execution_count": 13
        }
      ]
    },
    {
      "cell_type": "markdown",
      "source": [
        "### Ejercicio 1.5\n",
        "\n",
        "Veamos como utilizar la funcion sort"
      ],
      "metadata": {
        "id": "2ZZwS-eX1PSH"
      }
    },
    {
      "cell_type": "code",
      "source": [
        "array_desordenado = np.array([3, 1, 5, 2, 4])\n",
        "\n",
        "array_ordenado = np.sort(array_desordenado)\n",
        "\n",
        "array_ordenado"
      ],
      "metadata": {
        "colab": {
          "base_uri": "https://localhost:8080/"
        },
        "id": "buaAjoXM1W-4",
        "outputId": "29ef2586-e5f5-4942-9d13-512660944612"
      },
      "execution_count": 14,
      "outputs": [
        {
          "output_type": "execute_result",
          "data": {
            "text/plain": [
              "array([1, 2, 3, 4, 5])"
            ]
          },
          "metadata": {},
          "execution_count": 14
        }
      ]
    },
    {
      "cell_type": "markdown",
      "source": [
        "### Ejericio 1.6\n",
        "\n",
        "Ademas de ordernar un array podemos invertir el orden de los valores"
      ],
      "metadata": {
        "id": "-pRBmlC92q3E"
      }
    },
    {
      "cell_type": "code",
      "source": [
        "array_original = np.array([1, 2, 3, 4, 11, 12, 13, 14, 15, 5, 6, 7, 8])\n",
        "\n",
        "array_reverso = np.flip(array_original)\n",
        "array_reverso"
      ],
      "metadata": {
        "colab": {
          "base_uri": "https://localhost:8080/"
        },
        "id": "uYsBvrQg2xxE",
        "outputId": "39166cc2-5e6b-4dc1-b182-845db62d64e4"
      },
      "execution_count": 15,
      "outputs": [
        {
          "output_type": "execute_result",
          "data": {
            "text/plain": [
              "array([ 8,  7,  6,  5, 15, 14, 13, 12, 11,  4,  3,  2,  1])"
            ]
          },
          "metadata": {},
          "execution_count": 15
        }
      ]
    },
    {
      "cell_type": "markdown",
      "source": [
        "### Ejercicio 1.7\n",
        "\n",
        "Crear un array con numeros aleatorios"
      ],
      "metadata": {
        "id": "SZBJ-f97174g"
      }
    },
    {
      "cell_type": "code",
      "source": [
        "rng = np.random.default_rng()"
      ],
      "metadata": {
        "id": "obaAHCAl2Jvl"
      },
      "execution_count": 16,
      "outputs": []
    },
    {
      "cell_type": "code",
      "source": [
        "rng.random(3)"
      ],
      "metadata": {
        "colab": {
          "base_uri": "https://localhost:8080/"
        },
        "id": "4FUei65I2Mmu",
        "outputId": "c2b548b0-e0ba-40a2-ac6f-b25ebdaefac8"
      },
      "execution_count": 17,
      "outputs": [
        {
          "output_type": "execute_result",
          "data": {
            "text/plain": [
              "array([0.90537163, 0.27359243, 0.90913706])"
            ]
          },
          "metadata": {},
          "execution_count": 17
        }
      ]
    },
    {
      "cell_type": "code",
      "source": [
        "rng.integers(5, size=(2, 4))"
      ],
      "metadata": {
        "colab": {
          "base_uri": "https://localhost:8080/"
        },
        "id": "m0TlNO3i13PO",
        "outputId": "3a4e7cbf-d679-49dd-d660-72a9227bf711"
      },
      "execution_count": 18,
      "outputs": [
        {
          "output_type": "execute_result",
          "data": {
            "text/plain": [
              "array([[3, 0, 3, 4],\n",
              "       [3, 2, 3, 3]])"
            ]
          },
          "metadata": {},
          "execution_count": 18
        }
      ]
    },
    {
      "cell_type": "markdown",
      "source": [
        "### Ejercicio 1.8\n",
        "\n",
        "Contar valores unicos dentro de un array"
      ],
      "metadata": {
        "id": "I-foGFem2Q50"
      }
    },
    {
      "cell_type": "code",
      "source": [
        "array_repetidos = np.array([11, 11, 12, 13, 14, 15, 16, 17, 12, 13, 11, 14, 18, 19, 20, 11, 12, 13, 14, 15, 16, 17, 11, 14, 18, 19, 20])\n",
        "\n",
        "array_unicos= np.unique(array_repetidos)\n",
        "array_unicos"
      ],
      "metadata": {
        "colab": {
          "base_uri": "https://localhost:8080/"
        },
        "id": "8FAu9LEn2YUr",
        "outputId": "360a9f47-3abf-485b-eaaf-8cafe8eb2fe6"
      },
      "execution_count": 19,
      "outputs": [
        {
          "output_type": "execute_result",
          "data": {
            "text/plain": [
              "array([11, 12, 13, 14, 15, 16, 17, 18, 19, 20])"
            ]
          },
          "metadata": {},
          "execution_count": 19
        }
      ]
    },
    {
      "cell_type": "markdown",
      "source": [
        "## Parte A\n",
        "\n",
        "Tenemos una función cúbica con la forma (3*x^3-7*x^2+6*x+9)"
      ],
      "metadata": {
        "id": "hMExTepJr5Kw"
      }
    },
    {
      "cell_type": "code",
      "source": [
        "def mi_funcion(x):\n",
        "    return 3 * x**3 - 7 * x**2 + 6 * x + 9"
      ],
      "metadata": {
        "id": "q4WgKIX5sPZO"
      },
      "execution_count": 20,
      "outputs": []
    },
    {
      "cell_type": "markdown",
      "source": [
        "### Ejercicio 2.1\n",
        "\n",
        "Calcular cuales serian los valores obtenidos al pasarle como argumentos los valores pares desde 0 a 20 incluyendo ambos. Guardar el resultado en un array."
      ],
      "metadata": {
        "id": "-R9goJ8HsGZU"
      }
    },
    {
      "cell_type": "code",
      "execution_count": 21,
      "metadata": {
        "id": "y06obTpYrt9u",
        "colab": {
          "base_uri": "https://localhost:8080/"
        },
        "outputId": "a9570f27-c017-4c05-cd62-8fd53edb5355"
      },
      "outputs": [
        {
          "output_type": "execute_result",
          "data": {
            "text/plain": [
              "array([ 0,  2,  4,  6,  8, 10, 12, 14, 16, 18, 20])"
            ]
          },
          "metadata": {},
          "execution_count": 21
        }
      ],
      "source": [
        "lista_valores_x = []\n",
        "for i in range(0, 21, 2):\n",
        "    lista_valores_x.append(i)\n",
        "input_array = np.array(lista_valores_x)\n",
        "input_array"
      ]
    },
    {
      "cell_type": "code",
      "source": [
        "output_array = mi_funcion(input_array)\n",
        "output_array"
      ],
      "metadata": {
        "id": "CCR5GpSgs4BV",
        "colab": {
          "base_uri": "https://localhost:8080/"
        },
        "outputId": "2771552a-aa16-43ce-aef8-a05a93eb7832"
      },
      "execution_count": 22,
      "outputs": [
        {
          "output_type": "execute_result",
          "data": {
            "text/plain": [
              "array([    9,    17,   113,   441,  1145,  2369,  4257,  6953, 10601,\n",
              "       15345, 21329])"
            ]
          },
          "metadata": {},
          "execution_count": 22
        }
      ]
    },
    {
      "cell_type": "markdown",
      "source": [
        "### Ejercicio 2.2\n",
        "\n",
        "Al array que obtuvimos en la sección anterior:\n",
        "\n",
        "*   Calcula la media de los números en el array que contiene los valores calculados.\n",
        "*   Calcula la desviación estándar de los números en el array calculado.\n",
        "*   Encuentra el valor máximo y su índice en el array calculado.\n",
        "*   Crea un nuevo array array_cuadrados que contenga el cuadrado de cada número en calculado.\n",
        "*   Crear un array con la suma acumulativa (a1, a1+a2, a1+a2+a3, .....) de los elementos en array_cuadrados.\n",
        "*   Crear un array con la raiz 5ta de cada valor de array_cuadrados (redondear a 2 decimales).\n",
        "\n",
        "\n",
        "\n",
        "\n",
        "Imprimir los resultados obtenidos."
      ],
      "metadata": {
        "id": "m2RPx7s5s7w2"
      }
    },
    {
      "cell_type": "code",
      "source": [
        "media = np.mean(output_array)\n",
        "\n",
        "desviacion_estandar = np.std(output_array)\n",
        "\n",
        "valor_maximo = np.max(output_array)\n",
        "\n",
        "indice_maximo = np.argmax(output_array)\n",
        "\n",
        "array_cuadrados = np.square(output_array)\n",
        "\n",
        "suma_acumulativa_cuadrados = np.cumsum(array_cuadrados)\n",
        "\n",
        "array_raiz_quinta = np.power(array_cuadrados, 1/5).round(2)\n",
        "\n",
        "print(\"Media:\", media)\n",
        "print(\"Desviación Estándar:\", desviacion_estandar)\n",
        "print(\"Valor Máximo:\", valor_maximo)\n",
        "print(\"Índice del Valor Máximo:\", indice_maximo)\n",
        "print(\"Valores al Cuadrado:\", array_cuadrados)\n",
        "print(\"Array Suma Acumulativa de Valores al Cuadrado:\", suma_acumulativa_cuadrados)\n",
        "print(\"Array Resultado Raiz Quinta:\", array_raiz_quinta)"
      ],
      "metadata": {
        "id": "4DvVX1LVs_Xo",
        "colab": {
          "base_uri": "https://localhost:8080/"
        },
        "outputId": "154bc3da-334e-4eaa-952b-fbaf216202c1"
      },
      "execution_count": 23,
      "outputs": [
        {
          "output_type": "stream",
          "name": "stdout",
          "text": [
            "Media: 5689.0\n",
            "Desviación Estándar: 6877.906658279102\n",
            "Valor Máximo: 21329\n",
            "Índice del Valor Máximo: 10\n",
            "Valores al Cuadrado: [       81       289     12769    194481   1311025   5612161  18122049\n",
            "  48344209 112381201 235469025 454926241]\n",
            "Array Suma Acumulativa de Valores al Cuadrado: [       81       370     13139    207620   1518645   7130806  25252855\n",
            "  73597064 185978265 421447290 876373531]\n",
            "Array Resultado Raiz Quinta: [ 2.41  3.11  6.63 11.42 16.73 22.38 28.29 34.42 40.75 47.25 53.9 ]\n"
          ]
        }
      ]
    },
    {
      "cell_type": "markdown",
      "source": [
        "### Ejercicio 2.3\n",
        "\n",
        "Con los arrays que obtuvimos en la sección anterior:\n",
        "\n",
        "*   Calcular el producto escalar (o producto punto) entre los array output y el array raiz quinta.\n",
        "*   Crear un vector con los 3 ultimos valores del array input. Crear un segundo vector con los 3 primeros valores del array suma acumulativa de los cuadrados. Calcular el array que daria como resultado hacer el producto vectorial entre ambos."
      ],
      "metadata": {
        "id": "oLrR4s5etF50"
      }
    },
    {
      "cell_type": "code",
      "source": [
        "resultado_producto_escalar = np.matmul(output_array,array_raiz_quinta).round(2)\n",
        "resultado_producto_escalar"
      ],
      "metadata": {
        "id": "1SJexuyftFkI",
        "colab": {
          "base_uri": "https://localhost:8080/"
        },
        "outputId": "27cfd933-74cf-4eae-f078-4594c0a8da59"
      },
      "execution_count": 24,
      "outputs": [
        {
          "output_type": "execute_result",
          "data": {
            "text/plain": [
              "2744461.93"
            ]
          },
          "metadata": {},
          "execution_count": 24
        }
      ]
    },
    {
      "cell_type": "code",
      "source": [
        "vector1 = input_array[-3:]\n",
        "vector2 = suma_acumulativa_cuadrados[:3]\n",
        "resultado_producto_vectorial = np.cross(vector1,vector2)\n",
        "resultado_producto_vectorial"
      ],
      "metadata": {
        "id": "WLKJaysvtLUe",
        "colab": {
          "base_uri": "https://localhost:8080/"
        },
        "outputId": "d8e34d18-0aac-4b58-a2ba-660ca8e2c68b"
      },
      "execution_count": 25,
      "outputs": [
        {
          "output_type": "execute_result",
          "data": {
            "text/plain": [
              "array([ 229102, -208604,    4462])"
            ]
          },
          "metadata": {},
          "execution_count": 25
        }
      ]
    }
  ]
}