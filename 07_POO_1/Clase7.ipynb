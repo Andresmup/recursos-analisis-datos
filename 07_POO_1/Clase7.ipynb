{
  "nbformat": 4,
  "nbformat_minor": 0,
  "metadata": {
    "colab": {
      "provenance": []
    },
    "kernelspec": {
      "name": "python3",
      "display_name": "Python 3"
    },
    "language_info": {
      "name": "python"
    }
  },
  "cells": [
    {
      "cell_type": "markdown",
      "source": [
        "# CLASE 7"
      ],
      "metadata": {
        "id": "ubAocivBe4tf"
      }
    },
    {
      "cell_type": "markdown",
      "source": [
        "## CLASES\n",
        "\n",
        "Una clase es una estructura fundamental para la programación orientada a objetos (POO).\n",
        "\n",
        "Una clase actual como un molde o plantilla que define las características y comportamientos de un tipo de objeto.\n",
        "\n",
        "Cuando definimos una clase tenemos que:\n",
        "- Especificar sus atributos (variables asociadas a la clase)\n",
        "- Definir métodos (funciones asociadas a la clase)\n",
        "\n",
        "Estas 2 cosas nor sirven para utilizar nuestra clase con cierto proposito"
      ],
      "metadata": {
        "id": "AOTCdBYqe8Pz"
      }
    },
    {
      "cell_type": "markdown",
      "source": [
        "### Ejercicio 1.0\n",
        "\n",
        "Veamos nuestro primer ejemplo de una clase sobre simplificada usando la estructura mínima y muestro como acceder a sus valores. Para ello uso:\n",
        "\n",
        "**class** `<NombreClase>` **:**\n",
        "\n",
        "Nota: Vamos a ver los nombres de las clases en mayusculas\n",
        "\n",
        "Creemos una clase llamada Numero con un valor numerico adentro."
      ],
      "metadata": {
        "id": "N_4u_90Wf4-K"
      }
    },
    {
      "cell_type": "code",
      "execution_count": 1,
      "metadata": {
        "id": "OBaPEU9ieU8R"
      },
      "outputs": [],
      "source": [
        "class Numero: #Defino mi clase\n",
        "  valor = 5 #Defino los valores que toma"
      ]
    },
    {
      "cell_type": "code",
      "source": [
        "Numero.valor #Puedo acceder a info (valor) alojada en mi clase Numero asi"
      ],
      "metadata": {
        "colab": {
          "base_uri": "https://localhost:8080/"
        },
        "id": "kbFSMgxFguAi",
        "outputId": "108dc79b-65b4-48f6-ac0a-87193a0cb425"
      },
      "execution_count": 2,
      "outputs": [
        {
          "output_type": "execute_result",
          "data": {
            "text/plain": [
              "5"
            ]
          },
          "metadata": {},
          "execution_count": 2
        }
      ]
    },
    {
      "cell_type": "code",
      "source": [
        "Numero.valor = 3 #Si accedo al atributo de la clase podria alterarlo"
      ],
      "metadata": {
        "id": "7T38iNTfhKqi"
      },
      "execution_count": 3,
      "outputs": []
    },
    {
      "cell_type": "code",
      "source": [
        "Numero.valor #Vemos como este valor no esta protegido de ninguna forma a cambios"
      ],
      "metadata": {
        "colab": {
          "base_uri": "https://localhost:8080/"
        },
        "id": "bU_ebwaChXJW",
        "outputId": "e45bd5d2-db13-42af-e9f3-842ea14a9977"
      },
      "execution_count": 4,
      "outputs": [
        {
          "output_type": "execute_result",
          "data": {
            "text/plain": [
              "3"
            ]
          },
          "metadata": {},
          "execution_count": 4
        }
      ]
    },
    {
      "cell_type": "markdown",
      "source": [
        "### Ejercicio 1.1\n",
        "\n",
        "Realmente no es muy util crear clases asi ya que una vez definida la clase no se pueden crear nuevas clases usando ese prototipo.\n",
        "\n",
        "Ademas de que los atributos serian vulnerables a sufrir cambios\n",
        "\n",
        "Es por ello que se utliza una funcion llamada **__init__()** la cual va adentro de nuestra clase. Esta función viene incluida adentro de nuestra clase y siempre se ejecuta cuando la clase es iniciada.\n",
        "\n",
        "La función __init__() nos permite asignar valores a atributos y realizar operaciones apenas se inicializa nuestra clase.\n",
        "\n",
        "Ademas **self** es una convención que se utiliza dentro de los métodos de una clase para hacer referencia a la instancia actual de la clase. Es un parámetro implícito que **debe ser el primer parámetro de cualquier método de instancia** (métodos dentro de una clase).\n",
        "\n",
        "Veamos un ejemplo con una clase Persona con nombre y edad como atributos."
      ],
      "metadata": {
        "id": "1GjCAraXg-Zc"
      }
    },
    {
      "cell_type": "code",
      "source": [
        "class Persona: #Definimos nuestra clase\n",
        "  def __init__(self,nombre,edad): #Usamos el metodo __init__\n",
        "    self.nombre = nombre #Asignamos el parametro nombre de nuestra función al atributo en la clase\n",
        "    self.edad = edad #Asignamos el parametro edad de nuestra función al atributo en la clase"
      ],
      "metadata": {
        "id": "GmSODC2EiH_A"
      },
      "execution_count": 5,
      "outputs": []
    },
    {
      "cell_type": "code",
      "source": [
        "persona1 = Persona(\"Andres\",25) #Creo una instancia de mi clase\n",
        "persona1.nombre, persona1.edad  #Puedo acceder a sus atributos"
      ],
      "metadata": {
        "colab": {
          "base_uri": "https://localhost:8080/"
        },
        "id": "tNm9Mx_qjYTJ",
        "outputId": "d9921dfc-a7ba-4899-fcdc-79e88274279b"
      },
      "execution_count": 6,
      "outputs": [
        {
          "output_type": "execute_result",
          "data": {
            "text/plain": [
              "('Andres', 25)"
            ]
          },
          "metadata": {},
          "execution_count": 6
        }
      ]
    },
    {
      "cell_type": "code",
      "source": [
        "persona2 = Persona(\"Maria\", 23) #Reutilizo mi clase como si fuera un molde\n",
        "persona2.nombre, persona2.edad"
      ],
      "metadata": {
        "colab": {
          "base_uri": "https://localhost:8080/"
        },
        "id": "sQdhuZaujpj8",
        "outputId": "0d33f13b-e5c4-4c77-e36f-5245547acffb"
      },
      "execution_count": 7,
      "outputs": [
        {
          "output_type": "execute_result",
          "data": {
            "text/plain": [
              "('Maria', 23)"
            ]
          },
          "metadata": {},
          "execution_count": 7
        }
      ]
    },
    {
      "cell_type": "markdown",
      "source": [
        "### Ejercicio 1.2\n",
        "\n",
        "Tambien hay otra función especial, __str__() nos sirve para especificar como queremos que se vea nuestra clase al imprimirla.\n",
        "\n",
        "Hagamos un ejemplo creando una clase ColorSinStr y otra ColorConStr\n",
        "\n",
        "Nota: Veamos como self permite usar los atributos de nuestra clase en cualquier parte de las funciones que esta tiene."
      ],
      "metadata": {
        "id": "8Tu7HQuvkNt7"
      }
    },
    {
      "cell_type": "code",
      "source": [
        "class ColorSinStr:\n",
        "  def __init__(self, color, valor_hexa):\n",
        "    self.color = color\n",
        "    self.valor_hexa = valor_hexa"
      ],
      "metadata": {
        "id": "PLh6s0IIkhNL"
      },
      "execution_count": 8,
      "outputs": []
    },
    {
      "cell_type": "code",
      "source": [
        "class ColorConStr:\n",
        "  def __init__(self, color, valor_hexa):\n",
        "    self.color = color\n",
        "    self.valor_hexa = valor_hexa\n",
        "\n",
        "  def __str__(self):\n",
        "    return f\"El color elejido es {self.color} y su valor hexadecimal es {self.valor_hexa}\""
      ],
      "metadata": {
        "id": "h8nnkZ--lLOp"
      },
      "execution_count": 9,
      "outputs": []
    },
    {
      "cell_type": "markdown",
      "source": [
        "Creemos una instancia de nuestra clase ColorSinStr"
      ],
      "metadata": {
        "id": "I7Oxhh9ZmH39"
      }
    },
    {
      "cell_type": "code",
      "source": [
        "color_rojo_sin_str = ColorSinStr(\"Rojo\", \"#FF0000\") #Definimos nuestro objeto\n",
        "color_rojo_sin_str.color, color_rojo_sin_str.valor_hexa #Vemos que sus atributos funcionan perfectamente"
      ],
      "metadata": {
        "colab": {
          "base_uri": "https://localhost:8080/"
        },
        "id": "NK3Kr-Wwlsp9",
        "outputId": "0de14601-f7cf-4e4b-99c3-bc12e568eef2"
      },
      "execution_count": 10,
      "outputs": [
        {
          "output_type": "execute_result",
          "data": {
            "text/plain": [
              "('Rojo', '#FF0000')"
            ]
          },
          "metadata": {},
          "execution_count": 10
        }
      ]
    },
    {
      "cell_type": "code",
      "source": [
        "print(color_rojo_sin_str) #Comprobemos que pasa al imprimir el objecto color_rojo_sin_str"
      ],
      "metadata": {
        "colab": {
          "base_uri": "https://localhost:8080/"
        },
        "id": "DVi6sC4ll62f",
        "outputId": "02e5804c-1b14-42e1-fda3-75bafe5f6b5f"
      },
      "execution_count": 11,
      "outputs": [
        {
          "output_type": "stream",
          "name": "stdout",
          "text": [
            "<__main__.ColorSinStr object at 0x7f6f976adae0>\n"
          ]
        }
      ]
    },
    {
      "cell_type": "markdown",
      "source": [
        "Ahora repitamos usando nuestra clase ColorConStr"
      ],
      "metadata": {
        "id": "pGZ62e5xmdPh"
      }
    },
    {
      "cell_type": "code",
      "source": [
        "color_rojo_con_str = ColorConStr(\"Rojo\", \"#FF0000\") #Definimos nuestro objeto\n",
        "color_rojo_con_str.color, color_rojo_con_str.valor_hexa #Vemos que sus atributos funcionan perfectamente"
      ],
      "metadata": {
        "colab": {
          "base_uri": "https://localhost:8080/"
        },
        "id": "Hju9oWhOl7y9",
        "outputId": "e81d11b6-6733-4266-e327-73e1b0646cc5"
      },
      "execution_count": 12,
      "outputs": [
        {
          "output_type": "execute_result",
          "data": {
            "text/plain": [
              "('Rojo', '#FF0000')"
            ]
          },
          "metadata": {},
          "execution_count": 12
        }
      ]
    },
    {
      "cell_type": "code",
      "source": [
        "print(color_rojo_con_str) #Vemos como ahora al imprimir color_rojo_con_str esta sigue \"magicamente\" la forma que le dimos en __str__"
      ],
      "metadata": {
        "colab": {
          "base_uri": "https://localhost:8080/"
        },
        "id": "6FUGKg8Ol-yR",
        "outputId": "7f051311-e9d8-4bf0-9566-893e427b51e6"
      },
      "execution_count": 13,
      "outputs": [
        {
          "output_type": "stream",
          "name": "stdout",
          "text": [
            "El color elejido es Rojo y su valor hexadecimal es #FF0000\n"
          ]
        }
      ]
    },
    {
      "cell_type": "markdown",
      "source": [
        "### Ejercicio 1.3\n",
        "\n",
        "Si nosotros definimos los valores default dentro de nuestra función __init__() estos seran aplicados a la clase en caso de no ser alterados\n",
        "\n",
        "Veamos un ejemplo con una clase llamada AlumnoAlkemy que tenga los atributos nombre, lenguaje_programacion y activo."
      ],
      "metadata": {
        "id": "P4F8Mg0zoU11"
      }
    },
    {
      "cell_type": "code",
      "source": [
        "class AlumnoAlkemy:\n",
        "  def __init__(self, nombre, lenguaje_programacion=\"Python\", activo=True): #Definimos a python como valor default de lenguaje_programacion y a True para activo\n",
        "    self.nombre = nombre\n",
        "    self.lenguaje_programacion = lenguaje_programacion\n",
        "    self.activo = activo\n",
        "  def __str__(self):\n",
        "    return f\"Alumno: {self.nombre} \\nActivo: {self.activo} \\nEstudia: {self.lenguaje_programacion}\""
      ],
      "metadata": {
        "id": "5jaX-OFSoUXs"
      },
      "execution_count": 14,
      "outputs": []
    },
    {
      "cell_type": "code",
      "source": [
        "alumno1 = AlumnoAlkemy(\"Facundo\",\"Java\", False)\n",
        "print(alumno1)"
      ],
      "metadata": {
        "colab": {
          "base_uri": "https://localhost:8080/"
        },
        "id": "szkQWFXzpXpj",
        "outputId": "49be5069-8c19-4515-9337-11809888d4af"
      },
      "execution_count": 15,
      "outputs": [
        {
          "output_type": "stream",
          "name": "stdout",
          "text": [
            "Alumno: Facundo \n",
            "Activo: False \n",
            "Estudia: Java\n"
          ]
        }
      ]
    },
    {
      "cell_type": "code",
      "source": [
        "alumno2 = AlumnoAlkemy(\"Silvia\")\n",
        "print(alumno2)"
      ],
      "metadata": {
        "colab": {
          "base_uri": "https://localhost:8080/"
        },
        "id": "2xj9B7HfphvH",
        "outputId": "91debc52-5b4f-4ee9-d61b-c8b05cbbffe7"
      },
      "execution_count": 16,
      "outputs": [
        {
          "output_type": "stream",
          "name": "stdout",
          "text": [
            "Alumno: Silvia \n",
            "Activo: True \n",
            "Estudia: Python\n"
          ]
        }
      ]
    },
    {
      "cell_type": "markdown",
      "source": [
        "### Ejercicio 1.4\n",
        "\n",
        "Ya vimos las funciones \"magicas\" que traen las clases de Python.\n",
        "\n",
        "Pero realmente nosotros podemos definir nuestras propias funciones dentro de una clase, a estas se las conoce como métodos.\n",
        "\n",
        "Creemos una clase moto donde sus atributos sean:\n",
        "- Marca\n",
        "- Capacidad del tanque (L)\n",
        "- Rendimiento por cada litro de combustible (Km/L)\n",
        "- Tiempo andado (h)\n",
        "- Velocidad Media (Km/h)\n",
        "\n",
        "Ademas queremos crear un método (función) el cual nos calcule la distancia restante que le queda a la moto en base a esta fórmula:\n",
        "\n",
        "Distancia Restante (Km) = (Combustible (L) x Rendimiento (Km/L) ) - (Tiempo andado (h) x Velocidad Media (Km/h) )"
      ],
      "metadata": {
        "id": "XmbSsQRin58U"
      }
    },
    {
      "cell_type": "code",
      "source": [
        "class Moto():\n",
        "  def __init__(self, marca, capacidad_tanque, rendimiento, tiempo_andado, velocidad_media):\n",
        "    self.marca = marca\n",
        "    self.capacidad_tanque = capacidad_tanque\n",
        "    self.rendimiento = rendimiento\n",
        "    self.tiempo_andado = tiempo_andado\n",
        "    self.velocidad_media = velocidad_media\n",
        "\n",
        "  def __str__(self):\n",
        "    return f\"La moto {self.marca} lleva una velodidad media de {self.velocidad_media} k/m y hace {self.tiempo_andado} hs que lleva andando\"\n",
        "\n",
        "  def distanciaRestante(self): #Creo mi función distanciaRestante\n",
        "    return (self.capacidad_tanque * self.rendimiento) - (self.tiempo_andado * self.velocidad_media) #Retorno el valor calculado de mis km restantes"
      ],
      "metadata": {
        "id": "nOxQDpkGqCoz"
      },
      "execution_count": 17,
      "outputs": []
    },
    {
      "cell_type": "code",
      "source": [
        "moto1 = Moto(\"honda\", 20, 5, 3, 30)\n",
        "print(moto1)"
      ],
      "metadata": {
        "colab": {
          "base_uri": "https://localhost:8080/"
        },
        "id": "wfXDt9YJt_PM",
        "outputId": "148180ef-c803-4456-d3e8-cc64ab670bd8"
      },
      "execution_count": 18,
      "outputs": [
        {
          "output_type": "stream",
          "name": "stdout",
          "text": [
            "La moto honda lleva una velodidad media de 30 k/m y hace 3 hs que lleva andando\n"
          ]
        }
      ]
    },
    {
      "cell_type": "code",
      "source": [
        "distancia_restante_moto1 = moto1.distanciaRestante()\n",
        "distancia_restante_moto1"
      ],
      "metadata": {
        "colab": {
          "base_uri": "https://localhost:8080/"
        },
        "id": "oXlT97zGuT5i",
        "outputId": "e8061848-191d-4696-9073-37c3284368c4"
      },
      "execution_count": 19,
      "outputs": [
        {
          "output_type": "execute_result",
          "data": {
            "text/plain": [
              "10"
            ]
          },
          "metadata": {},
          "execution_count": 19
        }
      ]
    },
    {
      "cell_type": "markdown",
      "source": [
        "### Ejercicio 1.5\n",
        "\n",
        "Práctiquemos con otro ejercicio mas:\n",
        "\n",
        "Vaos a crear una clase llamada Vehiculo que represente un vehículo con atributos como marca, modelo, color y velocidad. Implementar métodos para acelerar, girar, frenar y estacionar el vehículo.\n",
        "\n",
        "Recordemos que hay que seguir estos pasos\n",
        "- Define la clase Vehiculo con un constructor __init__.\n",
        "- Definamos como queremos que se muestre nuestro print\n",
        "- Implementa métodos acelerar, girar, frenar y estacionar.\n",
        "    - En caso de frenar hay que tener en cuenta si el vehiculo se mueve o no\n",
        "\n",
        "  \n",
        "Crea dos instancias de Vehiculo con diferentes características.\n",
        "Utiliza los métodos de cada instancia para simular acciones de manejo."
      ],
      "metadata": {
        "id": "WpA4f0PpvEpO"
      }
    },
    {
      "cell_type": "code",
      "source": [
        "class Vehiculo:\n",
        "  def __init__(self, marca, modelo, color='negro', velocidad=0):\n",
        "    self.marca = marca\n",
        "    self.modelo = modelo\n",
        "    self.color = color\n",
        "    self.velocidad = velocidad\n",
        "\n",
        "  def __str__(self):\n",
        "    return f\"Marca: {self.marca} \\nModelo: {self.modelo} \\nColor: {self.color}\"\n",
        "\n",
        "  def acelerar(self, incremento):\n",
        "    self.velocidad += incremento\n",
        "    print(f\"El vehículo {self.marca} {self.modelo} acelera a {self.velocidad} km/h.\")\n",
        "\n",
        "  def girar(self, direccion):\n",
        "    print(f\"El vehículo {self.marca} {self.modelo} gira hacia {direccion}.\")\n",
        "\n",
        "  def frenar(self, decremento):\n",
        "    if self.velocidad - decremento > 0:\n",
        "      self.velocidad -= decremento\n",
        "      print(f\"El vehículo {self.marca} {self.modelo} frena a {self.velocidad} km/h.\")\n",
        "    else:\n",
        "      print(\"El vehículo ya está detenido.\")\n",
        "\n",
        "  def estacionar(self):\n",
        "    print(f\"El vehículo {self.marca} {self.modelo} se está estacionando.\")"
      ],
      "metadata": {
        "id": "BDQG9kPyvJH7"
      },
      "execution_count": 20,
      "outputs": []
    },
    {
      "cell_type": "code",
      "source": [
        "vehiculo1 = Vehiculo(\"Toyota\", \"Corolla\", \"rojo\")\n",
        "print(vehiculo1)\n",
        "vehiculo1.acelerar(50)\n",
        "vehiculo1.girar(\"izquierda\")\n",
        "vehiculo1.frenar(20)\n",
        "vehiculo1.estacionar()"
      ],
      "metadata": {
        "colab": {
          "base_uri": "https://localhost:8080/"
        },
        "id": "olzfzltDvKh1",
        "outputId": "9e13b10e-a570-4daa-8e8e-550cedb428fa"
      },
      "execution_count": 21,
      "outputs": [
        {
          "output_type": "stream",
          "name": "stdout",
          "text": [
            "Marca: Toyota \n",
            "Modelo: Corolla \n",
            "Color: rojo\n",
            "El vehículo Toyota Corolla acelera a 50 km/h.\n",
            "El vehículo Toyota Corolla gira hacia izquierda.\n",
            "El vehículo Toyota Corolla frena a 30 km/h.\n",
            "El vehículo Toyota Corolla se está estacionando.\n"
          ]
        }
      ]
    },
    {
      "cell_type": "code",
      "source": [
        "vehiculo2 = Vehiculo(\"Ford\", \"Fiesta\", \"azul\", 30)\n",
        "print(vehiculo2)\n",
        "vehiculo2.acelerar(30)\n",
        "vehiculo2.girar(\"derecha\")\n",
        "vehiculo2.frenar(60)"
      ],
      "metadata": {
        "colab": {
          "base_uri": "https://localhost:8080/"
        },
        "id": "cgVXItkjvLvG",
        "outputId": "a74146c8-e8db-4896-9388-452efd990ed9"
      },
      "execution_count": 22,
      "outputs": [
        {
          "output_type": "stream",
          "name": "stdout",
          "text": [
            "Marca: Ford \n",
            "Modelo: Fiesta \n",
            "Color: azul\n",
            "El vehículo Ford Fiesta acelera a 60 km/h.\n",
            "El vehículo Ford Fiesta gira hacia derecha.\n",
            "El vehículo ya está detenido.\n"
          ]
        }
      ]
    },
    {
      "cell_type": "markdown",
      "source": [
        "### Ejercicio 1.6\n",
        "\n",
        "En el caso de que queramos que los atributos de nuestra clase no puedan ser ni accedidos ni modificados una vez nuestro objeto sea creado debemos aplicar los principios del encampsulamiento. Los cuales simplemente requieren usar **__** adelante de los valores de nuestros atributos en la funcion __init__()\n",
        "\n",
        "Creemos una clase Empleado el cual siga los principios de encapsulamieto para sus atributos nombre, apellido, puesto y activo. Recordemos que podemos crear metodos en caso de querer mostrar los atributos uno a uno o directamente con __str__."
      ],
      "metadata": {
        "id": "T1TT8LjT3tpd"
      }
    },
    {
      "cell_type": "code",
      "source": [
        "class Empleado():\n",
        "  def __init__(self, nombre, apellido, puesto, activo=True):\n",
        "    self.__nombre = nombre\n",
        "    self.__apellido = apellido\n",
        "    self.__puesto = puesto\n",
        "    self.activo = activo\n",
        "\n",
        "  def __str__(self):\n",
        "    return f\"Nombre {self.__nombre} \\nApellido: {self.__apellido} \\nPuesto: {self.__puesto} \\nActivo: {self.activo}\"\n",
        "\n",
        "  def showNombre(self):\n",
        "    print(self.__nombre)\n",
        "\n",
        "  def showApellido(self):\n",
        "    print(self.__apellido)\n",
        "\n",
        "  def showPuesto(self):\n",
        "    print(self.__puesto)"
      ],
      "metadata": {
        "id": "BjORWFVM4WMt"
      },
      "execution_count": 23,
      "outputs": []
    },
    {
      "cell_type": "code",
      "source": [
        "empleado1 = Empleado(\"Andres\", \"Muñoz\", \"profesor\") #Creamos el objeto\n",
        "print(empleado1) #Usamos __str__ para mostrar todos los valores"
      ],
      "metadata": {
        "colab": {
          "base_uri": "https://localhost:8080/"
        },
        "id": "voJyK7jI5MPS",
        "outputId": "040088d1-6966-47e0-a91a-d819fb82aac5"
      },
      "execution_count": 24,
      "outputs": [
        {
          "output_type": "stream",
          "name": "stdout",
          "text": [
            "Nombre Andres \n",
            "Apellido: Muñoz \n",
            "Puesto: profesor \n",
            "Activo: True\n"
          ]
        }
      ]
    },
    {
      "cell_type": "markdown",
      "source": [
        "Si quisieramos acceder directamente o ver los atributos nombre, apellido o profesion no podriamos. Solo podemos con activo."
      ],
      "metadata": {
        "id": "CB7iEqda6WCs"
      }
    },
    {
      "cell_type": "code",
      "source": [
        "empleado1.nombre #No podemos acceder a nombre"
      ],
      "metadata": {
        "colab": {
          "base_uri": "https://localhost:8080/",
          "height": 141
        },
        "id": "sNiieCEt6U2D",
        "outputId": "90e45dcc-bfce-4140-f86f-d907a9199c09"
      },
      "execution_count": 25,
      "outputs": [
        {
          "output_type": "error",
          "ename": "AttributeError",
          "evalue": "'Empleado' object has no attribute 'nombre'",
          "traceback": [
            "\u001b[0;31m---------------------------------------------------------------------------\u001b[0m",
            "\u001b[0;31mAttributeError\u001b[0m                            Traceback (most recent call last)",
            "\u001b[0;32m<ipython-input-25-4a8f0f73ecd5>\u001b[0m in \u001b[0;36m<cell line: 1>\u001b[0;34m()\u001b[0m\n\u001b[0;32m----> 1\u001b[0;31m \u001b[0mempleado1\u001b[0m\u001b[0;34m.\u001b[0m\u001b[0mnombre\u001b[0m \u001b[0;31m#No podemos acceder a nombre\u001b[0m\u001b[0;34m\u001b[0m\u001b[0;34m\u001b[0m\u001b[0m\n\u001b[0m",
            "\u001b[0;31mAttributeError\u001b[0m: 'Empleado' object has no attribute 'nombre'"
          ]
        }
      ]
    },
    {
      "cell_type": "code",
      "source": [
        "empleado1.apellido #No podemos acceder a apellido"
      ],
      "metadata": {
        "colab": {
          "base_uri": "https://localhost:8080/",
          "height": 141
        },
        "id": "fk0j3ZiZ6lJC",
        "outputId": "eb5ffdd3-e0e3-40ae-a746-9a38f6e2bfd9"
      },
      "execution_count": 26,
      "outputs": [
        {
          "output_type": "error",
          "ename": "AttributeError",
          "evalue": "'Empleado' object has no attribute 'apellido'",
          "traceback": [
            "\u001b[0;31m---------------------------------------------------------------------------\u001b[0m",
            "\u001b[0;31mAttributeError\u001b[0m                            Traceback (most recent call last)",
            "\u001b[0;32m<ipython-input-26-50b7aacb6b0a>\u001b[0m in \u001b[0;36m<cell line: 1>\u001b[0;34m()\u001b[0m\n\u001b[0;32m----> 1\u001b[0;31m \u001b[0mempleado1\u001b[0m\u001b[0;34m.\u001b[0m\u001b[0mapellido\u001b[0m \u001b[0;31m#No podemos acceder a apellido\u001b[0m\u001b[0;34m\u001b[0m\u001b[0;34m\u001b[0m\u001b[0m\n\u001b[0m",
            "\u001b[0;31mAttributeError\u001b[0m: 'Empleado' object has no attribute 'apellido'"
          ]
        }
      ]
    },
    {
      "cell_type": "code",
      "source": [
        "empleado1.puesto #No podemos acceder a puesto"
      ],
      "metadata": {
        "colab": {
          "base_uri": "https://localhost:8080/",
          "height": 141
        },
        "id": "FFNrol1v6mUx",
        "outputId": "ca235f9f-ce25-4543-e9a2-33d30d7544f2"
      },
      "execution_count": 27,
      "outputs": [
        {
          "output_type": "error",
          "ename": "AttributeError",
          "evalue": "'Empleado' object has no attribute 'puesto'",
          "traceback": [
            "\u001b[0;31m---------------------------------------------------------------------------\u001b[0m",
            "\u001b[0;31mAttributeError\u001b[0m                            Traceback (most recent call last)",
            "\u001b[0;32m<ipython-input-27-a3932fcf92ec>\u001b[0m in \u001b[0;36m<cell line: 1>\u001b[0;34m()\u001b[0m\n\u001b[0;32m----> 1\u001b[0;31m \u001b[0mempleado1\u001b[0m\u001b[0;34m.\u001b[0m\u001b[0mpuesto\u001b[0m \u001b[0;31m#No podemos acceder a puesto\u001b[0m\u001b[0;34m\u001b[0m\u001b[0;34m\u001b[0m\u001b[0m\n\u001b[0m",
            "\u001b[0;31mAttributeError\u001b[0m: 'Empleado' object has no attribute 'puesto'"
          ]
        }
      ]
    },
    {
      "cell_type": "code",
      "source": [
        "empleado1.activo #Podemos ver activo"
      ],
      "metadata": {
        "colab": {
          "base_uri": "https://localhost:8080/"
        },
        "id": "0idfDvI56pfP",
        "outputId": "1979b048-ddcf-41b1-ecd0-cd497b488543"
      },
      "execution_count": 28,
      "outputs": [
        {
          "output_type": "execute_result",
          "data": {
            "text/plain": [
              "True"
            ]
          },
          "metadata": {},
          "execution_count": 28
        }
      ]
    },
    {
      "cell_type": "markdown",
      "source": [
        "Tenemos que usar nuestras funciones creadas"
      ],
      "metadata": {
        "id": "C0RAtJyl651s"
      }
    },
    {
      "cell_type": "code",
      "source": [
        "empleado1.showNombre()\n",
        "empleado1.showApellido()\n",
        "empleado1.showPuesto()"
      ],
      "metadata": {
        "colab": {
          "base_uri": "https://localhost:8080/"
        },
        "id": "OdmBjwMj65XI",
        "outputId": "41dadc69-b3bf-4e59-a1eb-1609f6b51f26"
      },
      "execution_count": 29,
      "outputs": [
        {
          "output_type": "stream",
          "name": "stdout",
          "text": [
            "Andres\n",
            "Muñoz\n",
            "profesor\n"
          ]
        }
      ]
    },
    {
      "cell_type": "markdown",
      "source": [
        "### Ejercicio 1.7\n",
        "\n",
        "En Python se puede usar la herencia entre clases, la cual nos permite crear clases a partir de otras clases heredando sus metodos y atributos; pudiendo sobreescribirlos.\n",
        "\n",
        "Creemos una clase padre llamada Animal con atributos:\n",
        "- Clase\n",
        "- Especie\n",
        "- Tipo\n",
        "\n",
        "Una clase hija llamada Perro la cual tambien tenga los atributos:\n",
        "- Nombre\n",
        "\n",
        "Y un metodo:\n",
        "- Dar la pata"
      ],
      "metadata": {
        "id": "eCT_O25g74Jf"
      }
    },
    {
      "cell_type": "code",
      "source": [
        "class Animal:\n",
        "  def __init__(self, clase, especie, tipo):\n",
        "    self.clase = clase\n",
        "    self.especie = especie\n",
        "    self.tipo = tipo\n",
        "  def __str__(self):\n",
        "    return f\"Clase: {self.clase}, Especie: {self.especie}, Tipo: {self.tipo}\"\n",
        ""
      ],
      "metadata": {
        "id": "9iCdw4658sCw"
      },
      "execution_count": 30,
      "outputs": []
    },
    {
      "cell_type": "code",
      "source": [
        "raton = Animal(\"Mamifero\",\"Roedor\",\"Salvaje\") #Creamos un objeto a partir de la clase animal\n",
        "print(raton)"
      ],
      "metadata": {
        "colab": {
          "base_uri": "https://localhost:8080/"
        },
        "id": "XF6tjk5E9vcy",
        "outputId": "7d36cf3d-41cf-4101-871a-1b091dd5c94f"
      },
      "execution_count": 31,
      "outputs": [
        {
          "output_type": "stream",
          "name": "stdout",
          "text": [
            "Clase: Mamifero, Especie: Roedor, Tipo: Salvaje\n"
          ]
        }
      ]
    },
    {
      "cell_type": "code",
      "source": [
        "class Perro(Animal):\n",
        "  def __init__(self, clase, especie, tipo, nombre):\n",
        "    super().__init__(clase, especie, tipo)\n",
        "    self.nombre = nombre\n",
        "\n",
        "  def __str__(self):\n",
        "    return f\"Nombre: {self.nombre}, Clase: {self.clase}, Especie: {self.especie}, Tipo: {self.tipo}\"\n",
        "\n",
        "  def dar_la_pata(self):\n",
        "    return f\"{self.nombre} da la pata.\""
      ],
      "metadata": {
        "id": "gxosQ1v89e20"
      },
      "execution_count": 32,
      "outputs": []
    },
    {
      "cell_type": "code",
      "source": [
        "perro = Perro(\"Mamífero\", \"Canino\", \"Doméstico\", \"Fatiga\")\n",
        "print(perro)"
      ],
      "metadata": {
        "colab": {
          "base_uri": "https://localhost:8080/"
        },
        "id": "6mK52wYg-iYu",
        "outputId": "8024067e-e694-4211-be93-924845669b8b"
      },
      "execution_count": 33,
      "outputs": [
        {
          "output_type": "stream",
          "name": "stdout",
          "text": [
            "Nombre: Fatiga, Clase: Mamífero, Especie: Canino, Tipo: Doméstico\n"
          ]
        }
      ]
    },
    {
      "cell_type": "code",
      "source": [
        "class Gallina(Animal):\n",
        "  def __init__(self, clase, especie, tipo, huevo=False):\n",
        "    super().__init__(clase, especie, tipo)\n",
        "    self.huevo = huevo\n",
        "\n",
        "  def __str__(self):\n",
        "    return f\"Clase: {self.clase}, Especie: {self.especie}, Tipo: {self.tipo}, ¿Puso un huevo hoy?: {self.huevo}\"\n",
        "\n",
        "  def tortilla(self):\n",
        "    if self.huevo:\n",
        "      print(\"Ya puso un huevo puede hacer una tortilla\")\n",
        "    else:\n",
        "      print(\"Aun no puso un huevo\")"
      ],
      "metadata": {
        "id": "eEgbeQWn-45m"
      },
      "execution_count": 34,
      "outputs": []
    },
    {
      "cell_type": "code",
      "source": [
        "gallina = Gallina(\"Ave\", \"Galline\", \"Granja\", False)\n",
        "print(gallina)\n",
        "gallina.tortilla()"
      ],
      "metadata": {
        "colab": {
          "base_uri": "https://localhost:8080/"
        },
        "id": "wDj17XFV_7XY",
        "outputId": "d64bc65a-0f57-4dee-fcfe-3286782c850d"
      },
      "execution_count": 35,
      "outputs": [
        {
          "output_type": "stream",
          "name": "stdout",
          "text": [
            "Clase: Ave, Especie: Galline, Tipo: Granja, ¿Puso un huevo hoy?: False\n",
            "Aun no puso un huevo\n"
          ]
        }
      ]
    },
    {
      "cell_type": "code",
      "source": [
        "gallina.huevo = True\n",
        "gallina.tortilla()"
      ],
      "metadata": {
        "colab": {
          "base_uri": "https://localhost:8080/"
        },
        "id": "YME-OAFFASnI",
        "outputId": "ef0a48d1-cbb0-43d4-eff5-5547013a73e8"
      },
      "execution_count": 36,
      "outputs": [
        {
          "output_type": "stream",
          "name": "stdout",
          "text": [
            "Ya puso un huevo puede hacer una tortilla\n"
          ]
        }
      ]
    },
    {
      "cell_type": "markdown",
      "source": [
        "### Ejercicio 1.8\n",
        "\n",
        "El polimorfismo en Python permite que objetos de diferentes clases respondan al mismo método o función de manera diferente.\n",
        "\n",
        "Podemos usar un método con el mismo nombre en diferentes clases y cada una lo implementará de manera específica según sus necesidades.\n",
        "\n",
        "Veamos un ejemplo usando figuras geometricas"
      ],
      "metadata": {
        "id": "4VRjG8cdFDZ_"
      }
    },
    {
      "cell_type": "code",
      "source": [
        "class Rectangulo:\n",
        "    def __init__(self, base, altura):\n",
        "        self.base = base\n",
        "        self.altura = altura\n",
        "\n",
        "    def calcular_area(self):\n",
        "        return self.base * self.altura"
      ],
      "metadata": {
        "id": "saYhnEV4Fkm7"
      },
      "execution_count": 37,
      "outputs": []
    },
    {
      "cell_type": "code",
      "source": [
        "class Triangulo:\n",
        "    def __init__(self, base, altura):\n",
        "        self.base = base\n",
        "        self.altura = altura\n",
        "\n",
        "    def calcular_area(self):\n",
        "        return 0.5 * self.base * self.altura"
      ],
      "metadata": {
        "id": "epsU9lXHFmBM"
      },
      "execution_count": 38,
      "outputs": []
    },
    {
      "cell_type": "code",
      "source": [
        "class Circulo:\n",
        "    def __init__(self, radio):\n",
        "        self.radio = radio\n",
        "\n",
        "    def calcular_area(self):\n",
        "        return 3.14 * self.radio ** 2"
      ],
      "metadata": {
        "id": "AYTxsLkjFnEM"
      },
      "execution_count": 39,
      "outputs": []
    },
    {
      "cell_type": "code",
      "source": [
        "def imprimir_area(forma):\n",
        "    print(f\"El área de la forma geométrica es: {forma.calcular_area()}\")"
      ],
      "metadata": {
        "id": "QDWYhitIFq63"
      },
      "execution_count": 40,
      "outputs": []
    },
    {
      "cell_type": "code",
      "source": [
        "rectangulo = Rectangulo(5, 10)\n",
        "triangulo = Triangulo(6, 8)\n",
        "circulo = Circulo(4)\n",
        "\n",
        "imprimir_area(rectangulo)\n",
        "imprimir_area(triangulo)\n",
        "imprimir_area(circulo)"
      ],
      "metadata": {
        "colab": {
          "base_uri": "https://localhost:8080/"
        },
        "id": "WsYR4pnwFvJM",
        "outputId": "fd20f66b-0955-4220-bc35-765579dfe956"
      },
      "execution_count": 41,
      "outputs": [
        {
          "output_type": "stream",
          "name": "stdout",
          "text": [
            "El área de la forma geométrica es: 50\n",
            "El área de la forma geométrica es: 24.0\n",
            "El área de la forma geométrica es: 50.24\n"
          ]
        }
      ]
    },
    {
      "cell_type": "markdown",
      "source": [
        "### Ejercicio 1.9\n",
        "\n",
        "Creemos el código correspondiente la consigna del ejercicio propuesto en la ppt de la clase de hoy.\n",
        "\n",
        "Nota: getter y setter es una convencion utilizada para decir que son los atributos que permiten:\n",
        "- getter -> retornar el valor de un atributo\n",
        "- setter -> editar el valor de un atributo"
      ],
      "metadata": {
        "id": "gRrJZqZtGnhr"
      }
    },
    {
      "cell_type": "code",
      "source": [
        "class MaterialBibliografico: #Creamos la clase padre de todas con sus atributos\n",
        "    def __init__(self, titulo, autor, anio_publicacion):\n",
        "        self.__titulo = titulo\n",
        "        self.__autor = autor\n",
        "        self.__anio_publicacion = anio_publicacion\n",
        "\n",
        "    # Métodos getter y setter\n",
        "    def get_titulo(self):\n",
        "        return self.__titulo\n",
        "\n",
        "    def set_titulo(self, titulo):\n",
        "        self.__titulo = titulo\n",
        "\n",
        "    def get_autor(self):\n",
        "        return self.__autor\n",
        "\n",
        "    def set_autor(self, autor):\n",
        "        self.__autor = autor\n",
        "\n",
        "    def get_anio_publicacion(self):\n",
        "        return self.__anio_publicacion\n",
        "\n",
        "    def set_anio_publicacion(self, anio_publicacion):\n",
        "        self.__anio_publicacion = anio_publicacion"
      ],
      "metadata": {
        "id": "wv5XKvssG2Op"
      },
      "execution_count": 42,
      "outputs": []
    },
    {
      "cell_type": "code",
      "source": [
        "class Libro(MaterialBibliografico): #Creamos una clase especifica para libros\n",
        "    def __init__(self, titulo, autor, anio_publicacion, isbn):\n",
        "        super().__init__(titulo, autor, anio_publicacion)\n",
        "        self.__isbn = isbn #ISBN (International Standard Book Number)\n",
        "\n",
        "    # Métodos getter y setter para atributos específicos\n",
        "    def get_isbn(self):\n",
        "        return self.__isbn\n",
        "\n",
        "    def set_isbn(self, isbn):\n",
        "        self.__isbn = isbn"
      ],
      "metadata": {
        "id": "vnIPxxQEHSZG"
      },
      "execution_count": 43,
      "outputs": []
    },
    {
      "cell_type": "code",
      "source": [
        "class Revista(MaterialBibliografico): #Creamos una clase especifica para Revistas\n",
        "    def __init__(self, titulo, autor, anio_publicacion, categoria):\n",
        "        super().__init__(titulo, autor, anio_publicacion)\n",
        "        self.__categoria = categoria\n",
        "\n",
        "    # Métodos getter y setter para atributos específicos\n",
        "    def get_categoria(self):\n",
        "        return self.__categoria\n",
        "\n",
        "    def set_categoria(self, categoria):\n",
        "        self.__categoria = categoria"
      ],
      "metadata": {
        "id": "YTrqrbq1IVao"
      },
      "execution_count": 44,
      "outputs": []
    },
    {
      "cell_type": "code",
      "source": [
        "class DVD(MaterialBibliografico): #Creamos una clase especifica para DVDs\n",
        "    def __init__(self, titulo, autor, anio_publicacion, blue_ray=False):\n",
        "        super().__init__(titulo, autor, anio_publicacion)\n",
        "        self.__blue_ray = blue_ray\n",
        "\n",
        "    # Métodos getter y setter para atributos específicos\n",
        "    def get_blue_ray(self):\n",
        "        return self.__blue_ray\n",
        "\n",
        "    def set_blue_ray(self, blue_ray):\n",
        "        self.__blue_ray = blue_ray"
      ],
      "metadata": {
        "id": "Uf7yUSGGIljw"
      },
      "execution_count": 45,
      "outputs": []
    },
    {
      "cell_type": "code",
      "source": [
        "class BibliotecaItem: #Creamos nuestra biblioteca\n",
        "    def __init__(self, material_bibliografico):\n",
        "        self.material_bibliografico = material_bibliografico"
      ],
      "metadata": {
        "id": "RiJ6N1Z0HpNZ"
      },
      "execution_count": 46,
      "outputs": []
    },
    {
      "cell_type": "code",
      "source": [
        "# Crear objetos de Libro, Revista y DVD\n",
        "libro1 = Libro(\"El código Da Vinci\", \"Dan Brown\", 2003, \"9780307474278\")\n",
        "revista1 = Revista(\"Hola\", \"La nacion\", 2024, \"Moda\")\n",
        "DVD1 = DVD(\"Shrek\",\"Andrew Adamson\", 2021, True)"
      ],
      "metadata": {
        "id": "TyrVPwejJauu"
      },
      "execution_count": 47,
      "outputs": []
    },
    {
      "cell_type": "code",
      "source": [
        "# Agregar los objetos a una lista de BibliotecaItem\n",
        "biblioteca = [\n",
        "  BibliotecaItem(libro1),\n",
        "  BibliotecaItem(revista1),\n",
        "  BibliotecaItem(DVD1)\n",
        "]"
      ],
      "metadata": {
        "id": "8YXYNnAlJe-U"
      },
      "execution_count": 48,
      "outputs": []
    },
    {
      "cell_type": "code",
      "source": [
        "for item in biblioteca:\n",
        "  material = item.material_bibliografico\n",
        "  print(f\"Título: {material.get_titulo()}, Autor: {material.get_autor()}, Año de Publicación: {material.get_anio_publicacion()}\")"
      ],
      "metadata": {
        "colab": {
          "base_uri": "https://localhost:8080/"
        },
        "id": "SRcc-kCFJhky",
        "outputId": "7e155fb5-d7d0-45e3-995c-7a8b8787bf59"
      },
      "execution_count": 49,
      "outputs": [
        {
          "output_type": "stream",
          "name": "stdout",
          "text": [
            "Título: El código Da Vinci, Autor: Dan Brown, Año de Publicación: 2003\n",
            "Título: Hola, Autor: La nacion, Año de Publicación: 2024\n",
            "Título: Shrek, Autor: Andrew Adamson, Año de Publicación: 2021\n"
          ]
        }
      ]
    }
  ]
}