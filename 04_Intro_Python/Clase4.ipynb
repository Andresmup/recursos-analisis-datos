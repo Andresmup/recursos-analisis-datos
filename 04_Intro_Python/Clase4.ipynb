{
 "cells": [
  {
   "cell_type": "markdown",
   "id": "1c400ed1-f12a-402d-b5ac-34390dfd75a9",
   "metadata": {},
   "source": [
    "# Intro a Python"
   ]
  },
  {
   "cell_type": "markdown",
   "id": "626340a5-1d5c-425c-b667-8509aabfb712",
   "metadata": {},
   "source": [
    "## Variables"
   ]
  },
  {
   "cell_type": "markdown",
   "id": "e49062a9-73e3-42f2-8978-d25067797de4",
   "metadata": {},
   "source": [
    "En esta ocasión comenzaremos trabajando con lo mas básico de Python. \n",
    "\n",
    "Probemos a crear una variables y ver como podemos mostrarlas. Recordemos que los 2 grandes grupos básicos de variables son tipo texto y numericas.\n",
    "\n",
    "A partir de ahora le diremos String a las variables del típo texto.\n",
    "\n",
    "En cuanto a las variables numéricas llamaremos integer a las que representen numeros enteros, y float a las que representen números decimales."
   ]
  },
  {
   "cell_type": "markdown",
   "id": "46fdf86b-5d19-4e9a-b66d-964525c4ed51",
   "metadata": {},
   "source": [
    "### Integer"
   ]
  },
  {
   "cell_type": "markdown",
   "id": "5a2d624c-ae23-4146-97f9-a80f62ffeab5",
   "metadata": {},
   "source": [
    "Vamos a crear una variable utilizando la notación snake_case"
   ]
  },
  {
   "cell_type": "code",
   "execution_count": 1,
   "id": "24c9e7f1-7e25-4af3-988c-c13a1d12fd65",
   "metadata": {},
   "outputs": [],
   "source": [
    "# Creamos una variable Integer\n",
    "variable_entera = 10"
   ]
  },
  {
   "cell_type": "markdown",
   "id": "32fe7bef-2fdc-496c-a96e-99eb53924037",
   "metadata": {},
   "source": [
    "Como estamos trabajando con Jupyter notebook y este entorno está pensado para trabajar con datos tenemos diferentes para mostrar una variable."
   ]
  },
  {
   "cell_type": "code",
   "execution_count": 2,
   "id": "5ebd578b-4083-410d-90db-1928b3ec991c",
   "metadata": {},
   "outputs": [
    {
     "name": "stdout",
     "output_type": "stream",
     "text": [
      "10\n"
     ]
    }
   ],
   "source": [
    "#Podemos usar la función print() para ver que contiene nuestra variable_entera\n",
    "print(variable_entera)"
   ]
  },
  {
   "cell_type": "code",
   "execution_count": 3,
   "id": "baeeeee9-78cb-40b5-8865-080cf4b5eefe",
   "metadata": {},
   "outputs": [
    {
     "data": {
      "text/plain": [
       "10"
      ]
     },
     "execution_count": 3,
     "metadata": {},
     "output_type": "execute_result"
    }
   ],
   "source": [
    "#O directamente escribir el nombre y automaticamente se imprimira\n",
    "variable_entera"
   ]
  },
  {
   "cell_type": "markdown",
   "id": "0b5d8fd0-e530-44f9-9a7e-07b11797f789",
   "metadata": {},
   "source": [
    "### Float"
   ]
  },
  {
   "cell_type": "markdown",
   "id": "c091c293-7567-4db2-be67-a2c2bd9a11b1",
   "metadata": {},
   "source": [
    "Vamos a crear una variable utilizando la notación camelCase"
   ]
  },
  {
   "cell_type": "code",
   "execution_count": 4,
   "id": "8826daff-deba-4a4b-bbc9-fa95ae615073",
   "metadata": {},
   "outputs": [],
   "source": [
    "# Creamos una variable Float\n",
    "variableDecimal = 2.45"
   ]
  },
  {
   "cell_type": "markdown",
   "id": "4e578a74-fe84-4004-b869-1e0490b97577",
   "metadata": {},
   "source": [
    "Imprimamos nuevamente de las 2 formas que ya vimos"
   ]
  },
  {
   "cell_type": "code",
   "execution_count": 5,
   "id": "cfd4e55f-c39a-4bcc-9166-172156870328",
   "metadata": {},
   "outputs": [
    {
     "name": "stdout",
     "output_type": "stream",
     "text": [
      "2.45\n"
     ]
    }
   ],
   "source": [
    "#Usamos la función print\n",
    "print(variableDecimal)"
   ]
  },
  {
   "cell_type": "code",
   "execution_count": 6,
   "id": "a4a7d5a7-a85f-48ee-9776-59a08cb0bfc0",
   "metadata": {},
   "outputs": [
    {
     "data": {
      "text/plain": [
       "2.45"
      ]
     },
     "execution_count": 6,
     "metadata": {},
     "output_type": "execute_result"
    }
   ],
   "source": [
    "# Imprimimos directamente\n",
    "variableDecimal"
   ]
  },
  {
   "cell_type": "markdown",
   "id": "9bd6963e-bc38-47aa-97ad-d861b63ca03a",
   "metadata": {},
   "source": [
    "### String"
   ]
  },
  {
   "cell_type": "markdown",
   "id": "5076d02e-c68a-4c8f-9c4b-2c1a4c1080f3",
   "metadata": {},
   "source": [
    "Vamos a crear una variable utilizando la notación PascalCase"
   ]
  },
  {
   "cell_type": "code",
   "execution_count": 7,
   "id": "2d1d0dd5-2f55-4d4a-b6a9-c6f25fc4a2d9",
   "metadata": {},
   "outputs": [
    {
     "data": {
      "text/plain": [
       "'soy un string'"
      ]
     },
     "execution_count": 7,
     "metadata": {},
     "output_type": "execute_result"
    }
   ],
   "source": [
    "# Creamos una variable Float y la mostramos en un mismo paso\n",
    "VariableTexto = \"soy un string\"\n",
    "VariableTexto"
   ]
  },
  {
   "cell_type": "markdown",
   "id": "cb807e4f-4eae-4180-959d-8acb2eb47a74",
   "metadata": {},
   "source": [
    "#### Nombrar variables"
   ]
  },
  {
   "cell_type": "markdown",
   "id": "4ffbc519-2fce-4f84-8bbe-ac2436bdb49e",
   "metadata": {},
   "source": [
    "Como vimos anteriormente en python podemos usar snake_case, camelCase y PascalCase.\n",
    "\n",
    "En otros lenguajes existe la opcion de usar kebab-case pero al usarla en python nos genera un error ya que - se usa para restar."
   ]
  },
  {
   "cell_type": "markdown",
   "id": "14d724f0-8cb1-4347-ace2-39b0cdc4f97c",
   "metadata": {},
   "source": [
    "### Print()"
   ]
  },
  {
   "cell_type": "markdown",
   "id": "bbf9bf75-05ff-41cc-af78-9cbe19315ed7",
   "metadata": {},
   "source": [
    "Con print() ademas de mostrar variables (que normalmente lo vamos a hacer poniendo el nombre directamente) podemos mostrar mensajes sin estar adentro de variables"
   ]
  },
  {
   "cell_type": "code",
   "execution_count": 8,
   "id": "c8b4e7e1-5811-41dd-a6aa-af8526849a54",
   "metadata": {},
   "outputs": [
    {
     "name": "stdout",
     "output_type": "stream",
     "text": [
      "hola clase\n"
     ]
    }
   ],
   "source": [
    "print(\"hola clase\")"
   ]
  },
  {
   "cell_type": "markdown",
   "id": "6a7cb138-360a-413b-9a6b-30c50d907943",
   "metadata": {},
   "source": [
    "### Pro tip"
   ]
  },
  {
   "cell_type": "markdown",
   "id": "7fcb53a6-fd5b-47b3-8692-b3d8ed3f7cf3",
   "metadata": {},
   "source": [
    "Si lo pensamos estar definiendo muchas cosas linea a linea e ir mostrandolas de a una no es muy útil, podemos aplicar algunas funcionales especiales de jupyter para trabajar con variables con pros."
   ]
  },
  {
   "cell_type": "code",
   "execution_count": 9,
   "id": "f1c2c340-d7e4-4b94-a5a1-24a4ae3f7580",
   "metadata": {},
   "outputs": [],
   "source": [
    "#Aprendamos a crear varias variables de una sola vez\n",
    "variable_A, variable_B, variable_C = \"variable_A\", 22, 80.32"
   ]
  },
  {
   "cell_type": "code",
   "execution_count": 10,
   "id": "21a2df14-f3ab-44d0-a607-cf306dbb93fe",
   "metadata": {},
   "outputs": [
    {
     "name": "stdout",
     "output_type": "stream",
     "text": [
      "variable_A\n",
      "22\n",
      "80.32\n"
     ]
    }
   ],
   "source": [
    "#Puedo mostrarlas todas de una vez con print()\n",
    "print(variable_A)\n",
    "print(variable_B)\n",
    "print(variable_C)"
   ]
  },
  {
   "cell_type": "code",
   "execution_count": 11,
   "id": "37de53ec-b173-4221-94bc-0729d1128e72",
   "metadata": {},
   "outputs": [
    {
     "data": {
      "text/plain": [
       "('variable_A', 22, 80.32)"
      ]
     },
     "execution_count": 11,
     "metadata": {},
     "output_type": "execute_result"
    }
   ],
   "source": [
    "#O aplicando el feature de los notebook\n",
    "variable_A, variable_B, variable_C"
   ]
  },
  {
   "cell_type": "markdown",
   "id": "2d497488-c218-4210-96a9-4458782d9a96",
   "metadata": {},
   "source": [
    "### Booleanos"
   ]
  },
  {
   "cell_type": "markdown",
   "id": "2c099097-1549-4451-abdd-ddc8bd2e6a45",
   "metadata": {},
   "source": [
    "Otro tipo de dato muy utilizado en el area de datos son los booleanos o valores lógicos. Básicamente nos indican si algo es verdadero o falso. En python para definir una variable booleana simplemente hay que usar False o True."
   ]
  },
  {
   "cell_type": "code",
   "execution_count": 12,
   "id": "c0e9580b-5462-47c9-ae4f-51af450db49e",
   "metadata": {},
   "outputs": [],
   "source": [
    "#Defino una variable boolena True y una False\n",
    "\n",
    "esto_es_python = True\n",
    "esto_es_excel = False"
   ]
  },
  {
   "cell_type": "code",
   "execution_count": 13,
   "id": "8633d80e-6526-406e-9bad-db6acc40ee3b",
   "metadata": {},
   "outputs": [
    {
     "name": "stdout",
     "output_type": "stream",
     "text": [
      "¿Esto es Python?: True\n",
      "¿Esto es Excel?: False\n"
     ]
    }
   ],
   "source": [
    "#Podemos imprimirlas para ver como se ven, ademas podemos agregarle un mensaje a nuestro print\n",
    "print(\"¿Esto es Python?:\", esto_es_python)\n",
    "print(\"¿Esto es Excel?:\", esto_es_excel)"
   ]
  },
  {
   "cell_type": "markdown",
   "id": "58a0ad2d-0ea0-4708-8e66-21a8e54e886c",
   "metadata": {},
   "source": [
    "## Tipos de datos"
   ]
  },
  {
   "cell_type": "markdown",
   "id": "234cf8c3-dc9d-4152-a49d-379f1dbc4a96",
   "metadata": {},
   "source": [
    "Vimos que habia diferentes tipos de datos y trabajamos con los 3 mas comunes y básicos. Usando type() podemos ver que tipo de dato tiene asignado una variable."
   ]
  },
  {
   "cell_type": "code",
   "execution_count": 14,
   "id": "a9660b7a-b3f1-4919-b21a-15e3ccfd91ee",
   "metadata": {},
   "outputs": [
    {
     "data": {
      "text/plain": [
       "int"
      ]
     },
     "execution_count": 14,
     "metadata": {},
     "output_type": "execute_result"
    }
   ],
   "source": [
    "type(variable_entera)"
   ]
  },
  {
   "cell_type": "code",
   "execution_count": 15,
   "id": "a0fac597-9d31-46a3-92ba-5eb70a2720c5",
   "metadata": {},
   "outputs": [
    {
     "data": {
      "text/plain": [
       "float"
      ]
     },
     "execution_count": 15,
     "metadata": {},
     "output_type": "execute_result"
    }
   ],
   "source": [
    "type(variableDecimal)"
   ]
  },
  {
   "cell_type": "code",
   "execution_count": 16,
   "id": "4bae9f9a-9a82-428d-93b9-02e42241860b",
   "metadata": {},
   "outputs": [
    {
     "data": {
      "text/plain": [
       "str"
      ]
     },
     "execution_count": 16,
     "metadata": {},
     "output_type": "execute_result"
    }
   ],
   "source": [
    "type(VariableTexto)"
   ]
  },
  {
   "cell_type": "code",
   "execution_count": 17,
   "id": "08ab6fee-93c0-4fe8-bc13-5c84755dea0d",
   "metadata": {},
   "outputs": [
    {
     "data": {
      "text/plain": [
       "bool"
      ]
     },
     "execution_count": 17,
     "metadata": {},
     "output_type": "execute_result"
    }
   ],
   "source": [
    "type(esto_es_python)"
   ]
  },
  {
   "cell_type": "markdown",
   "id": "4ec7e51b-f9b8-420e-8111-966a883d0708",
   "metadata": {},
   "source": [
    "## CAST"
   ]
  },
  {
   "cell_type": "markdown",
   "id": "a80de95b-4f9e-449e-a13d-d3faf5aeeae7",
   "metadata": {},
   "source": [
    "Una forma muy sencilla de especificar o transformar (siempre que sea posible) una variable de un tipo a otro es usando cast. Veamos ejemplos"
   ]
  },
  {
   "cell_type": "code",
   "execution_count": 18,
   "id": "e3f21c78-a6de-45ca-9d35-c175b39fe944",
   "metadata": {},
   "outputs": [
    {
     "data": {
      "text/plain": [
       "(1, int)"
      ]
     },
     "execution_count": 18,
     "metadata": {},
     "output_type": "execute_result"
    }
   ],
   "source": [
    "numero_uno_entero = int(1)   # Especifico que mi variable va a ser del tipo integer\n",
    "numero_uno_entero, type(numero_uno_entero) #Veo el dato y el típo de dato"
   ]
  },
  {
   "cell_type": "code",
   "execution_count": 19,
   "id": "c6f44548-4ab5-4c56-85b1-f137b25e3061",
   "metadata": {},
   "outputs": [
    {
     "data": {
      "text/plain": [
       "(3, int)"
      ]
     },
     "execution_count": 19,
     "metadata": {},
     "output_type": "execute_result"
    }
   ],
   "source": [
    "numero_tres_entero = int(3.45)   # Especifico que mi variable va a ser del tipo integer y por lo tanto eliminar los decimales\n",
    "numero_tres_entero, type(numero_tres_entero) # Veo el dato y el típo de dato"
   ]
  },
  {
   "cell_type": "code",
   "execution_count": 20,
   "id": "d0e38655-215f-479e-86a9-c1731bcf68cb",
   "metadata": {},
   "outputs": [
    {
     "data": {
      "text/plain": [
       "(2.45, 2, int)"
      ]
     },
     "execution_count": 20,
     "metadata": {},
     "output_type": "execute_result"
    }
   ],
   "source": [
    "cast_variableDecimal = int(variableDecimal)   # Voy a transformar y por lo tanto eliminar los decimales de mi variableDecimal\n",
    "variableDecimal, cast_variableDecimal, type(cast_variableDecimal) # Veo el dato original, mi variable despues de cast y el típo de dato final"
   ]
  },
  {
   "cell_type": "code",
   "execution_count": 21,
   "id": "8957a353-90d2-4120-b063-5faf79ef6ae9",
   "metadata": {},
   "outputs": [
    {
     "data": {
      "text/plain": [
       "('10', str, 10, int)"
      ]
     },
     "execution_count": 21,
     "metadata": {},
     "output_type": "execute_result"
    }
   ],
   "source": [
    "numero_diez_string = \"10\" #Creamos una variable String a para el valor \"10\"\n",
    "cast_numero_diez_string = int(numero_diez_string)   # Voy a transformar mi numero_diez_string\n",
    "\n",
    "# Veo el dato original, su tipo de dato, mi variable despues de cast y el típo de dato final\n",
    "numero_diez_string, type(numero_diez_string), cast_numero_diez_string, type(cast_numero_diez_string) "
   ]
  },
  {
   "cell_type": "code",
   "execution_count": 22,
   "id": "a8847d55-c932-433e-8a0a-fe686ae172be",
   "metadata": {},
   "outputs": [
    {
     "data": {
      "text/plain": [
       "(1.0, float)"
      ]
     },
     "execution_count": 22,
     "metadata": {},
     "output_type": "execute_result"
    }
   ],
   "source": [
    "numero_uno_decimal = float(1) # Especifico que mi variable va a ser del tipo decimal\n",
    "numero_uno_decimal, type(numero_uno_decimal) #Veo el dato y el típo de dato"
   ]
  },
  {
   "cell_type": "code",
   "execution_count": 23,
   "id": "3764c972-aafa-4478-b1c7-04c4020ac869",
   "metadata": {},
   "outputs": [
    {
     "data": {
      "text/plain": [
       "(10, 10.0, float)"
      ]
     },
     "execution_count": 23,
     "metadata": {},
     "output_type": "execute_result"
    }
   ],
   "source": [
    "cast_variable_entera = float(variable_entera)   # Voy a transformar de mi variable_entera\n",
    "variable_entera, cast_variable_entera, type(cast_variable_entera) # Veo el dato original, mi variable despues de cast y el típo de dato final"
   ]
  },
  {
   "cell_type": "code",
   "execution_count": 24,
   "id": "9e6cb610-16c8-4538-8296-8b38a3de8195",
   "metadata": {},
   "outputs": [
    {
     "data": {
      "text/plain": [
       "('3.14', str, 3.14, float)"
      ]
     },
     "execution_count": 24,
     "metadata": {},
     "output_type": "execute_result"
    }
   ],
   "source": [
    "numero_pi_string = \"3.14\" #Creamos una variable String a para el valor \"3.14\"\n",
    "cast_numero_pi_string = float(numero_pi_string)   # Voy a transformar mi numero_pi_string\n",
    "\n",
    "# Veo el dato original, su tipo de dato, mi variable despues de cast y el típo de dato final\n",
    "numero_pi_string, type(numero_pi_string), cast_numero_pi_string, type(cast_numero_pi_string) "
   ]
  },
  {
   "cell_type": "code",
   "execution_count": 25,
   "id": "bd38dfbf-8320-46ce-b389-a58692fc4006",
   "metadata": {},
   "outputs": [
    {
     "data": {
      "text/plain": [
       "('arg78', str)"
      ]
     },
     "execution_count": 25,
     "metadata": {},
     "output_type": "execute_result"
    }
   ],
   "source": [
    "mundial_arg_string = str(\"arg78\")   # Especifico que mi variable va a ser del tipo string\n",
    "mundial_arg_string, type(mundial_arg_string) #Veo el dato y el típo de dato"
   ]
  },
  {
   "cell_type": "code",
   "execution_count": 26,
   "id": "3bf4dae7-0e0d-4259-afe1-8a8cd4988cbc",
   "metadata": {},
   "outputs": [
    {
     "data": {
      "text/plain": [
       "(2024, int, '2024', str)"
      ]
     },
     "execution_count": 26,
     "metadata": {},
     "output_type": "execute_result"
    }
   ],
   "source": [
    "variable_anio_actual = 2024\n",
    "cast_variable_anio_actual = str(variable_anio_actual)   # Voy a transformar de integer a string\n",
    "\n",
    "# Veo el dato original, su tipo de dato, mi variable despues de cast y el típo de dato final\n",
    "variable_anio_actual, type(variable_anio_actual), cast_variable_anio_actual, type(cast_variable_anio_actual) "
   ]
  },
  {
   "cell_type": "code",
   "execution_count": 27,
   "id": "112eb9e7-cb48-4c39-8a66-637dd723477e",
   "metadata": {},
   "outputs": [
    {
     "data": {
      "text/plain": [
       "(3.14, float, '3.14', str)"
      ]
     },
     "execution_count": 27,
     "metadata": {},
     "output_type": "execute_result"
    }
   ],
   "source": [
    "numero_pi = 3.14\n",
    "cast_numero_pi = str(numero_pi)   # Voy a transformar de float a string\n",
    "\n",
    "# Veo el dato original, su tipo de dato, mi variable despues de cast y el típo de dato final\n",
    "numero_pi, type(numero_pi), cast_numero_pi, type(cast_numero_pi) "
   ]
  },
  {
   "cell_type": "code",
   "execution_count": 28,
   "id": "0088b735-2d27-4a44-b1fa-a5129e7e9ebd",
   "metadata": {},
   "outputs": [
    {
     "data": {
      "text/plain": [
       "(True, bool, 'True', str)"
      ]
     },
     "execution_count": 28,
     "metadata": {},
     "output_type": "execute_result"
    }
   ],
   "source": [
    "bool_curso_data_analitics = True\n",
    "cast_bool_curso_data_analitics = str(bool_curso_data_analitics) #Puedo transforma un booleano a String\n",
    "\n",
    "# Veo el dato original, su tipo de dato, mi variable despues de cast y el típo de dato final\n",
    "bool_curso_data_analitics, type(bool_curso_data_analitics), cast_bool_curso_data_analitics, type(cast_bool_curso_data_analitics) "
   ]
  },
  {
   "cell_type": "markdown",
   "id": "30a77b69-7529-475d-a004-4f4e36d73b20",
   "metadata": {},
   "source": [
    "## Operadores"
   ]
  },
  {
   "cell_type": "markdown",
   "id": "6ada93cd-1e32-4ba3-8547-4fcb8c236c0e",
   "metadata": {},
   "source": [
    "Dentro de Python tenemos diferentes operadores\n",
    "\n",
    " - Aritméticos: Suma +,  Resta -,  Multiplicación *,  División /,  Exponente **,  Módulo %  División entera //\n",
    "\n",
    " - Comparación: Igual qué ==, Diferente qué !=, Mayor qué >, Menor qué <, Mayor o igual >=, Menor o igual <=\n",
    "\n",
    " - Lógicos: AND, OR, NO\n",
    "\n",
    " - Especiales: IS, IS NOT, IN, NOT \n",
    "\n",
    " - Asignación: Igual =, Incremento +=, Decremento -=\n",
    "\n",
    "Vamos a practicarlos"
   ]
  },
  {
   "cell_type": "code",
   "execution_count": 29,
   "id": "2c050c27-27bf-4075-9589-a776c8fed26d",
   "metadata": {},
   "outputs": [
    {
     "data": {
      "text/plain": [
       "(24, 24, 24)"
      ]
     },
     "execution_count": 29,
     "metadata": {},
     "output_type": "execute_result"
    }
   ],
   "source": [
    "#Podemos hacer suma entre valores directamente o entre variables o variables y números\n",
    "numero_veinte = 20\n",
    "numero_cuatro = 4\n",
    "\n",
    "20 + 4, numero_veinte + 4, numero_veinte + numero_cuatro"
   ]
  },
  {
   "cell_type": "code",
   "execution_count": 30,
   "id": "19000383-352d-46c9-bc0e-9429bec5666a",
   "metadata": {},
   "outputs": [
    {
     "data": {
      "text/plain": [
       "(99, 99, 99)"
      ]
     },
     "execution_count": 30,
     "metadata": {},
     "output_type": "execute_result"
    }
   ],
   "source": [
    "#Podemos hacer restas entre valores directamente o entre variables o variables y números\n",
    "numero_cien = 100\n",
    "numero_uno = 1\n",
    "\n",
    "100 - 1, numero_cien - 1, numero_cien - numero_uno"
   ]
  },
  {
   "cell_type": "code",
   "execution_count": 31,
   "id": "f4330ba7-7eb8-468b-a17b-b32ccfcb1977",
   "metadata": {},
   "outputs": [
    {
     "data": {
      "text/plain": [
       "(-99, -99, -99)"
      ]
     },
     "execution_count": 31,
     "metadata": {},
     "output_type": "execute_result"
    }
   ],
   "source": [
    "#Con las restas podemos obtener números negativos\n",
    "\n",
    "1 - 100, 1 - numero_cien, numero_uno - numero_cien"
   ]
  },
  {
   "cell_type": "code",
   "execution_count": 32,
   "id": "e29f3d6f-b74e-4722-b263-d8696099f76a",
   "metadata": {},
   "outputs": [
    {
     "data": {
      "text/plain": [
       "(42.72, 42.72, 42.72, float)"
      ]
     },
     "execution_count": 32,
     "metadata": {},
     "output_type": "execute_result"
    }
   ],
   "source": [
    "#Podemos operar decimales con enteros\n",
    "numero_cuarenta_entero = 40\n",
    "numero_e =  2.72\n",
    "\n",
    "40 + 2.72, numero_cuarenta_entero + 2.72, numero_cuarenta_entero + numero_e, type(numero_cuarenta_entero + numero_e)"
   ]
  },
  {
   "cell_type": "code",
   "execution_count": 33,
   "id": "e9fad67b-dbf4-4742-862a-95ce09620f66",
   "metadata": {},
   "outputs": [
    {
     "data": {
      "text/plain": [
       "50.24"
      ]
     },
     "execution_count": 33,
     "metadata": {},
     "output_type": "execute_result"
    }
   ],
   "source": [
    "# Tambien tenemos multiplicaciones\n",
    "radio = 8 #Radio circunferencia\n",
    "numero_pi = 3.14 #PI\n",
    "perimetro = 2*numero_pi*radio # Calculo perimetro\n",
    "\n",
    "perimetro #Imprimo valor"
   ]
  },
  {
   "cell_type": "code",
   "execution_count": 34,
   "id": "104d7dab-c181-4b2a-ba82-efb839e865b9",
   "metadata": {},
   "outputs": [
    {
     "data": {
      "text/plain": [
       "10.0"
      ]
     },
     "execution_count": 34,
     "metadata": {},
     "output_type": "execute_result"
    }
   ],
   "source": [
    "#Un ejemplo de division simple puede ser:\n",
    "diametro = 20 #Defino diametro\n",
    "\n",
    "radio = diametro/2 #Calculo el radio\n",
    "radio"
   ]
  },
  {
   "cell_type": "code",
   "execution_count": 35,
   "id": "aa6efc67-ff84-4295-a743-26e3ef12a683",
   "metadata": {},
   "outputs": [
    {
     "data": {
      "text/plain": [
       "138.0344"
      ]
     },
     "execution_count": 35,
     "metadata": {},
     "output_type": "execute_result"
    }
   ],
   "source": [
    "#Usando el exponente puedo calcular el área de un círculo\n",
    "radio = 14\n",
    "\n",
    "area = radio*(numero_pi**2)\n",
    "area"
   ]
  },
  {
   "cell_type": "code",
   "execution_count": 36,
   "id": "781a066c-3467-41ba-a01f-28f5b7647c02",
   "metadata": {},
   "outputs": [
    {
     "name": "stdout",
     "output_type": "stream",
     "text": [
      "1\n"
     ]
    }
   ],
   "source": [
    "#El modulo o resto puede ser util\n",
    "\n",
    "x = 5\n",
    "y = 2\n",
    "\n",
    "print(x % y)"
   ]
  },
  {
   "cell_type": "code",
   "execution_count": 37,
   "id": "492e5a93-36e0-4b54-ae48-082838050462",
   "metadata": {},
   "outputs": [
    {
     "name": "stdout",
     "output_type": "stream",
     "text": [
      "Division entera: 7\n",
      "Resto: 1\n"
     ]
    }
   ],
   "source": [
    "# Con // voy a calcular una division entera (redondeando hacia abajo)\n",
    "\n",
    "x = 15\n",
    "y = 2\n",
    "\n",
    "print(\"Division entera:\", x // y)\n",
    "print(\"Resto:\", x % y)"
   ]
  },
  {
   "cell_type": "code",
   "execution_count": 38,
   "id": "803f9a67-f57a-4f03-8bf3-87486410baac",
   "metadata": {},
   "outputs": [
    {
     "data": {
      "text/plain": [
       "False"
      ]
     },
     "execution_count": 38,
     "metadata": {},
     "output_type": "execute_result"
    }
   ],
   "source": [
    "#Con comparciones puedo ver relaciones entre términos\n",
    "\n",
    "variable_pais_minuscula = \"argentina\"\n",
    "variable_pais_mayuscula = \"ARGENTINA\"\n",
    "\n",
    "variable_pais_mayuscula == variable_pais_minuscula"
   ]
  },
  {
   "cell_type": "code",
   "execution_count": 39,
   "id": "41b6e4a4-ff34-4db5-907f-d8340717c325",
   "metadata": {},
   "outputs": [
    {
     "data": {
      "text/plain": [
       "True"
      ]
     },
     "execution_count": 39,
     "metadata": {},
     "output_type": "execute_result"
    }
   ],
   "source": [
    "#Pueden ser entre numeros\n",
    "ventas_totales = 243090\n",
    "ventas_esperadas = 243080\n",
    "\n",
    "ventas_totales >= ventas_esperadas"
   ]
  },
  {
   "cell_type": "code",
   "execution_count": 40,
   "id": "88823390-799b-4706-bbfc-287a09c1d084",
   "metadata": {},
   "outputs": [],
   "source": [
    "# Ademas puedo incrementar valores o dismuirlos con cada ejecución\n",
    "valor_creciente, valor_decreciente = 0, 0 #Defino mis puntos de inicio"
   ]
  },
  {
   "cell_type": "code",
   "execution_count": 46,
   "id": "e7c4c990-f97e-4e6f-b848-a25cea1148ea",
   "metadata": {},
   "outputs": [
    {
     "data": {
      "text/plain": [
       "(4, -4)"
      ]
     },
     "execution_count": 46,
     "metadata": {},
     "output_type": "execute_result"
    }
   ],
   "source": [
    "#incremento con cada ejecución\n",
    "\n",
    "valor_creciente += 1 \n",
    "valor_decreciente -= 1\n",
    "\n",
    "valor_creciente, valor_decreciente"
   ]
  },
  {
   "cell_type": "code",
   "execution_count": 42,
   "id": "fd010abd-518c-4716-9dd9-2f881e20333f",
   "metadata": {},
   "outputs": [],
   "source": [
    "#Podemos incrementar 2 a dos en 2 tambien\n",
    "numeros_pares, cantidad_ejecuciones = 0, 0 #Defino mis puntos de inicio"
   ]
  },
  {
   "cell_type": "code",
   "execution_count": 52,
   "id": "759ee19b-997b-45dc-8d4e-5f66fd7f7e9d",
   "metadata": {},
   "outputs": [
    {
     "name": "stdout",
     "output_type": "stream",
     "text": [
      "numero: 14\n",
      "veces ejecutado: 7\n"
     ]
    }
   ],
   "source": [
    "#Ejecuto\n",
    "\n",
    "numeros_pares +=2\n",
    "cantidad_ejecuciones += 1\n",
    "\n",
    "print(\"numero:\",numeros_pares)\n",
    "print(\"veces ejecutado:\",cantidad_ejecuciones)"
   ]
  },
  {
   "cell_type": "code",
   "execution_count": null,
   "id": "a983384a-369f-4ee5-a36e-a306f20df15f",
   "metadata": {},
   "outputs": [],
   "source": []
  }
 ],
 "metadata": {
  "kernelspec": {
   "display_name": "Python 3 (ipykernel)",
   "language": "python",
   "name": "python3"
  },
  "language_info": {
   "codemirror_mode": {
    "name": "ipython",
    "version": 3
   },
   "file_extension": ".py",
   "mimetype": "text/x-python",
   "name": "python",
   "nbconvert_exporter": "python",
   "pygments_lexer": "ipython3",
   "version": "3.11.5"
  }
 },
 "nbformat": 4,
 "nbformat_minor": 5
}
