{
 "cells": [
  {
   "cell_type": "markdown",
   "id": "ab88e39b-27a2-48df-9d6e-0a6ff1e764ec",
   "metadata": {},
   "source": [
    "# CLASE 11\n",
    "\n",
    "\n",
    "Pandas es una librería de Python especializada en el manejo y análisis de estructuras de datos, donde podemos encontrar 3 tipos de estructuras:\n",
    "\n",
    "- Series: Estructura de una dimensión.\n",
    "- DataFrame: Estructura de dos dimensiones (tablas).\n",
    "\n",
    "Con pandas podemos leer y escribir fácilmente ficheros en formato CSV, Excel y bases de datos SQL."
   ]
  },
  {
   "cell_type": "markdown",
   "id": "8930ddbc-1a76-42ad-a01a-95098ea3dfae",
   "metadata": {},
   "source": [
    "## Ejercicio 0\n",
    "\n",
    "Instalacion e importacion "
   ]
  },
  {
   "cell_type": "markdown",
   "id": "d5296d86-9c0e-49be-9043-2d453c3f70c3",
   "metadata": {},
   "source": [
    "- Terminal: pip install pandas==2.2.2\n",
    "- Notebook: !pip install pandas==2.2.2"
   ]
  },
  {
   "cell_type": "code",
   "execution_count": 1,
   "id": "ea691c65-3365-414e-b0a3-9da988d7b80f",
   "metadata": {},
   "outputs": [],
   "source": [
    "import pandas as pd\n",
    "import numpy as np"
   ]
  },
  {
   "cell_type": "markdown",
   "id": "957a5907-0032-4042-a0cb-3f50e0060e64",
   "metadata": {},
   "source": [
    "# SERIES\n",
    "\n",
    "Las series nos permiten reprensentar informacion en forma de columnas"
   ]
  },
  {
   "cell_type": "markdown",
   "id": "917d8dc8-bdea-40c3-bc2b-0d6386ff9f39",
   "metadata": {},
   "source": [
    "## Ejercicio 1.1\n",
    "\n",
    "Veamos un ejemplo sencillo de como crear una serie que cotenga numeros en pandas"
   ]
  },
  {
   "cell_type": "code",
   "execution_count": 2,
   "id": "7f147bb3-c969-47bb-b274-62d254054479",
   "metadata": {},
   "outputs": [],
   "source": [
    "lista_numerica = [1, 2, 3]\n",
    "array_numerico1 = np.array([4, 5, 6])\n",
    "\n",
    "serie_numerica1 = pd.Series(lista_numerica)\n",
    "serie_numerica2 = pd.Series(array_numerico1)\n",
    "serie_numerica3 = pd.Series([7, 8, 9])"
   ]
  },
  {
   "cell_type": "code",
   "execution_count": 3,
   "id": "6862030d-409a-4653-afda-0fb26df63460",
   "metadata": {},
   "outputs": [
    {
     "data": {
      "text/plain": [
       "0    1\n",
       "1    2\n",
       "2    3\n",
       "dtype: int64"
      ]
     },
     "execution_count": 3,
     "metadata": {},
     "output_type": "execute_result"
    }
   ],
   "source": [
    "serie_numerica1"
   ]
  },
  {
   "cell_type": "code",
   "execution_count": 4,
   "id": "6a0b533f-3c5b-4dc1-980d-50f8a1e5737c",
   "metadata": {},
   "outputs": [
    {
     "name": "stdout",
     "output_type": "stream",
     "text": [
      "0    4\n",
      "1    5\n",
      "2    6\n",
      "dtype: int64\n"
     ]
    }
   ],
   "source": [
    "print(serie_numerica2)"
   ]
  },
  {
   "cell_type": "code",
   "execution_count": 5,
   "id": "c8e607fd-664f-40cb-8c56-da9ea2a8626c",
   "metadata": {},
   "outputs": [
    {
     "data": {
      "text/plain": [
       "0    7\n",
       "1    8\n",
       "2    9\n",
       "dtype: int64"
      ]
     },
     "execution_count": 5,
     "metadata": {},
     "output_type": "execute_result"
    }
   ],
   "source": [
    "serie_numerica3"
   ]
  },
  {
   "cell_type": "markdown",
   "id": "199dfd91-c917-4863-b58f-27273d0ccb71",
   "metadata": {},
   "source": [
    "## Ejercicio 1.2\n",
    "\n",
    "Podemos crear series con cualquier tipo de dato, ademas con el atributo dtype podemos especificar como queremos que se guarde la informacion"
   ]
  },
  {
   "cell_type": "code",
   "execution_count": 6,
   "id": "9144a2cf-e50b-4013-862c-907dbbb94da7",
   "metadata": {},
   "outputs": [
    {
     "data": {
      "text/plain": [
       "0     Matemáticas\n",
       "1        Historia\n",
       "2        Economía\n",
       "3    Programación\n",
       "4          Inglés\n",
       "dtype: string"
      ]
     },
     "execution_count": 6,
     "metadata": {},
     "output_type": "execute_result"
    }
   ],
   "source": [
    "asignaturas = pd.Series(['Matemáticas', 'Historia', 'Economía', 'Programación', 'Inglés'], dtype= \"string\")\n",
    "asignaturas"
   ]
  },
  {
   "cell_type": "markdown",
   "id": "f8728b9a-c015-493d-bbe1-5487f29bd796",
   "metadata": {},
   "source": [
    "## Ejercicio 1.3\n",
    "\n",
    "Otra opcion es utilizar un diccionario para cargar datos en una serie"
   ]
  },
  {
   "cell_type": "code",
   "execution_count": 7,
   "id": "b17274ee-c0e1-4efb-a728-0f19766accfb",
   "metadata": {},
   "outputs": [
    {
     "data": {
      "text/plain": [
       "andres     6\n",
       "pedro      9\n",
       "jose       4\n",
       "maria     10\n",
       "maria     10\n",
       "dtype: int64"
      ]
     },
     "execution_count": 7,
     "metadata": {},
     "output_type": "execute_result"
    }
   ],
   "source": [
    "dic_notas_alumnos = {\"andres\": 6, \"pedro\": 9, \"jose\": 4, \"maria\": 10, \"laura\": 8}\n",
    "notas_alumnos = pd.Series(dic_notas_alumnos, index=[\"andres\", \"pedro\", \"jose\", \"maria\", \"maria\"])\n",
    "notas_alumnos"
   ]
  },
  {
   "cell_type": "markdown",
   "id": "545af8d1-0b0c-4494-998f-70770a93c6b5",
   "metadata": {},
   "source": [
    "## Ejercicio 1.4\n",
    "Utilizando numpy junto con pandas podemos crear una serie en base a un array con numeros aleatorios"
   ]
  },
  {
   "cell_type": "code",
   "execution_count": 8,
   "id": "fff646a2-5622-4aac-b02c-bb730f9edc3a",
   "metadata": {},
   "outputs": [],
   "source": [
    "rng = np.random.default_rng()"
   ]
  },
  {
   "cell_type": "code",
   "execution_count": 9,
   "id": "dd876008-3f4e-41be-bc47-c28354357976",
   "metadata": {},
   "outputs": [
    {
     "data": {
      "text/plain": [
       "mendoza        86\n",
       "bsas          100\n",
       "cordoba        78\n",
       "san luis       31\n",
       "catamarca      78\n",
       "san juan        9\n",
       "la pampa       60\n",
       "entre rios     89\n",
       "caba            1\n",
       "misiones       85\n",
       "dtype: int64"
      ]
     },
     "execution_count": 9,
     "metadata": {},
     "output_type": "execute_result"
    }
   ],
   "source": [
    "array_enteros_aleatorios = rng.integers(1,101, 10) #Array con 10 elementos integer aleatorios entre 0 y 100\n",
    "index=[\"mendoza\", \"bsas\", \"cordoba\", \"san luis\", \"catamarca\", \"san juan\", \"la pampa\", \"entre rios\", \"caba\", \"misiones\"]\n",
    "provincias = pd.Series(array_enteros_aleatorios, index)\n",
    "provincias"
   ]
  },
  {
   "cell_type": "markdown",
   "id": "028d5236-9dcb-4b33-b91d-7c962730ea29",
   "metadata": {},
   "source": [
    "## Ejercicio 1.5 \n",
    "\n",
    "Veamos funciones simples para una serie"
   ]
  },
  {
   "cell_type": "code",
   "execution_count": 10,
   "id": "4af5f751-af72-4fba-9902-9991e6a49725",
   "metadata": {},
   "outputs": [
    {
     "data": {
      "text/plain": [
       "0      9\n",
       "1      8\n",
       "2     38\n",
       "3      1\n",
       "4     22\n",
       "      ..\n",
       "95    35\n",
       "96     6\n",
       "97    39\n",
       "98    97\n",
       "99    77\n",
       "Length: 100, dtype: int64"
      ]
     },
     "execution_count": 10,
     "metadata": {},
     "output_type": "execute_result"
    }
   ],
   "source": [
    "serie_cien_elementos = pd.Series(rng.integers(1,101, 100))\n",
    "serie_cien_elementos"
   ]
  },
  {
   "cell_type": "code",
   "execution_count": 11,
   "id": "5b1cbe60-73e0-4e4f-a442-d2bc68832f1c",
   "metadata": {},
   "outputs": [
    {
     "data": {
      "text/plain": [
       "100"
      ]
     },
     "execution_count": 11,
     "metadata": {},
     "output_type": "execute_result"
    }
   ],
   "source": [
    "len(serie_cien_elementos)"
   ]
  },
  {
   "cell_type": "code",
   "execution_count": 12,
   "id": "74496504-0196-483f-83a5-2dfd2c100713",
   "metadata": {},
   "outputs": [
    {
     "data": {
      "text/plain": [
       "(100,)"
      ]
     },
     "execution_count": 12,
     "metadata": {},
     "output_type": "execute_result"
    }
   ],
   "source": [
    "serie_cien_elementos.shape"
   ]
  },
  {
   "cell_type": "code",
   "execution_count": 13,
   "id": "18b27870-4fd4-4d87-ad1a-d6a5c20bc39d",
   "metadata": {},
   "outputs": [
    {
     "data": {
      "text/plain": [
       "dtype('int64')"
      ]
     },
     "execution_count": 13,
     "metadata": {},
     "output_type": "execute_result"
    }
   ],
   "source": [
    "serie_cien_elementos.dtype"
   ]
  },
  {
   "cell_type": "code",
   "execution_count": 14,
   "id": "36a69f24-6d23-4d55-9f9c-eedfa9e54529",
   "metadata": {},
   "outputs": [
    {
     "data": {
      "text/plain": [
       "0     9\n",
       "1     8\n",
       "2    38\n",
       "3     1\n",
       "4    22\n",
       "5    36\n",
       "6    58\n",
       "7     6\n",
       "8    13\n",
       "9    36\n",
       "dtype: int64"
      ]
     },
     "execution_count": 14,
     "metadata": {},
     "output_type": "execute_result"
    }
   ],
   "source": [
    "serie_cien_elementos.head(10)"
   ]
  },
  {
   "cell_type": "code",
   "execution_count": 15,
   "id": "28209d91-a76a-49e0-aec1-5d2e731af4c4",
   "metadata": {},
   "outputs": [
    {
     "data": {
      "text/plain": [
       "90    58\n",
       "91    38\n",
       "92    36\n",
       "93    28\n",
       "94    48\n",
       "95    35\n",
       "96     6\n",
       "97    39\n",
       "98    97\n",
       "99    77\n",
       "dtype: int64"
      ]
     },
     "execution_count": 15,
     "metadata": {},
     "output_type": "execute_result"
    }
   ],
   "source": [
    "serie_cien_elementos.tail(10)"
   ]
  },
  {
   "cell_type": "markdown",
   "id": "cbc13436-bafa-41e6-9f35-75206417d070",
   "metadata": {},
   "source": [
    "## Ejercicio 1.6 \n",
    "\n",
    "En las series podemos acceder a los valores y al indice usando tanto la posicion como el indice, o aplicando una condicion"
   ]
  },
  {
   "cell_type": "code",
   "execution_count": 16,
   "id": "e5699cb2-33fe-4987-aaca-b3ee454302c9",
   "metadata": {},
   "outputs": [
    {
     "data": {
      "text/plain": [
       "mendoza        86\n",
       "bsas          100\n",
       "cordoba        78\n",
       "san luis       31\n",
       "catamarca      78\n",
       "san juan        9\n",
       "la pampa       60\n",
       "entre rios     89\n",
       "caba            1\n",
       "misiones       85\n",
       "dtype: int64"
      ]
     },
     "execution_count": 16,
     "metadata": {},
     "output_type": "execute_result"
    }
   ],
   "source": [
    "provincias"
   ]
  },
  {
   "cell_type": "code",
   "execution_count": 17,
   "id": "3702355b-0e12-4240-abc0-88053a358398",
   "metadata": {},
   "outputs": [
    {
     "data": {
      "text/plain": [
       "('mendoza', 86)"
      ]
     },
     "execution_count": 17,
     "metadata": {},
     "output_type": "execute_result"
    }
   ],
   "source": [
    "provincias.index[0], provincias.iloc[0]"
   ]
  },
  {
   "cell_type": "code",
   "execution_count": 18,
   "id": "1d08aa4b-4e38-4a11-af5d-83f34a932a0b",
   "metadata": {},
   "outputs": [
    {
     "data": {
      "text/plain": [
       "('san luis', 31)"
      ]
     },
     "execution_count": 18,
     "metadata": {},
     "output_type": "execute_result"
    }
   ],
   "source": [
    "provincias.index[3], provincias.iloc[3]"
   ]
  },
  {
   "cell_type": "code",
   "execution_count": 19,
   "id": "061a62aa-b1e7-4355-aec7-e35df6c3724f",
   "metadata": {},
   "outputs": [
    {
     "data": {
      "text/plain": [
       "('misiones', 85)"
      ]
     },
     "execution_count": 19,
     "metadata": {},
     "output_type": "execute_result"
    }
   ],
   "source": [
    "provincias.index[-1], provincias.iloc[-1]"
   ]
  },
  {
   "cell_type": "code",
   "execution_count": 20,
   "id": "01ab5338-e19b-4466-99a4-620ef1dd1445",
   "metadata": {},
   "outputs": [
    {
     "data": {
      "text/plain": [
       "san juan       9\n",
       "la pampa      60\n",
       "entre rios    89\n",
       "caba           1\n",
       "dtype: int64"
      ]
     },
     "execution_count": 20,
     "metadata": {},
     "output_type": "execute_result"
    }
   ],
   "source": [
    "provincias.iloc[5:9]"
   ]
  },
  {
   "cell_type": "code",
   "execution_count": 21,
   "id": "5b55a9f0-dd77-46d9-af34-8073f6d3649d",
   "metadata": {},
   "outputs": [
    {
     "data": {
      "text/plain": [
       "mendoza     86\n",
       "bsas       100\n",
       "cordoba     78\n",
       "dtype: int64"
      ]
     },
     "execution_count": 21,
     "metadata": {},
     "output_type": "execute_result"
    }
   ],
   "source": [
    "provincias.iloc[:3]"
   ]
  },
  {
   "cell_type": "code",
   "execution_count": 22,
   "id": "59e51424-1eb5-4f70-97cd-4371fca8fe75",
   "metadata": {},
   "outputs": [
    {
     "data": {
      "text/plain": [
       "la pampa      60\n",
       "entre rios    89\n",
       "caba           1\n",
       "misiones      85\n",
       "dtype: int64"
      ]
     },
     "execution_count": 22,
     "metadata": {},
     "output_type": "execute_result"
    }
   ],
   "source": [
    "provincias.iloc[-4:]"
   ]
  },
  {
   "cell_type": "code",
   "execution_count": 23,
   "id": "ef17a30d-c2be-4664-9e2a-5ca5883ca5ad",
   "metadata": {},
   "outputs": [
    {
     "data": {
      "text/plain": [
       "mendoza        86\n",
       "bsas          100\n",
       "cordoba        78\n",
       "catamarca      78\n",
       "la pampa       60\n",
       "entre rios     89\n",
       "misiones       85\n",
       "dtype: int64"
      ]
     },
     "execution_count": 23,
     "metadata": {},
     "output_type": "execute_result"
    }
   ],
   "source": [
    "provincias[provincias > 50] #Solo obtenemos los valores > 50"
   ]
  },
  {
   "cell_type": "code",
   "execution_count": 24,
   "id": "1ba66873-a413-402f-9c3b-3c5ab8478619",
   "metadata": {},
   "outputs": [
    {
     "data": {
      "text/plain": [
       "Series([], dtype: int64)"
      ]
     },
     "execution_count": 24,
     "metadata": {},
     "output_type": "execute_result"
    }
   ],
   "source": [
    "provincias[provincias == 11] #Solo obtenemos los valores = 11"
   ]
  },
  {
   "cell_type": "code",
   "execution_count": 25,
   "id": "815ede69-7c2b-4248-8471-905daf5640cc",
   "metadata": {},
   "outputs": [
    {
     "data": {
      "text/plain": [
       "san luis    31\n",
       "dtype: int64"
      ]
     },
     "execution_count": 25,
     "metadata": {},
     "output_type": "execute_result"
    }
   ],
   "source": [
    "provincias[(provincias > 15) & (provincias < 40)] #Solo obtenemos los valores entre >15 y <40"
   ]
  },
  {
   "cell_type": "code",
   "execution_count": 26,
   "id": "496ffd6e-08e9-49c6-baf7-921420790bb0",
   "metadata": {},
   "outputs": [
    {
     "data": {
      "text/plain": [
       "60"
      ]
     },
     "execution_count": 26,
     "metadata": {},
     "output_type": "execute_result"
    }
   ],
   "source": [
    "provincias[\"la pampa\"] #Podemos acceder a un valor usando el indice"
   ]
  },
  {
   "cell_type": "code",
   "execution_count": 27,
   "id": "21fe05b4-f26f-4871-b855-eb6f8cfa38a8",
   "metadata": {},
   "outputs": [
    {
     "data": {
      "text/plain": [
       "la pampa    60\n",
       "cordoba     78\n",
       "caba         1\n",
       "dtype: int64"
      ]
     },
     "execution_count": 27,
     "metadata": {},
     "output_type": "execute_result"
    }
   ],
   "source": [
    "provincias[[\"la pampa\",\"cordoba\",\"caba\"]] #O a multiples pasando una tupla con los indices"
   ]
  },
  {
   "cell_type": "markdown",
   "id": "4efe72ff-87d3-49ca-8700-59b4ca6a8b3e",
   "metadata": {},
   "source": [
    "## Ejercicio 1.7\n",
    "\n",
    "En pandas contamos con una amplia gama de funciones y metodos que nos permiten realizar calculos"
   ]
  },
  {
   "cell_type": "code",
   "execution_count": 28,
   "id": "efdf1100-d633-427d-bfa6-b4e4e2b58a91",
   "metadata": {},
   "outputs": [
    {
     "data": {
      "text/plain": [
       "mendoza        86\n",
       "bsas          100\n",
       "cordoba        78\n",
       "san luis       31\n",
       "catamarca      78\n",
       "san juan        9\n",
       "la pampa       60\n",
       "entre rios     89\n",
       "caba            1\n",
       "misiones       85\n",
       "dtype: int64"
      ]
     },
     "execution_count": 28,
     "metadata": {},
     "output_type": "execute_result"
    }
   ],
   "source": [
    "provincias"
   ]
  },
  {
   "cell_type": "code",
   "execution_count": 29,
   "id": "837ac240-c989-43bf-a8e5-e9386dfb5f16",
   "metadata": {},
   "outputs": [
    {
     "data": {
      "text/plain": [
       "10"
      ]
     },
     "execution_count": 29,
     "metadata": {},
     "output_type": "execute_result"
    }
   ],
   "source": [
    "provincias.count() #Para contar elementos usamos "
   ]
  },
  {
   "cell_type": "code",
   "execution_count": 30,
   "id": "2d4ba890-3f70-4b6f-9616-041868a47e22",
   "metadata": {},
   "outputs": [
    {
     "data": {
      "text/plain": [
       "617"
      ]
     },
     "execution_count": 30,
     "metadata": {},
     "output_type": "execute_result"
    }
   ],
   "source": [
    "provincias.sum() #Con sum podemos usar los valores de una serie"
   ]
  },
  {
   "cell_type": "code",
   "execution_count": 31,
   "id": "a715b6fa-b355-493a-8659-dd6811600bf1",
   "metadata": {},
   "outputs": [
    {
     "data": {
      "text/plain": [
       "1"
      ]
     },
     "execution_count": 31,
     "metadata": {},
     "output_type": "execute_result"
    }
   ],
   "source": [
    "provincias.min() #Nos devuelve el valor minimo"
   ]
  },
  {
   "cell_type": "code",
   "execution_count": 32,
   "id": "f1ce2c83-12a3-44a8-984d-c50ac0c62d8d",
   "metadata": {},
   "outputs": [
    {
     "data": {
      "text/plain": [
       "100"
      ]
     },
     "execution_count": 32,
     "metadata": {},
     "output_type": "execute_result"
    }
   ],
   "source": [
    "provincias.max() #Nos devuelve el valor maximo"
   ]
  },
  {
   "cell_type": "code",
   "execution_count": 33,
   "id": "5d50731b-264e-467f-9eae-51f1fe354510",
   "metadata": {},
   "outputs": [
    {
     "data": {
      "text/plain": [
       "61.7"
      ]
     },
     "execution_count": 33,
     "metadata": {},
     "output_type": "execute_result"
    }
   ],
   "source": [
    "provincias.mean() #Calcula el promedio"
   ]
  },
  {
   "cell_type": "code",
   "execution_count": 34,
   "id": "2e3b665f-3011-45dc-a3df-434ea20487cb",
   "metadata": {},
   "outputs": [
    {
     "data": {
      "text/plain": [
       "1253.788888888889"
      ]
     },
     "execution_count": 34,
     "metadata": {},
     "output_type": "execute_result"
    }
   ],
   "source": [
    "provincias.var() #Retorna la varianza"
   ]
  },
  {
   "cell_type": "code",
   "execution_count": 35,
   "id": "9debb52f-4409-42af-8f5e-1f1f968de472",
   "metadata": {},
   "outputs": [
    {
     "data": {
      "text/plain": [
       "35.40888149728665"
      ]
     },
     "execution_count": 35,
     "metadata": {},
     "output_type": "execute_result"
    }
   ],
   "source": [
    "provincias.std() #Calcula el desviacion tipica"
   ]
  },
  {
   "cell_type": "code",
   "execution_count": 36,
   "id": "6498a5df-0d79-484d-9375-b5d39367aa65",
   "metadata": {},
   "outputs": [
    {
     "data": {
      "text/plain": [
       "count     10.000000\n",
       "mean      61.700000\n",
       "std       35.408881\n",
       "min        1.000000\n",
       "25%       38.250000\n",
       "50%       78.000000\n",
       "75%       85.750000\n",
       "max      100.000000\n",
       "dtype: float64"
      ]
     },
     "execution_count": 36,
     "metadata": {},
     "output_type": "execute_result"
    }
   ],
   "source": [
    "provincias.describe() #Crea un mini resumen con estadisticas para la serie numerica"
   ]
  },
  {
   "cell_type": "code",
   "execution_count": 37,
   "id": "d3da2a7b-28b6-4da5-aa5b-3bb066313611",
   "metadata": {},
   "outputs": [
    {
     "data": {
      "text/plain": [
       "caba            1\n",
       "san juan        9\n",
       "san luis       31\n",
       "la pampa       60\n",
       "cordoba        78\n",
       "catamarca      78\n",
       "misiones       85\n",
       "mendoza        86\n",
       "entre rios     89\n",
       "bsas          100\n",
       "dtype: int64"
      ]
     },
     "execution_count": 37,
     "metadata": {},
     "output_type": "execute_result"
    }
   ],
   "source": [
    "provincias.sort_values() #Ordena la serie en base a los valores"
   ]
  },
  {
   "cell_type": "code",
   "execution_count": 38,
   "id": "6faf819c-6f2a-48af-bd5d-a0fef40d26ee",
   "metadata": {},
   "outputs": [
    {
     "data": {
      "text/plain": [
       "bsas          100\n",
       "entre rios     89\n",
       "mendoza        86\n",
       "misiones       85\n",
       "cordoba        78\n",
       "catamarca      78\n",
       "la pampa       60\n",
       "san luis       31\n",
       "san juan        9\n",
       "caba            1\n",
       "dtype: int64"
      ]
     },
     "execution_count": 38,
     "metadata": {},
     "output_type": "execute_result"
    }
   ],
   "source": [
    "provincias.sort_values(ascending = False) #Asi se ordena de manera descendete"
   ]
  },
  {
   "cell_type": "code",
   "execution_count": 39,
   "id": "47ed9a7c-bb8d-45a2-8440-2b072da820a7",
   "metadata": {},
   "outputs": [
    {
     "data": {
      "text/plain": [
       "mendoza        oeste\n",
       "bsas            este\n",
       "cordoba       centro\n",
       "san luis       oeste\n",
       "catamarca      oeste\n",
       "san juan       oeste\n",
       "la pampa      centro\n",
       "entre rios      este\n",
       "caba            este\n",
       "misiones       norte\n",
       "dtype: object"
      ]
     },
     "execution_count": 39,
     "metadata": {},
     "output_type": "execute_result"
    }
   ],
   "source": [
    "#Creamos una serie con categorias\n",
    "index=[\"mendoza\", \"bsas\", \"cordoba\", \"san luis\", \"catamarca\", \"san juan\", \"la pampa\", \"entre rios\", \"caba\", \"misiones\"]\n",
    "regiones = pd.Series([\"oeste\", \"este\", \"centro\", \"oeste\",\"oeste\",\"oeste\",\"centro\",\"este\",\"este\",\"norte\"], index)\n",
    "regiones"
   ]
  },
  {
   "cell_type": "code",
   "execution_count": 40,
   "id": "814dfb0a-98a1-479f-9364-5d8dca275d25",
   "metadata": {},
   "outputs": [
    {
     "data": {
      "text/plain": [
       "oeste     4\n",
       "este      3\n",
       "centro    2\n",
       "norte     1\n",
       "Name: count, dtype: int64"
      ]
     },
     "execution_count": 40,
     "metadata": {},
     "output_type": "execute_result"
    }
   ],
   "source": [
    "regiones.value_counts() #Podemos ver cuantas veces se repite cada categoria, ES CASE SENSITIVE"
   ]
  },
  {
   "cell_type": "code",
   "execution_count": 41,
   "id": "05bb270f-1db0-4f1c-8aff-d829ee8bbcea",
   "metadata": {},
   "outputs": [
    {
     "data": {
      "text/plain": [
       "count        10\n",
       "unique        4\n",
       "top       oeste\n",
       "freq          4\n",
       "dtype: object"
      ]
     },
     "execution_count": 41,
     "metadata": {},
     "output_type": "execute_result"
    }
   ],
   "source": [
    "regiones.describe() #Crea un mini resumen para la serie categorica"
   ]
  },
  {
   "cell_type": "markdown",
   "id": "771fbc88-226b-45ac-bee2-cabd6deedaf9",
   "metadata": {},
   "source": [
    "## Ejercicio 1.8\n",
    "\n",
    "Una de las ventajas de la libreria pandas es que permite utilizar fechas.\n",
    "\n",
    "Veamos como utilizar la funcion date_range"
   ]
  },
  {
   "cell_type": "code",
   "execution_count": 42,
   "id": "dd77f1ff-7d4b-44d0-b772-55332d372f41",
   "metadata": {},
   "outputs": [
    {
     "data": {
      "text/plain": [
       "DatetimeIndex(['2024-04-01', '2024-04-02', '2024-04-03', '2024-04-04'], dtype='datetime64[ns]', freq='D')"
      ]
     },
     "execution_count": 42,
     "metadata": {},
     "output_type": "execute_result"
    }
   ],
   "source": [
    "pd.date_range(start='2024-04-01', end='2024-04-04') #Asi seguimos la estructura AAAA-MM-DD"
   ]
  },
  {
   "cell_type": "code",
   "execution_count": 43,
   "id": "595384bb-62de-4c77-8a3c-c9651c342902",
   "metadata": {},
   "outputs": [
    {
     "data": {
      "text/plain": [
       "DatetimeIndex(['2024-04-01', '2024-04-02', '2024-04-03', '2024-04-04'], dtype='datetime64[ns]', freq='D')"
      ]
     },
     "execution_count": 43,
     "metadata": {},
     "output_type": "execute_result"
    }
   ],
   "source": [
    "pd.date_range(start='04/01/2024', end='04/04/2024') #Asi seguimos la estructura MM/DD/AAAA"
   ]
  },
  {
   "cell_type": "code",
   "execution_count": 44,
   "id": "0f55c6ff-2653-463a-94c4-25cf662d3b94",
   "metadata": {},
   "outputs": [
    {
     "data": {
      "text/plain": [
       "DatetimeIndex(['2010-12-31', '2011-12-31', '2012-12-31', '2013-12-31',\n",
       "               '2014-12-31', '2015-12-31', '2016-12-31', '2017-12-31',\n",
       "               '2018-12-31', '2019-12-31', '2020-12-31', '2021-12-31',\n",
       "               '2022-12-31', '2023-12-31'],\n",
       "              dtype='datetime64[ns]', freq='YE-DEC')"
      ]
     },
     "execution_count": 44,
     "metadata": {},
     "output_type": "execute_result"
    }
   ],
   "source": [
    "#Podemos utilizar diferentes frecuencias\n",
    "pd.date_range(start='2010', end='2024', freq = \"YE\") #Separa cada valor por el ultimo dia del año"
   ]
  },
  {
   "cell_type": "code",
   "execution_count": 45,
   "id": "3007bd41-2164-48da-845d-ee7ed5dab995",
   "metadata": {},
   "outputs": [
    {
     "data": {
      "text/plain": [
       "DatetimeIndex(['2023-01-31', '2023-02-28', '2023-03-31', '2023-04-30',\n",
       "               '2023-05-31', '2023-06-30', '2023-07-31', '2023-08-31',\n",
       "               '2023-09-30', '2023-10-31', '2023-11-30', '2023-12-31'],\n",
       "              dtype='datetime64[ns]', freq='ME')"
      ]
     },
     "execution_count": 45,
     "metadata": {},
     "output_type": "execute_result"
    }
   ],
   "source": [
    "pd.date_range(start='2023', end='2024', freq = \"ME\") #Separa cada valor por el ultimo dia del mes"
   ]
  },
  {
   "cell_type": "code",
   "execution_count": 46,
   "id": "efcd6ecc-7672-4d1b-944b-81cb2b285e89",
   "metadata": {},
   "outputs": [
    {
     "data": {
      "text/plain": [
       "DatetimeIndex(['2023-03-05', '2023-03-12', '2023-03-19', '2023-03-26'], dtype='datetime64[ns]', freq='W-SUN')"
      ]
     },
     "execution_count": 46,
     "metadata": {},
     "output_type": "execute_result"
    }
   ],
   "source": [
    "pd.date_range(start='2023/03', end='2023/04', freq = \"W\") #Separa cada valor por el ultimo dia de la semana"
   ]
  },
  {
   "cell_type": "code",
   "execution_count": 47,
   "id": "0cc72e56-9843-4889-9362-d07569509607",
   "metadata": {},
   "outputs": [
    {
     "data": {
      "text/plain": [
       "DatetimeIndex(['2023-03-01', '2023-03-02', '2023-03-03', '2023-03-04',\n",
       "               '2023-03-05', '2023-03-06', '2023-03-07', '2023-03-08',\n",
       "               '2023-03-09', '2023-03-10', '2023-03-11', '2023-03-12',\n",
       "               '2023-03-13', '2023-03-14', '2023-03-15', '2023-03-16',\n",
       "               '2023-03-17', '2023-03-18', '2023-03-19', '2023-03-20',\n",
       "               '2023-03-21', '2023-03-22', '2023-03-23', '2023-03-24',\n",
       "               '2023-03-25', '2023-03-26', '2023-03-27', '2023-03-28',\n",
       "               '2023-03-29', '2023-03-30', '2023-03-31', '2023-04-01'],\n",
       "              dtype='datetime64[ns]', freq='D')"
      ]
     },
     "execution_count": 47,
     "metadata": {},
     "output_type": "execute_result"
    }
   ],
   "source": [
    "pd.date_range(start='2023/03', end='2023/04', freq = \"D\") #Separa cada valor por dia"
   ]
  },
  {
   "cell_type": "code",
   "execution_count": 48,
   "id": "4138b8bc-02ab-4d8a-89a7-4c07976da586",
   "metadata": {},
   "outputs": [
    {
     "data": {
      "text/plain": [
       "DatetimeIndex(['2023-03-01 00:00:00', '2023-03-16 12:00:00',\n",
       "               '2023-04-01 00:00:00'],\n",
       "              dtype='datetime64[ns]', freq=None)"
      ]
     },
     "execution_count": 48,
     "metadata": {},
     "output_type": "execute_result"
    }
   ],
   "source": [
    "#Otra opcion es usar la cantidad de periodes que queremos\n",
    "pd.date_range(start='2023/03', end='2023/04', periods = 3) #Divide lo que hay entre 2023 y 2024 en 3 periodos iguales"
   ]
  },
  {
   "cell_type": "code",
   "execution_count": 49,
   "id": "995df802-34c4-4734-a9a0-438c7109e031",
   "metadata": {},
   "outputs": [
    {
     "data": {
      "text/plain": [
       "DatetimeIndex(['2023-03-01 00:00:00', '2023-03-07 04:48:00',\n",
       "               '2023-03-13 09:36:00', '2023-03-19 14:24:00',\n",
       "               '2023-03-25 19:12:00', '2023-04-01 00:00:00'],\n",
       "              dtype='datetime64[ns]', freq=None)"
      ]
     },
     "execution_count": 49,
     "metadata": {},
     "output_type": "execute_result"
    }
   ],
   "source": [
    "pd.date_range(start='2023/03', end='2023/04', periods = 6) #Divide lo que hay entre marzo del 2023 y abril del 2024 en 6 periodos iguales"
   ]
  },
  {
   "cell_type": "code",
   "execution_count": 50,
   "id": "246a270a-6250-4cc5-a853-3b028a42a8c6",
   "metadata": {},
   "outputs": [
    {
     "data": {
      "text/plain": [
       "DatetimeIndex(['2023-04-01 00:00:00', '2023-04-01 06:00:00',\n",
       "               '2023-04-01 12:00:00', '2023-04-01 18:00:00',\n",
       "               '2023-04-02 00:00:00'],\n",
       "              dtype='datetime64[ns]', freq=None)"
      ]
     },
     "execution_count": 50,
     "metadata": {},
     "output_type": "execute_result"
    }
   ],
   "source": [
    "pd.date_range(start='2023/04/1', end='2023/04/2' , periods = 5) #Divide lo que hay entre 2023/04/1 y 2023/04/2 en 5 periodos iguales"
   ]
  },
  {
   "cell_type": "markdown",
   "id": "1757caa0-8548-46b3-bdee-f02cbeb80773",
   "metadata": {},
   "source": [
    "## Ejercicio 1.9\n",
    "\n",
    "Ya vimos como podemos crear fechas, estas son muy utiles para los indices ya que nos permiten transforma nuestra serie en una serie temporal."
   ]
  },
  {
   "cell_type": "code",
   "execution_count": 51,
   "id": "133a7c7f-9850-4e90-8e5a-5396a4d6f4ce",
   "metadata": {},
   "outputs": [],
   "source": [
    "dias_marzo = pd.date_range(start='2024/03/1', end='2024/04/1' , freq = 'D')"
   ]
  },
  {
   "cell_type": "code",
   "execution_count": 52,
   "id": "4c4ac5ec-c56a-4986-99b8-a380de34ae37",
   "metadata": {},
   "outputs": [
    {
     "data": {
      "text/plain": [
       "2024-03-01    89\n",
       "2024-03-02    45\n",
       "2024-03-03    97\n",
       "2024-03-04    38\n",
       "2024-03-05    96\n",
       "2024-03-06    98\n",
       "2024-03-07    64\n",
       "2024-03-08    52\n",
       "2024-03-09    70\n",
       "2024-03-10    63\n",
       "2024-03-11     2\n",
       "2024-03-12    77\n",
       "2024-03-13    58\n",
       "2024-03-14    41\n",
       "2024-03-15    56\n",
       "2024-03-16    16\n",
       "2024-03-17     4\n",
       "2024-03-18     9\n",
       "2024-03-19     7\n",
       "2024-03-20    86\n",
       "2024-03-21    54\n",
       "2024-03-22     9\n",
       "2024-03-23    45\n",
       "2024-03-24    77\n",
       "2024-03-25    35\n",
       "2024-03-26    76\n",
       "2024-03-27    11\n",
       "2024-03-28    50\n",
       "2024-03-29    10\n",
       "2024-03-30    49\n",
       "2024-03-31    98\n",
       "2024-04-01    14\n",
       "Freq: D, dtype: int64"
      ]
     },
     "execution_count": 52,
     "metadata": {},
     "output_type": "execute_result"
    }
   ],
   "source": [
    "cantidad_accidentes_viales_marzo = pd.Series(rng.integers(1,101, len(dias_marzo)), index = dias_marzo)\n",
    "cantidad_accidentes_viales_marzo"
   ]
  },
  {
   "cell_type": "code",
   "execution_count": 53,
   "id": "0d7a2fa1-5189-40be-b139-0aaeb35c8067",
   "metadata": {},
   "outputs": [
    {
     "data": {
      "text/plain": [
       "count    32.000000\n",
       "mean     49.875000\n",
       "std      31.353088\n",
       "min       2.000000\n",
       "25%      15.500000\n",
       "50%      51.000000\n",
       "75%      76.250000\n",
       "max      98.000000\n",
       "dtype: float64"
      ]
     },
     "execution_count": 53,
     "metadata": {},
     "output_type": "execute_result"
    }
   ],
   "source": [
    "cantidad_accidentes_viales_marzo.describe()"
   ]
  }
 ],
 "metadata": {
  "kernelspec": {
   "display_name": "Python 3 (ipykernel)",
   "language": "python",
   "name": "python3"
  },
  "language_info": {
   "codemirror_mode": {
    "name": "ipython",
    "version": 3
   },
   "file_extension": ".py",
   "mimetype": "text/x-python",
   "name": "python",
   "nbconvert_exporter": "python",
   "pygments_lexer": "ipython3",
   "version": "3.11.7"
  }
 },
 "nbformat": 4,
 "nbformat_minor": 5
}
