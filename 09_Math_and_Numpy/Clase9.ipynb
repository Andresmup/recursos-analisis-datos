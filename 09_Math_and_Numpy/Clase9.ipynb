{
  "nbformat": 4,
  "nbformat_minor": 0,
  "metadata": {
    "colab": {
      "provenance": [],
      "authorship_tag": "ABX9TyO1zUkT0C7diu+v9CS4bK3r",
      "include_colab_link": true
    },
    "kernelspec": {
      "name": "python3",
      "display_name": "Python 3"
    },
    "language_info": {
      "name": "python"
    }
  },
  "cells": [
    {
      "cell_type": "markdown",
      "metadata": {
        "id": "view-in-github",
        "colab_type": "text"
      },
      "source": [
        "<a href=\"https://colab.research.google.com/github/Andresmup/recursos-analisis-datos/blob/dev/9_Math_and_Numpy/Clase9.ipynb\" target=\"_parent\"><img src=\"https://colab.research.google.com/assets/colab-badge.svg\" alt=\"Open In Colab\"/></a>"
      ]
    },
    {
      "cell_type": "markdown",
      "source": [
        "# INTRODUCCIÓN AL TRABAJO CON MODULOS\n",
        "\n",
        "Los módulos en Python son como cajas de herramientas que contienen conjuntos de funciones y variables que pueden ser utilizadas para realizar tareas específicas.\n",
        "\n",
        "Estos compartimentos organizados guardan diferentes herramientas para hacer diferentes trabajos.\n",
        "\n",
        "Puedes usar estos módulos simplemente llamándolos en tu programa cuando los necesites, y así aprovechar todas las funcionalidades que ofrecen sin tener que volver a escribir todo el código desde cero.\n",
        "\n",
        "\n",
        "Para importar el cualquier modulo es muy simple:\n",
        "\n",
        "`import <nombre_modulo>`\n",
        "\n",
        "Podemos asignarle un alias al importarlo :\n",
        "\n",
        "`import <nombre_modulo> as <alias>`\n",
        "\n",
        "O si vamos a utilizar solo una parte de todo el módulo y no queremos sobre cargar la memoria con cosas incesarias podemos importar un paquete en particular:\n",
        "\n",
        "`from <nombre_modulo> import <nombre_paquete> as <alias> (opcional)`"
      ],
      "metadata": {
        "id": "fPrgaA7788tD"
      }
    },
    {
      "cell_type": "markdown",
      "source": [
        "## INSTALAR MÓDULOS\n",
        "\n",
        "A la hora de trabajar con módulos es posible que no los tengamos instalados ya que muchos son creados por la comunidad o simplemente no estan incluidos con los archivos base de python.\n",
        "\n",
        "Para ello podemos usar **pip**:\n",
        "- En la terminal (local): `pip install <nombre_modulo>`\n",
        "- En colab ejecutar en una celda: `!pip install <nombre_modulo>`"
      ],
      "metadata": {
        "id": "lJFJ8VkyjsRP"
      }
    },
    {
      "cell_type": "markdown",
      "source": [
        "## MATH\n",
        "\n",
        "El módulo `math` en Python se utiliza para realizar operaciones matemáticas más avanzadas que las disponibles en el conjunto de funciones y permite utilizar constantes matemáticas básicas para manejar problemas más complejos que requieren operaciones matemáticas avanzadas..\n",
        "\n",
        "Incluye funciones para:\n",
        "- Realizar cálculos trigonométricos\n",
        "- Operaciones de álgebra lineal\n",
        "- Funciones exponenciales y logarítmicas\n"
      ],
      "metadata": {
        "id": "Tw4ClgD09B_K"
      }
    },
    {
      "cell_type": "markdown",
      "source": [
        "### Ejercicio 1.0\n",
        "\n",
        "Importar el módulo math"
      ],
      "metadata": {
        "id": "aUxaLgHrgioA"
      }
    },
    {
      "cell_type": "code",
      "source": [
        "import math"
      ],
      "metadata": {
        "id": "B7H5bO_igoIm"
      },
      "execution_count": 1,
      "outputs": []
    },
    {
      "cell_type": "markdown",
      "source": [
        "### Ejercicio 1.1\n",
        "\n",
        "Calculadora de Área de un Círculo"
      ],
      "metadata": {
        "id": "EGlONiR3gq4x"
      }
    },
    {
      "cell_type": "code",
      "source": [
        "radio = float(input(\"Ingrese el radio del círculo: \"))\n",
        "area = math.pi * radio ** 2\n",
        "print(\"El área del círculo es:\", area)"
      ],
      "metadata": {
        "colab": {
          "base_uri": "https://localhost:8080/"
        },
        "id": "4XE-_66pgyU0",
        "outputId": "01088af4-c0f8-481a-8568-4a8bf2d4de86"
      },
      "execution_count": 2,
      "outputs": [
        {
          "output_type": "stream",
          "name": "stdout",
          "text": [
            "Ingrese el radio del círculo: 5\n",
            "El área del círculo es: 78.53981633974483\n"
          ]
        }
      ]
    },
    {
      "cell_type": "markdown",
      "source": [
        "### Ejercicio 1.2\n",
        "\n",
        "Calculadora de Hipotenusa"
      ],
      "metadata": {
        "id": "SUsgRsfog2QY"
      }
    },
    {
      "cell_type": "code",
      "source": [
        "cateto1 = float(input(\"Ingrese la longitud del primer cateto: \"))\n",
        "cateto2 = float(input(\"Ingrese la longitud del segundo cateto: \"))\n",
        "hipotenusa = math.sqrt(cateto1 ** 2 + cateto2 ** 2)\n",
        "print(\"La longitud de la hipotenusa es:\", hipotenusa)"
      ],
      "metadata": {
        "colab": {
          "base_uri": "https://localhost:8080/"
        },
        "id": "3nmNLkINg7GP",
        "outputId": "52eb41ee-1ddb-4a04-b010-97301dbc2aeb"
      },
      "execution_count": 3,
      "outputs": [
        {
          "output_type": "stream",
          "name": "stdout",
          "text": [
            "Ingrese la longitud del primer cateto: 3\n",
            "Ingrese la longitud del segundo cateto: 4\n",
            "La longitud de la hipotenusa es: 5.0\n"
          ]
        }
      ]
    },
    {
      "cell_type": "markdown",
      "source": [
        "### Ejercicio 1.3\n",
        "\n",
        "Calculadora seno, coseno, tangente"
      ],
      "metadata": {
        "id": "oEnSXQFtg-N8"
      }
    },
    {
      "cell_type": "code",
      "source": [
        "angulo_grados = float(input(\"Ingrese el ángulo en grados: \"))\n",
        "angulo_radianes = math.radians(angulo_grados)\n",
        "\n",
        "seno = math.sin(angulo_radianes)\n",
        "coseno = math.cos(angulo_radianes)\n",
        "tangente = math.tan(angulo_radianes)\n",
        "\n",
        "print(\"Seno:\", seno)\n",
        "print(\"Coseno:\", coseno)\n",
        "print(\"Tangente:\", tangente)"
      ],
      "metadata": {
        "colab": {
          "base_uri": "https://localhost:8080/"
        },
        "id": "JgBiCviCg9Rr",
        "outputId": "d84aea6d-c731-4bc1-d9d5-cc68eb410d90"
      },
      "execution_count": 4,
      "outputs": [
        {
          "output_type": "stream",
          "name": "stdout",
          "text": [
            "Ingrese el ángulo en grados: 20\n",
            "Seno: 0.3420201433256687\n",
            "Coseno: 0.9396926207859084\n",
            "Tangente: 0.36397023426620234\n"
          ]
        }
      ]
    },
    {
      "cell_type": "markdown",
      "source": [
        "### Ejercicio 1.4\n",
        "\n",
        "Cálculo de Potencias"
      ],
      "metadata": {
        "id": "SjMUkTy0h0zZ"
      }
    },
    {
      "cell_type": "code",
      "source": [
        "base = float(input(\"Ingrese la base: \"))\n",
        "exponente = float(input(\"Ingrese el exponente: \"))\n",
        "resultado = math.pow(base, exponente)\n",
        "print(\"El resultado de\", base, \"elevado a la\", exponente, \"es:\", resultado)"
      ],
      "metadata": {
        "colab": {
          "base_uri": "https://localhost:8080/"
        },
        "id": "lzkyOwMxh8mi",
        "outputId": "bd2d0f2b-8490-4496-e73e-32f738184164"
      },
      "execution_count": 5,
      "outputs": [
        {
          "output_type": "stream",
          "name": "stdout",
          "text": [
            "Ingrese la base: 3\n",
            "Ingrese el exponente: -6\n",
            "El resultado de 3.0 elevado a la -6.0 es: 0.0013717421124828531\n"
          ]
        }
      ]
    },
    {
      "cell_type": "markdown",
      "source": [
        "### Ejercicio 1.5\n",
        "\n",
        "Área de un Triángulo (fórmula de Herón)"
      ],
      "metadata": {
        "id": "oY24aY8uiJ45"
      }
    },
    {
      "cell_type": "code",
      "source": [
        "lado1 = 5\n",
        "lado2 = 6\n",
        "lado3 = 7\n",
        "\n",
        "s = (lado1 + lado2 + lado3) / 2\n",
        "\n",
        "area = math.sqrt(s * (s - lado1) * (s - lado2) * (s - lado3))\n",
        "print(\"El área del triángulo es:\", area)"
      ],
      "metadata": {
        "colab": {
          "base_uri": "https://localhost:8080/"
        },
        "id": "YzQGXaSwiJmM",
        "outputId": "ad3e5ecf-d05b-4f44-d98c-f0fe3a0367a7"
      },
      "execution_count": 6,
      "outputs": [
        {
          "output_type": "stream",
          "name": "stdout",
          "text": [
            "El área del triángulo es: 14.696938456699069\n"
          ]
        }
      ]
    },
    {
      "cell_type": "markdown",
      "source": [
        "### Ejercicio 1.6\n",
        "\n",
        "Suma de una Serie Infinita (π/4 = 1 - 1/3 + 1/5 - 1/7 + 1/9 - ...)"
      ],
      "metadata": {
        "id": "upcjodVIgWV5"
      }
    },
    {
      "cell_type": "code",
      "source": [
        "suma = 0\n",
        "terminos = 1000\n",
        "\n",
        "for i in range(terminos):\n",
        "    suma += (-1) ** i / (2 * i + 1)\n",
        "\n",
        "pi = 4 * suma\n",
        "print(\"El valor de π aproximado es:\", pi)"
      ],
      "metadata": {
        "colab": {
          "base_uri": "https://localhost:8080/"
        },
        "id": "bVYaGxs3gVAN",
        "outputId": "73818f4d-946e-49d3-ebcf-637e3304f0c5"
      },
      "execution_count": 7,
      "outputs": [
        {
          "output_type": "stream",
          "name": "stdout",
          "text": [
            "El valor de π aproximado es: 3.140592653839794\n"
          ]
        }
      ]
    },
    {
      "cell_type": "markdown",
      "source": [
        "## NUMPY\n",
        "\n",
        "NumPy es una biblioteca de Python que ayuda a trabajar con matrices y arreglos multidimensionales.\n",
        "\n",
        "Con NumPy se puede realizar:\n",
        "- Multiplicación de matrices/arregleos\n",
        "- Inversión de matrices/arregleos\n",
        "- Cálculo de funciones trigonométricas\n",
        "- Procesamiento de datos\n",
        "- Mmanipulación de matrices grandes de manera rápida y eficiente.\n",
        "\n",
        "En resumen NumPy se usa para trabajar con datos numéricos en Python."
      ],
      "metadata": {
        "id": "rQjb76FUigb-"
      }
    },
    {
      "cell_type": "markdown",
      "source": [
        "### Ejercicio 2.0\n",
        "\n",
        "Importar Numpy pero usando el alias np"
      ],
      "metadata": {
        "id": "7pFnwFXzjjMx"
      }
    },
    {
      "cell_type": "code",
      "source": [
        "import numpy as np"
      ],
      "metadata": {
        "id": "_FgOq3cTjilt"
      },
      "execution_count": 8,
      "outputs": []
    },
    {
      "cell_type": "markdown",
      "source": [
        "### Ejercicio 2.1\n",
        "\n",
        "Veamos las operaciones basicas con arrays\n"
      ],
      "metadata": {
        "id": "rxos2z_xl_lF"
      }
    },
    {
      "cell_type": "code",
      "source": [
        "array1 = np.array([1, 2, 3, 4, 5])\n",
        "array2 = np.array([6, 7, 8, 9, 10])\n",
        "\n",
        "suma = array1 + array2\n",
        "resta = array1 - array2\n",
        "multiplicacion = array1 * array2\n",
        "division = array1 / array2\n",
        "\n",
        "print(\"Suma:\", suma)\n",
        "print(\"Resta:\", resta)\n",
        "print(\"Multiplicación:\", multiplicacion)\n",
        "print(\"División:\", division)"
      ],
      "metadata": {
        "colab": {
          "base_uri": "https://localhost:8080/"
        },
        "id": "ULRp7i0imPXW",
        "outputId": "b90bf998-c608-4634-bf8a-0e2ee075e3fe"
      },
      "execution_count": 9,
      "outputs": [
        {
          "output_type": "stream",
          "name": "stdout",
          "text": [
            "Suma: [ 7  9 11 13 15]\n",
            "Resta: [-5 -5 -5 -5 -5]\n",
            "Multiplicación: [ 6 14 24 36 50]\n",
            "División: [0.16666667 0.28571429 0.375      0.44444444 0.5       ]\n"
          ]
        }
      ]
    },
    {
      "cell_type": "markdown",
      "source": [
        "### Ejercicio 2.2\n",
        "\n",
        "Con numpy es muy facil crear matrices, por ejemplo la matriz de Identidad\n"
      ],
      "metadata": {
        "id": "IV6dtVWlmFQ0"
      }
    },
    {
      "cell_type": "code",
      "source": [
        "matriz_identidad = np.eye(5)\n",
        "print(\"Matriz de identidad 5x5:\")\n",
        "print(matriz_identidad)"
      ],
      "metadata": {
        "colab": {
          "base_uri": "https://localhost:8080/"
        },
        "id": "7Hs3pg1ymE8r",
        "outputId": "caf09f5d-f86b-4b23-e663-962cb474260e"
      },
      "execution_count": 10,
      "outputs": [
        {
          "output_type": "stream",
          "name": "stdout",
          "text": [
            "Matriz de identidad 5x5:\n",
            "[[1. 0. 0. 0. 0.]\n",
            " [0. 1. 0. 0. 0.]\n",
            " [0. 0. 1. 0. 0.]\n",
            " [0. 0. 0. 1. 0.]\n",
            " [0. 0. 0. 0. 1.]]\n"
          ]
        }
      ]
    },
    {
      "cell_type": "markdown",
      "source": [
        "### Ejercicio 2.3\n",
        "\n",
        "Si trabajamos con vectores podemos calcular el producto escalar de estos\n"
      ],
      "metadata": {
        "id": "72JEMYgPmGXF"
      }
    },
    {
      "cell_type": "code",
      "source": [
        "vector1 = np.array([1, 2, 3])\n",
        "vector2 = np.array([4, 5, 6])\n",
        "\n",
        "producto_escalar = np.dot(vector1, vector2)\n",
        "print(\"Producto escalar:\", producto_escalar)"
      ],
      "metadata": {
        "colab": {
          "base_uri": "https://localhost:8080/"
        },
        "id": "LY0a_ixVmgmQ",
        "outputId": "5c1faf24-a30a-4452-f1f7-59be98a40337"
      },
      "execution_count": 11,
      "outputs": [
        {
          "output_type": "stream",
          "name": "stdout",
          "text": [
            "Producto escalar: 32\n"
          ]
        }
      ]
    },
    {
      "cell_type": "markdown",
      "source": [
        "### Ejercicio 2.4\n",
        "\n",
        "Otra operación muy común es calcular el vector norma\n"
      ],
      "metadata": {
        "id": "KYFd6ODgmHdm"
      }
    },
    {
      "cell_type": "code",
      "source": [
        "vector = np.array([3, 4])\n",
        "norma = np.linalg.norm(vector)\n",
        "print(\"Norma del vector:\", norma)"
      ],
      "metadata": {
        "colab": {
          "base_uri": "https://localhost:8080/"
        },
        "id": "WHDLTCQ0mg-B",
        "outputId": "b0aab0a8-c797-4407-eb04-89df145d3d12"
      },
      "execution_count": 12,
      "outputs": [
        {
          "output_type": "stream",
          "name": "stdout",
          "text": [
            "Norma del vector: 5.0\n"
          ]
        }
      ]
    },
    {
      "cell_type": "markdown",
      "source": [
        "### Ejercicio 2.5\n",
        "\n",
        "De forma similar es posible realizar operaciones entre matrices usando Numpy\n"
      ],
      "metadata": {
        "id": "Qd5mM6dumIWJ"
      }
    },
    {
      "cell_type": "code",
      "source": [
        "matriz1 = np.array([[1, 2], [3, 4]])\n",
        "matriz2 = np.array([[5, 6], [7, 8]])\n",
        "\n",
        "producto_matricial = np.matmul(matriz1, matriz2)\n",
        "transpuesta = np.transpose(matriz1)\n",
        "determinante = np.linalg.det(matriz1)\n",
        "\n",
        "print(\"Producto matricial:\")\n",
        "print(producto_matricial)\n",
        "print(\"Transpuesta de la matriz:\")\n",
        "print(transpuesta)\n",
        "print(\"Determinante de la matriz:\")\n",
        "print(determinante)"
      ],
      "metadata": {
        "colab": {
          "base_uri": "https://localhost:8080/"
        },
        "id": "YJX_0E0EmhZ8",
        "outputId": "3096cf00-1132-4a3a-b7cb-f4f713bcb547"
      },
      "execution_count": 13,
      "outputs": [
        {
          "output_type": "stream",
          "name": "stdout",
          "text": [
            "Producto matricial:\n",
            "[[19 22]\n",
            " [43 50]]\n",
            "Transpuesta de la matriz:\n",
            "[[1 3]\n",
            " [2 4]]\n",
            "Determinante de la matriz:\n",
            "-2.0000000000000004\n"
          ]
        }
      ]
    },
    {
      "cell_type": "markdown",
      "source": [
        "### Ejercicio 2.6\n",
        "\n",
        "Numpy tiene una función especifica para resolver ecuaciones lineales\n"
      ],
      "metadata": {
        "id": "aSIXjdRUmI_9"
      }
    },
    {
      "cell_type": "code",
      "source": [
        "coeficientes = np.array([[2, 3], [4, -1]])\n",
        "constantes = np.array([5, 2])\n",
        "\n",
        "solucion = np.linalg.solve(coeficientes, constantes)\n",
        "print(\"Solución del sistema de ecuaciones:\")\n",
        "print(\"x =\", solucion[0])\n",
        "print(\"y =\", solucion[1])"
      ],
      "metadata": {
        "colab": {
          "base_uri": "https://localhost:8080/"
        },
        "id": "zsb_QNGimh13",
        "outputId": "0a8eb228-2873-48b1-e4ff-1f336ca45d1d"
      },
      "execution_count": 14,
      "outputs": [
        {
          "output_type": "stream",
          "name": "stdout",
          "text": [
            "Solución del sistema de ecuaciones:\n",
            "x = 0.7857142857142857\n",
            "y = 1.1428571428571428\n"
          ]
        }
      ]
    }
  ]
}