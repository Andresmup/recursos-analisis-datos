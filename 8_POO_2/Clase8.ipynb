{
 "cells": [
  {
   "cell_type": "markdown",
   "metadata": {
    "colab_type": "text",
    "id": "view-in-github"
   },
   "source": [
    "<a href=\"https://colab.research.google.com/github/Andresmup/recursos-analisis-datos/blob/dev/8_POO_2/Clase8.ipynb\" target=\"_parent\"><img src=\"https://colab.research.google.com/assets/colab-badge.svg\" alt=\"Open In Colab\"/></a>"
   ]
  },
  {
   "cell_type": "markdown",
   "metadata": {
    "id": "TiYOf0A9W4F8"
   },
   "source": [
    "# CLASE 8"
   ]
  },
  {
   "cell_type": "markdown",
   "metadata": {
    "id": "wI6oP4bEW7Km"
   },
   "source": [
    "## PROGRAMACIÓN ORIENTADA A OBJETOS 2"
   ]
  },
  {
   "cell_type": "markdown",
   "metadata": {
    "id": "s-jmVTh_W_GC"
   },
   "source": [
    "### Ejercicio 1.0\n",
    "\n",
    "Repasemos lo que vimos la clase pasada.\n",
    "\n",
    "Crearemos una clase ClienteBanco la cual tendra un nombre (priv), numero_cuenta(priv), saldo(priv), tiene_tarjeta(priv) default False.\n",
    "\n",
    "Ademas vamos a incluir un método llamado retirarDinero el cual tomara un numero y en función de si tiene o no el saldo suficiente nos dejara o no realizar la operación."
   ]
  },
  {
   "cell_type": "code",
   "execution_count": 1,
   "metadata": {
    "id": "qFp2eugeVW2B"
   },
   "outputs": [],
   "source": [
    "class ClienteBanco: #Creamos la clase\n",
    "  def __init__(self, nombre, numero_cuenta, saldo, tiene_tarjeta = False): #Inicializamos\n",
    "    self.__nombre = nombre #Protegemos la informacion haciendola privada\n",
    "    self.__numero_cuenta = numero_cuenta\n",
    "    self.__saldo = saldo\n",
    "    self.__tiene_tarjeta = tiene_tarjeta\n",
    "\n",
    "  def __str__(self): #Definimos como queremos que se vea al inprimirla\n",
    "    return f\"Informacion Bancaria \\nTitular: {self.__nombre} \\nCuenta: {self.__numero_cuenta}\"\n",
    "\n",
    "  def retirarDinero(self, cantidad): #Creamos nuestra funcion para retirar dinero\n",
    "    if cantidad <= self.__saldo: #Con un if verificamos si hay sufiente dinero\n",
    "      self.__saldo = self.__saldo - cantidad #Recalculamos el saldo\n",
    "      return f\"Usted retiro de su cuenta {cantidad} y le quedaron {self.__saldo}\" #Imprimimos cuanto saco y cuanto le queda\n",
    "    else:\n",
    "      return f\"Fondos insuficientes\" #En caso de no tener dinero suficiente imprimimos un mensaje"
   ]
  },
  {
   "cell_type": "code",
   "execution_count": 2,
   "metadata": {
    "colab": {
     "base_uri": "https://localhost:8080/"
    },
    "id": "yT0JXmTCaZmq",
    "outputId": "51d7eadd-a2e9-410d-b44e-8ed92301157b"
   },
   "outputs": [
    {
     "name": "stdout",
     "output_type": "stream",
     "text": [
      "Informacion Bancaria \n",
      "Titular: Andres \n",
      "Cuenta: 1111\n"
     ]
    }
   ],
   "source": [
    "cliente1 = ClienteBanco(\"Andres\", 1111, 200000, True)\n",
    "print(cliente1)"
   ]
  },
  {
   "cell_type": "code",
   "execution_count": 3,
   "metadata": {
    "colab": {
     "base_uri": "https://localhost:8080/",
     "height": 35
    },
    "id": "9Qqn8X4Pampd",
    "outputId": "ab8aa09d-3063-45aa-b896-7f21961ffcf5"
   },
   "outputs": [
    {
     "data": {
      "application/vnd.google.colaboratory.intrinsic+json": {
       "type": "string"
      },
      "text/plain": [
       "'Usted retiro de su cuenta 10000 y le quedaron 190000'"
      ]
     },
     "execution_count": 3,
     "metadata": {},
     "output_type": "execute_result"
    }
   ],
   "source": [
    "cliente1.retirarDinero(10000)"
   ]
  },
  {
   "cell_type": "code",
   "execution_count": 4,
   "metadata": {
    "colab": {
     "base_uri": "https://localhost:8080/",
     "height": 35
    },
    "id": "wUSEGGlaatuY",
    "outputId": "2f870ef3-3e72-4869-9ab8-baf5a03fb1f8"
   },
   "outputs": [
    {
     "data": {
      "application/vnd.google.colaboratory.intrinsic+json": {
       "type": "string"
      },
      "text/plain": [
       "'Fondos insuficientes'"
      ]
     },
     "execution_count": 4,
     "metadata": {},
     "output_type": "execute_result"
    }
   ],
   "source": [
    "cliente1.retirarDinero(666666)"
   ]
  },
  {
   "cell_type": "markdown",
   "metadata": {
    "id": "cT7UwEMob9Bl"
   },
   "source": [
    "Ejercicio 1.1\n",
    "\n",
    "Retomando el ejercicio anterior, vemos que al hacer todos los atributos privados ahora no se pueden editar de forma directa lo cual esta muy bien.\n",
    "\n",
    "Pero tenemos un inconveniente, que pasa si queremos ver el saldo o checkear si tiene o no tarjeta.\n",
    "\n",
    "Para ello se utilizan unos metodos creados por el usuario llamados:\n",
    "\n",
    "- getter -> retornar el valor de un atributo\n",
    "- setter -> editar el valor de un atributo\n",
    "\n",
    "Nota: getter y setter es una convencion utilizada para darle nombre a estos métodos; y no siempre vamos a definirlos para todos los atributos\n",
    "\n",
    "Copiamos de nuevo nuestra clase anterior y trabajamos sobre ella"
   ]
  },
  {
   "cell_type": "code",
   "execution_count": 5,
   "metadata": {
    "id": "BBFxac0ob8mf"
   },
   "outputs": [],
   "source": [
    "class ClienteBanco:\n",
    "  def __init__(self, nombre, numero_cuenta, saldo, tiene_tarjeta = False):\n",
    "    self.__nombre = nombre\n",
    "    self.__numero_cuenta = numero_cuenta\n",
    "    self.__saldo = saldo\n",
    "    self.__tiene_tarjeta = tiene_tarjeta\n",
    "\n",
    "  def __str__(self):\n",
    "    return f\"Informacion Bancaria \\nTitular: {self.__nombre} \\nCuenta: {self.__numero_cuenta}\"\n",
    "\n",
    "  def getTieneTarjeta(self): #Esta función se encarga de imprimir si tiene o no tarjeta\n",
    "    return f\"{self.__tiene_tarjeta}\"\n",
    "\n",
    "  def getSaldo(self): #Esta función se encarga de imprimir el saldo\n",
    "    return f\"{self.__saldo}\"\n",
    "\n",
    "  def consultarSaldo(self): #NO estamos obligados a usar el termino get podemos personalizarla si queremos\n",
    "    return f\"Su saldo es: {self.__saldo}\"\n",
    "\n",
    "  def setTieneTarjeta(self, estado_tarjeta): #Con este get ahora podriamos modificar el estado de tiene_tarjeta\n",
    "    self.__tiene_tarjeta = estado_tarjeta\n",
    "\n",
    "  def retirarDinero(self, cantidad):\n",
    "    if cantidad <= self.__saldo:\n",
    "      self.__saldo = self.__saldo - cantidad\n",
    "      return f\"Usted retiro de su cuenta {cantidad} y le quedaron {self.__saldo}\"\n",
    "    else:\n",
    "      return f\"Fondos insuficientes\""
   ]
  },
  {
   "cell_type": "code",
   "execution_count": 6,
   "metadata": {
    "colab": {
     "base_uri": "https://localhost:8080/"
    },
    "id": "A1TBXZmTd_sa",
    "outputId": "64840070-f687-4828-f227-6466b2ee9ce5"
   },
   "outputs": [
    {
     "name": "stdout",
     "output_type": "stream",
     "text": [
      "Informacion Bancaria \n",
      "Titular: Pablo \n",
      "Cuenta: 7766\n"
     ]
    }
   ],
   "source": [
    "cliente2 = ClienteBanco(\"Pablo\", 7766, 500000, False)\n",
    "print(cliente2)"
   ]
  },
  {
   "cell_type": "code",
   "execution_count": 7,
   "metadata": {
    "colab": {
     "base_uri": "https://localhost:8080/",
     "height": 35
    },
    "id": "ySFhQm3-eIXt",
    "outputId": "ece0bd88-fe4f-4a1f-8278-c555fb034e16"
   },
   "outputs": [
    {
     "data": {
      "application/vnd.google.colaboratory.intrinsic+json": {
       "type": "string"
      },
      "text/plain": [
       "'False'"
      ]
     },
     "execution_count": 7,
     "metadata": {},
     "output_type": "execute_result"
    }
   ],
   "source": [
    "cliente2.getTieneTarjeta() #Con el getter podemos ver si tiene tarjeta"
   ]
  },
  {
   "cell_type": "code",
   "execution_count": 8,
   "metadata": {
    "colab": {
     "base_uri": "https://localhost:8080/",
     "height": 35
    },
    "id": "70bYAMupeSqc",
    "outputId": "effe2428-eeaa-40f7-c090-bc6d74d42147"
   },
   "outputs": [
    {
     "data": {
      "application/vnd.google.colaboratory.intrinsic+json": {
       "type": "string"
      },
      "text/plain": [
       "'500000'"
      ]
     },
     "execution_count": 8,
     "metadata": {},
     "output_type": "execute_result"
    }
   ],
   "source": [
    "cliente2.getSaldo() #Con el getter podemos ver el saldo"
   ]
  },
  {
   "cell_type": "code",
   "execution_count": 9,
   "metadata": {
    "colab": {
     "base_uri": "https://localhost:8080/",
     "height": 35
    },
    "id": "KSrMjnoEeY7D",
    "outputId": "8ef84470-c59a-4124-ccaf-6a40916da2f9"
   },
   "outputs": [
    {
     "data": {
      "application/vnd.google.colaboratory.intrinsic+json": {
       "type": "string"
      },
      "text/plain": [
       "'Su saldo es: 500000'"
      ]
     },
     "execution_count": 9,
     "metadata": {},
     "output_type": "execute_result"
    }
   ],
   "source": [
    "cliente2.consultarSaldo() #Pero tambien lo podemos hacer con consultar_saldo"
   ]
  },
  {
   "cell_type": "code",
   "execution_count": 10,
   "metadata": {
    "colab": {
     "base_uri": "https://localhost:8080/",
     "height": 35
    },
    "id": "J_mNWDuGeloJ",
    "outputId": "d327cc10-7350-4e76-ef63-204dc91dfdac"
   },
   "outputs": [
    {
     "data": {
      "application/vnd.google.colaboratory.intrinsic+json": {
       "type": "string"
      },
      "text/plain": [
       "'True'"
      ]
     },
     "execution_count": 10,
     "metadata": {},
     "output_type": "execute_result"
    }
   ],
   "source": [
    "cliente2.setTieneTarjeta(True) #Con el setter podemos editar tiene_tarjeta\n",
    "cliente2.getTieneTarjeta()"
   ]
  },
  {
   "cell_type": "markdown",
   "metadata": {
    "id": "8KnVFymTipie"
   },
   "source": [
    "### Ejercicio 1.2\n",
    "\n",
    "Veamos un nuevo concepto de clases llamado Herencia.\n",
    "\n",
    "En Python se puede usar la herencia entre clases, la cual nos permite crear clases a partir de otras clases heredando sus metodos y atributos; pudiendo sobreescribirlos.\n",
    "\n",
    "La herencia de clases nos sirve para cuando tenemos una clase que ya está hecha y decidimos hacer una nueva clase que es similar pero con algunas diferencias o características adicionales. La nueva clase se llama \"clase hija\" o \"subclase\", y la clase original se llama \"clase padre\" o \"superclase\".\n",
    "\n",
    "Vamos a trabajar con una clase padre o superclase llamada Persona, cada persona tiene un nombre, apellido, dni, nacionalidad y domicilio. Haremos estos atributos privados; crearemos getters y setters segun creamos correspondientes."
   ]
  },
  {
   "cell_type": "code",
   "execution_count": 11,
   "metadata": {
    "id": "drqxKDfgj3av"
   },
   "outputs": [],
   "source": [
    "class Persona:\n",
    "  def __init__(self, nombre, apellido, dni, nacionalidad, domicilio):\n",
    "    self.__nombre = nombre\n",
    "    self.__apellido = apellido\n",
    "    self.__dni = dni\n",
    "    self.__nacionalidad = nacionalidad\n",
    "    self.__domicilio = domicilio\n",
    "\n",
    "  def __str__(self):\n",
    "    return f\"Nombre: {self.__nombre} \\nApellido: {self.__apellido}\"\n",
    "\n",
    "  def getNombre(self): #Me permite ver el nombre de la persona\n",
    "    return f\"{self.__nombre}\"\n",
    "\n",
    "  def getApellido(self): #Me permite ver el apellido de la persona\n",
    "    return f\"{self.__apellido}\"\n",
    "\n",
    "  def getDni(self): #Me permite ver el dni de la persona\n",
    "    return f\"{self.__dni}\"\n",
    "\n",
    "  def getNacionalidad(self): #Me permite ver la nacionalidad de la persona\n",
    "    return f\"{self.__nacionalidad}\"\n",
    "\n",
    "  def getDomicilio(self): #Me permite ver el domicilio de la persona\n",
    "    return f\"{self.__domicilio}\"\n",
    "\n",
    "  def setDomicilio(self, nuevo_domicilio): #Me permite editar el domicilio de la persona\n",
    "    self.__domicilio = nuevo_domicilio"
   ]
  },
  {
   "cell_type": "code",
   "execution_count": 12,
   "metadata": {
    "colab": {
     "base_uri": "https://localhost:8080/"
    },
    "id": "lqTXF5ucmgKZ",
    "outputId": "5b4b3ada-ffec-4d18-a50c-3dfccb662b32"
   },
   "outputs": [
    {
     "name": "stdout",
     "output_type": "stream",
     "text": [
      "Nombre: Andres \n",
      "Apellido: Muñoz\n"
     ]
    }
   ],
   "source": [
    "persona1 = Persona(\"Andres\", \"Muñoz\", 11111, \"Argentina\", \"Mendoza\")\n",
    "print(persona1)"
   ]
  },
  {
   "cell_type": "code",
   "execution_count": 13,
   "metadata": {
    "colab": {
     "base_uri": "https://localhost:8080/"
    },
    "id": "fbrKvv-HmsgE",
    "outputId": "a4de1e21-b73d-448c-af18-cbff04e55675"
   },
   "outputs": [
    {
     "data": {
      "text/plain": [
       "('11111', 'Argentina', 'Mendoza')"
      ]
     },
     "execution_count": 13,
     "metadata": {},
     "output_type": "execute_result"
    }
   ],
   "source": [
    "persona1.getDni(), persona1.getNacionalidad(), persona1.getDomicilio()"
   ]
  },
  {
   "cell_type": "code",
   "execution_count": 14,
   "metadata": {
    "colab": {
     "base_uri": "https://localhost:8080/",
     "height": 35
    },
    "id": "XS0c2gU9nRXx",
    "outputId": "56e9409d-3a4d-4af7-dc2c-40ab31ef73c4"
   },
   "outputs": [
    {
     "data": {
      "application/vnd.google.colaboratory.intrinsic+json": {
       "type": "string"
      },
      "text/plain": [
       "'Las Heras - Mendoza'"
      ]
     },
     "execution_count": 14,
     "metadata": {},
     "output_type": "execute_result"
    }
   ],
   "source": [
    "persona1.setDomicilio(\"Las Heras - Mendoza\")\n",
    "persona1.getDomicilio()"
   ]
  },
  {
   "cell_type": "markdown",
   "metadata": {
    "id": "-qKjGfaAnszG"
   },
   "source": [
    "Ahora tenemos que crear una clase llamada EmpleadoAlkemy que tambien va a tener un nombre, apellido, dni, nacionalidad y domicilio. Pero tambien va a tener valores nuevos como cvu, cargo y estado_cobro (default False), ademas tenemos que definir un método depositarSueldo\n",
    "\n",
    "Como no queremos repetir el código que hicimos antes podemos usar herencia. Usando la clase Persona como padre y EmpleadoAlkemy como hija.\n",
    "\n",
    "Nota: `super()` sirve para llamar a los métodos de la clase padre desde la clase hija.\n",
    "\n"
   ]
  },
  {
   "cell_type": "code",
   "execution_count": 15,
   "metadata": {
    "id": "gABXTd_0oUDN"
   },
   "outputs": [],
   "source": [
    "class EmpleadoAlkemy(Persona): #Necesito definir la clase Persona como parametro\n",
    "  def __init__(self, nombre, apellido, dni, nacionalidad, domicilio, cvu, cargo, estado_cobro = False): #Inicializamos\n",
    "    super().__init__(nombre, apellido, dni, nacionalidad, domicilio) #Llamos al __init__ de Persona\n",
    "    self.__cvu = cvu #Ahora inicializamos los atributos exclusivos de EmpleadoAlkemy\n",
    "    self.__cargo = cargo\n",
    "    self.__estado_cobro = estado_cobro\n",
    "\n",
    "  \"\"\" Revisemos que pasaria si ejecutamos esto\n",
    "  def __str__(self):\n",
    "    return f\"{self.__nombre} {self.__apellido} se desempeña como {self.__cargo}\"\n",
    "  \"\"\"\n",
    "  def __str__(self):\n",
    "    return f\"{self.getNombre()} {self.getApellido()} se desempeña como {self.__cargo}\"\n",
    "\n",
    "  #Vamos a agregar los nuevos getter y setter que podamos llegar a necesitar\n",
    "  def getCargo(self):\n",
    "    return f\"{self.__cargo}\"\n",
    "\n",
    "  def getEstadoCobro (self):\n",
    "    return f\"{self.__estado_cobro}\"\n",
    "\n",
    "  def setCargo(self, nuevo_cargo):\n",
    "    self.__cargo = nuevo_cargo\n",
    "\n",
    "  def setEstadoCobro (self, nuevo_estado_cobro):\n",
    "    self.__estado_cobro = nuevo_estado_cobro\n",
    "\n",
    "  def depositarSueldo(self): #Creamos nuestro metodo depositarSueldo\n",
    "    if self.__estado_cobro:\n",
    "      return f\"A la cuenta {self.__cvu} de {self.getNombre()} {self.getApellido()} se le deposito el sueldo de {self.__cargo}\"\n",
    "    else:\n",
    "      return f\"Usted no ha trabajado el ultimo mes\""
   ]
  },
  {
   "cell_type": "code",
   "execution_count": 16,
   "metadata": {
    "colab": {
     "base_uri": "https://localhost:8080/"
    },
    "id": "maGGawO3tDgh",
    "outputId": "d9b05c4a-95ac-452c-a8c4-3e662b067671"
   },
   "outputs": [
    {
     "name": "stdout",
     "output_type": "stream",
     "text": [
      "Andres Muñoz se desempeña como profesor\n"
     ]
    }
   ],
   "source": [
    "empleado1 = EmpleadoAlkemy(\"Andres\", \"Muñoz\", 123123, \"Arg\", \"Mendoza\",999999, \"profesor\", True)\n",
    "print(empleado1)"
   ]
  },
  {
   "cell_type": "code",
   "execution_count": 17,
   "metadata": {
    "colab": {
     "base_uri": "https://localhost:8080/"
    },
    "id": "CSnek3ZQudg6",
    "outputId": "1e1583a8-e00a-49fc-a330-d3d96fa5cf59"
   },
   "outputs": [
    {
     "data": {
      "text/plain": [
       "('123123', 'Arg', 'Mendoza')"
      ]
     },
     "execution_count": 17,
     "metadata": {},
     "output_type": "execute_result"
    }
   ],
   "source": [
    "empleado1.getDni(), empleado1.getNacionalidad(), empleado1.getDomicilio()"
   ]
  },
  {
   "cell_type": "code",
   "execution_count": 18,
   "metadata": {
    "colab": {
     "base_uri": "https://localhost:8080/",
     "height": 35
    },
    "id": "rUx7-hU2unuf",
    "outputId": "4dd5fa09-0cf9-4779-d305-2c144b295956"
   },
   "outputs": [
    {
     "data": {
      "application/vnd.google.colaboratory.intrinsic+json": {
       "type": "string"
      },
      "text/plain": [
       "'Las Heras - Mendoza'"
      ]
     },
     "execution_count": 18,
     "metadata": {},
     "output_type": "execute_result"
    }
   ],
   "source": [
    "empleado1.setDomicilio(\"Las Heras - Mendoza\")\n",
    "empleado1.getDomicilio()"
   ]
  },
  {
   "cell_type": "code",
   "execution_count": 19,
   "metadata": {
    "colab": {
     "base_uri": "https://localhost:8080/",
     "height": 35
    },
    "id": "KNWvUzmouq1B",
    "outputId": "c1136046-38b3-4218-c32e-f1d2b7f4065a"
   },
   "outputs": [
    {
     "data": {
      "application/vnd.google.colaboratory.intrinsic+json": {
       "type": "string"
      },
      "text/plain": [
       "'A la cuenta 999999 de Andres Muñoz se le deposito el sueldo de profesor'"
      ]
     },
     "execution_count": 19,
     "metadata": {},
     "output_type": "execute_result"
    }
   ],
   "source": [
    "empleado1.depositarSueldo()"
   ]
  },
  {
   "cell_type": "code",
   "execution_count": 20,
   "metadata": {
    "colab": {
     "base_uri": "https://localhost:8080/",
     "height": 35
    },
    "id": "LHS-RZgzu6jb",
    "outputId": "d43128f4-3562-41f0-d6b1-04c563aa9c7c"
   },
   "outputs": [
    {
     "data": {
      "application/vnd.google.colaboratory.intrinsic+json": {
       "type": "string"
      },
      "text/plain": [
       "'False'"
      ]
     },
     "execution_count": 20,
     "metadata": {},
     "output_type": "execute_result"
    }
   ],
   "source": [
    "empleado1.setEstadoCobro(False)\n",
    "empleado1.getEstadoCobro()"
   ]
  },
  {
   "cell_type": "code",
   "execution_count": 21,
   "metadata": {
    "colab": {
     "base_uri": "https://localhost:8080/",
     "height": 35
    },
    "id": "gH1EXUFuFfji",
    "outputId": "6dbd00c8-aca7-4630-bb40-56b59c85d282"
   },
   "outputs": [
    {
     "data": {
      "application/vnd.google.colaboratory.intrinsic+json": {
       "type": "string"
      },
      "text/plain": [
       "'Usted no ha trabajado el ultimo mes'"
      ]
     },
     "execution_count": 21,
     "metadata": {},
     "output_type": "execute_result"
    }
   ],
   "source": [
    "empleado1.depositarSueldo()"
   ]
  },
  {
   "cell_type": "markdown",
   "metadata": {
    "id": "pP3CUAXLF_AM"
   },
   "source": [
    "¿Que pasaria si quisieramos crear una nueva clase llamada AlumnoAlkemy?\n",
    "\n",
    "Cada alumno tambien va a tener un nombre, apellido, dni, nacionalidad y domicilio. Pero tambien tendriamos que tener en cuenta la comisión, su nota final y si pago la matricula.\n",
    "\n",
    "Cada alumno va a poder recibir un certificado el cual tiene que indicar sus datos, que fue lo que estudio y cual fue su nota. Pero solo aquellos que hayan terminado de cancelar la matricula podran acceder a su certificado"
   ]
  },
  {
   "cell_type": "code",
   "execution_count": 22,
   "metadata": {
    "id": "oBOjCmM5G8jj"
   },
   "outputs": [],
   "source": [
    "class AlumnoAlkemy(Persona): #Necesito definir la clase Persona como parametro\n",
    "  def __init__(self, nombre, apellido, dni, nacionalidad, domicilio, nota_final, comision = \"Analisis datos\", matricula_cancelada = False): #Inicializamos\n",
    "    super().__init__(nombre, apellido, dni, nacionalidad, domicilio) #Llamos al __init__ de Persona\n",
    "    self.__nota_final = nota_final #Ahora inicializamos los atributos exclusivos de AlumnoAlkemy\n",
    "    self.__comision = comision\n",
    "    self.__matricula_cancelada = matricula_cancelada\n",
    "\n",
    "  def __str__(self):\n",
    "    return f\"{self.getNombre()} {self.getApellido()} estudia {self.__comision}\"\n",
    "\n",
    "  #Vamos a agregar los nuevos getter y setter que podamos llegar a necesitar\n",
    "  def getNotaFinal(self):\n",
    "    return f\"{self.__nota_final}\"\n",
    "\n",
    "  def getComision (self):\n",
    "    return f\"{self.__comision}\"\n",
    "\n",
    "  def getMatriculaCancelada (self):\n",
    "    return f\"{self.__matricula_cancelada}\"\n",
    "\n",
    "  def setMatriculaCancelada(self, cambio_matricula):\n",
    "    self.__matricula_cancelada = cambio_matricula\n",
    "\n",
    "\n",
    "  def recibirCertificado(self): #Creamos nuestro metodo recibirCertificado\n",
    "    if self.__matricula_cancelada:\n",
    "      return f\"El alumno {self.getNombre()} {self.getApellido()} obtuvo una nota de {self.__nota_final} durante su cursada en {self.__comision}\"\n",
    "    else:\n",
    "      return f\"Por favor cancele su matricula\""
   ]
  },
  {
   "cell_type": "code",
   "execution_count": 23,
   "metadata": {
    "colab": {
     "base_uri": "https://localhost:8080/"
    },
    "id": "6x9WdaRKIaNS",
    "outputId": "aa3def70-17d6-401f-83ca-5a831af73ffe"
   },
   "outputs": [
    {
     "name": "stdout",
     "output_type": "stream",
     "text": [
      "Andres Muñoz estudia Analisis datos\n"
     ]
    }
   ],
   "source": [
    "alumno1 =  AlumnoAlkemy(\"Andres\", \"Muñoz\", 555555, \"Arg\", \"Mendoza\", 8 )\n",
    "print(alumno1)"
   ]
  },
  {
   "cell_type": "code",
   "execution_count": 24,
   "metadata": {
    "colab": {
     "base_uri": "https://localhost:8080/",
     "height": 35
    },
    "id": "HS45Dax_IrmW",
    "outputId": "b0e1aacb-519e-4b6f-9ab4-bbde1010a480"
   },
   "outputs": [
    {
     "data": {
      "application/vnd.google.colaboratory.intrinsic+json": {
       "type": "string"
      },
      "text/plain": [
       "'Por favor cancele su matricula'"
      ]
     },
     "execution_count": 24,
     "metadata": {},
     "output_type": "execute_result"
    }
   ],
   "source": [
    "alumno1.recibirCertificado()"
   ]
  },
  {
   "cell_type": "code",
   "execution_count": 25,
   "metadata": {
    "colab": {
     "base_uri": "https://localhost:8080/"
    },
    "id": "6zCj6WIlI1uz",
    "outputId": "48110106-f360-4b99-9064-f5ba0113beb0"
   },
   "outputs": [
    {
     "data": {
      "text/plain": [
       "('Andres', 'Muñoz', 'True')"
      ]
     },
     "execution_count": 25,
     "metadata": {},
     "output_type": "execute_result"
    }
   ],
   "source": [
    "alumno1.setMatriculaCancelada(True)\n",
    "alumno1.getNombre(), alumno1.getApellido(), alumno1.getMatriculaCancelada()"
   ]
  },
  {
   "cell_type": "code",
   "execution_count": 26,
   "metadata": {
    "colab": {
     "base_uri": "https://localhost:8080/",
     "height": 35
    },
    "id": "72dcbDM6JMh8",
    "outputId": "6cc485a1-6f39-4c84-f35f-2df80f56951c"
   },
   "outputs": [
    {
     "data": {
      "application/vnd.google.colaboratory.intrinsic+json": {
       "type": "string"
      },
      "text/plain": [
       "'El alumno Andres Muñoz obtuvo una nota de 8 durante su cursada en Analisis datos'"
      ]
     },
     "execution_count": 26,
     "metadata": {},
     "output_type": "execute_result"
    }
   ],
   "source": [
    "alumno1.recibirCertificado()"
   ]
  },
  {
   "cell_type": "markdown",
   "metadata": {
    "id": "54Bx6zgMJzRh"
   },
   "source": [
    "### Ejercicio 1.3\n",
    "\n",
    "Creemos otro ejemplo y veamos que al trabajar con atributos publicos no es necesario tener que crear los getter y setter.\n",
    "\n",
    "Clase padre -> Animal\n",
    "- Atributos: clase, especie, tipo (public)\n",
    "- Metodo: emitir sonido (pass)\n",
    "\n",
    "Clase hija -> Perro\n",
    "- Atributos propios: nombre (private)\n",
    "- Metodos propios: darPata\n",
    "\n",
    "Clase hija -> Gallina\n",
    "- Atributos propios = huevos (default False)\n",
    "- Metodos propios: hacerTortilla (solo si huevos = True)\n"
   ]
  },
  {
   "cell_type": "code",
   "execution_count": 1,
   "metadata": {
    "id": "FdJ-SxPrJy0T"
   },
   "outputs": [],
   "source": [
    "class Animal: #Clase Padre\n",
    "  def __init__(self, clase, especie, tipo): #Inicializacion\n",
    "    self.clase = clase #Atributos publicos\n",
    "    self.especie = especie\n",
    "    self.tipo = tipo\n",
    "\n",
    "  def emitirSonido(self):\n",
    "    pass\n",
    "\n",
    "  def __str__(self):\n",
    "    return f\"Clase: {self.clase}, Especie: {self.especie}, Tipo: {self.tipo}\""
   ]
  },
  {
   "cell_type": "code",
   "execution_count": 2,
   "metadata": {
    "colab": {
     "base_uri": "https://localhost:8080/"
    },
    "id": "J5458qrZK4Z-",
    "outputId": "ce9d0372-aa5a-447f-f5ac-c965ffdb91d8"
   },
   "outputs": [
    {
     "name": "stdout",
     "output_type": "stream",
     "text": [
      "Clase: Mamifero, Especie: Roedor, Tipo: Salvaje\n"
     ]
    }
   ],
   "source": [
    "raton = Animal(\"Mamifero\",\"Roedor\",\"Salvaje\") #Creamos un objeto a partir de la clase animal\n",
    "print(raton)"
   ]
  },
  {
   "cell_type": "code",
   "execution_count": 3,
   "metadata": {
    "id": "_RYRu_UHPQN8"
   },
   "outputs": [],
   "source": [
    "raton.emitirSonido() #Vemos que el pass hace que no ocurra nada cuando en un objeto de Animal llamamos a emitirSonido"
   ]
  },
  {
   "cell_type": "code",
   "execution_count": 4,
   "metadata": {
    "id": "f3ZMrdJoLBA5"
   },
   "outputs": [],
   "source": [
    "class Perro(Animal): #Clase hija\n",
    "  def __init__(self, clase, especie, tipo, nombre): #Inicializamos\n",
    "    super().__init__(clase, especie, tipo)\n",
    "    self.__nombre = nombre #El nombre es privado\n",
    "\n",
    "  def __str__(self):\n",
    "    return f\"Nombre: {self.__nombre}, Clase: {self.clase}, Especie: {self.especie}, Tipo: {self.tipo}\"\n",
    "\n",
    "  def getNombre(self):\n",
    "    return f\"{self.__nombre}\"\n",
    "\n",
    "  def emitirSonido(self):\n",
    "    return \"¡Guau guau!\"\n",
    "\n",
    "  def darLaPata(self):\n",
    "    return f\"{self.__nombre} da la pata.\""
   ]
  },
  {
   "cell_type": "code",
   "execution_count": 5,
   "metadata": {
    "colab": {
     "base_uri": "https://localhost:8080/"
    },
    "id": "ayrMFjWfLo7l",
    "outputId": "ecbea64d-9dde-46e0-8afa-b9dccddd0b97"
   },
   "outputs": [
    {
     "name": "stdout",
     "output_type": "stream",
     "text": [
      "Nombre: Fatiga, Clase: Mamífero, Especie: Canino, Tipo: Doméstico\n"
     ]
    }
   ],
   "source": [
    "perro = Perro(\"Mamífero\", \"Canino\", \"Doméstico\", \"Fatiga\")\n",
    "print(perro)"
   ]
  },
  {
   "cell_type": "code",
   "execution_count": 6,
   "metadata": {
    "colab": {
     "base_uri": "https://localhost:8080/",
     "height": 35
    },
    "id": "cF1dfGfoLqdE",
    "outputId": "17158fe0-4c40-45b7-8697-025f10f5ea82"
   },
   "outputs": [
    {
     "data": {
      "text/plain": [
       "'Fatiga'"
      ]
     },
     "execution_count": 6,
     "metadata": {},
     "output_type": "execute_result"
    }
   ],
   "source": [
    "perro.getNombre()"
   ]
  },
  {
   "cell_type": "code",
   "execution_count": 7,
   "metadata": {
    "colab": {
     "base_uri": "https://localhost:8080/",
     "height": 35
    },
    "id": "1tNCVZn8Lt-L",
    "outputId": "e12e61de-a70e-410b-e97e-4fa56662afbf"
   },
   "outputs": [
    {
     "data": {
      "text/plain": [
       "'Fatiga da la pata.'"
      ]
     },
     "execution_count": 7,
     "metadata": {},
     "output_type": "execute_result"
    }
   ],
   "source": [
    "perro.darLaPata()"
   ]
  },
  {
   "cell_type": "code",
   "execution_count": 8,
   "metadata": {
    "colab": {
     "base_uri": "https://localhost:8080/",
     "height": 35
    },
    "id": "RXUpkbsjPcuS",
    "outputId": "e27801bf-f3df-4d94-d358-4ca93d05f4f9"
   },
   "outputs": [
    {
     "data": {
      "text/plain": [
       "'¡Guau guau!'"
      ]
     },
     "execution_count": 8,
     "metadata": {},
     "output_type": "execute_result"
    }
   ],
   "source": [
    "perro.emitirSonido()"
   ]
  },
  {
   "cell_type": "code",
   "execution_count": 9,
   "metadata": {
    "id": "ytJHCNHpL2t2"
   },
   "outputs": [],
   "source": [
    "class Gallina(Animal):\n",
    "  def __init__(self, clase, especie, tipo, huevos=False):\n",
    "    super().__init__(clase, especie, tipo)\n",
    "    self.huevos = huevos\n",
    "\n",
    "  def __str__(self):\n",
    "    return f\"Clase: {self.clase}, Especie: {self.especie}, Tipo: {self.tipo}, ¿Puso un huevo hoy?: {self.huevos}\"\n",
    "\n",
    "  def emitirSonido(self):\n",
    "    return \"¡Pok pok pok!\"\n",
    "\n",
    "  def hacerTortilla(self):\n",
    "    if self.huevos:\n",
    "      print(\"Ya puso un huevo puede hacer una tortilla\")\n",
    "    else:\n",
    "      print(\"Aun no puso un huevo\")"
   ]
  },
  {
   "cell_type": "code",
   "execution_count": 10,
   "metadata": {
    "colab": {
     "base_uri": "https://localhost:8080/"
    },
    "id": "NHzw3xmpMBt3",
    "outputId": "015f4fd9-e446-4a9c-96c7-00c161a65547"
   },
   "outputs": [
    {
     "name": "stdout",
     "output_type": "stream",
     "text": [
      "Clase: Ave, Especie: Gallina, Tipo: Granja, ¿Puso un huevo hoy?: False\n",
      "Aun no puso un huevo\n"
     ]
    }
   ],
   "source": [
    "gallina = Gallina(\"Ave\", \"Gallina\", \"Granja\", False)\n",
    "print(gallina)\n",
    "gallina.hacerTortilla()"
   ]
  },
  {
   "cell_type": "code",
   "execution_count": 13,
   "metadata": {
    "colab": {
     "base_uri": "https://localhost:8080/"
    },
    "id": "LrYBFCk2MHgp",
    "outputId": "2019f329-4179-4940-8863-843c43a6aa9e"
   },
   "outputs": [
    {
     "name": "stdout",
     "output_type": "stream",
     "text": [
      "Ya puso un huevo puede hacer una tortilla\n"
     ]
    }
   ],
   "source": [
    "gallina.huevos = True\n",
    "gallina.hacerTortilla()"
   ]
  },
  {
   "cell_type": "code",
   "execution_count": 14,
   "metadata": {
    "colab": {
     "base_uri": "https://localhost:8080/",
     "height": 35
    },
    "id": "WcAqdHZZPicb",
    "outputId": "3d4e0e8b-2a67-44fa-d0cc-ce73775b4219"
   },
   "outputs": [
    {
     "data": {
      "text/plain": [
       "'¡Pok pok pok!'"
      ]
     },
     "execution_count": 14,
     "metadata": {},
     "output_type": "execute_result"
    }
   ],
   "source": [
    "gallina.emitirSonido()"
   ]
  },
  {
   "cell_type": "markdown",
   "metadata": {
    "id": "cJJ9eDGcMT5j"
   },
   "source": [
    "### Ejercicio 1.4\n",
    "\n",
    "El poliformismo es muy util cuando tenemos varias clases con métodos iguales y tenemos que ejecutarlos.\n",
    "\n",
    "Veamos un ejemplo tenemos varios animales y todos hacen un sonido en particular."
   ]
  },
  {
   "cell_type": "code",
   "execution_count": 39,
   "metadata": {
    "id": "PLZ1Fz9jNKEz"
   },
   "outputs": [],
   "source": [
    "class Vaca(Animal):\n",
    "    def emitirSonido(self):\n",
    "        return \"¡Muu!\""
   ]
  },
  {
   "cell_type": "code",
   "execution_count": 40,
   "metadata": {
    "id": "01GI-U3RNLZn"
   },
   "outputs": [],
   "source": [
    "class Cerdo(Animal):\n",
    "    def emitirSonido(self):\n",
    "        return \"¡Oink!\""
   ]
  },
  {
   "cell_type": "code",
   "execution_count": 41,
   "metadata": {
    "id": "VtzgOEvMNLtJ"
   },
   "outputs": [],
   "source": [
    "class Oveja(Animal):\n",
    "    def emitirSonido(self):\n",
    "        return \"¡Beee!\""
   ]
  },
  {
   "cell_type": "code",
   "execution_count": 42,
   "metadata": {
    "id": "ZUWZl4gANRXV"
   },
   "outputs": [],
   "source": [
    "class Gallo(Animal):\n",
    "    def emitirSonido(self):\n",
    "        return \"¡Qui qui ri qui qui ri!\""
   ]
  },
  {
   "cell_type": "code",
   "execution_count": 43,
   "metadata": {
    "id": "P33GvfGUNtzS"
   },
   "outputs": [],
   "source": [
    "vaca = Vaca(\"Mamifero\", \"Bobino\", \"Granja\")\n",
    "cerdo = Cerdo(\"Mamifero\", \"Porcino\", \"Granja\")\n",
    "oveja = Oveja(\"Mamifero\", \"Equino\", \"Granja\")\n",
    "gallo = Gallo(\"Ave\", \"Pollo\", \"Granja\")"
   ]
  },
  {
   "cell_type": "markdown",
   "metadata": {
    "id": "eCovxY-1NnDL"
   },
   "source": [
    "La forma clasica para ver el sonido que hace cada uno seria:"
   ]
  },
  {
   "cell_type": "code",
   "execution_count": 44,
   "metadata": {
    "colab": {
     "base_uri": "https://localhost:8080/",
     "height": 35
    },
    "id": "wU_v2ezROqIf",
    "outputId": "5621e0d2-9b3d-4f7f-ba59-ed07070a9d79"
   },
   "outputs": [
    {
     "data": {
      "application/vnd.google.colaboratory.intrinsic+json": {
       "type": "string"
      },
      "text/plain": [
       "'¡Muu!'"
      ]
     },
     "execution_count": 44,
     "metadata": {},
     "output_type": "execute_result"
    }
   ],
   "source": [
    "vaca.emitirSonido()"
   ]
  },
  {
   "cell_type": "code",
   "execution_count": 45,
   "metadata": {
    "colab": {
     "base_uri": "https://localhost:8080/",
     "height": 35
    },
    "id": "X0EuhAIbOliO",
    "outputId": "a242f52f-df42-43a0-ffaf-98550c763fcc"
   },
   "outputs": [
    {
     "data": {
      "application/vnd.google.colaboratory.intrinsic+json": {
       "type": "string"
      },
      "text/plain": [
       "'¡Oink!'"
      ]
     },
     "execution_count": 45,
     "metadata": {},
     "output_type": "execute_result"
    }
   ],
   "source": [
    "cerdo.emitirSonido()"
   ]
  },
  {
   "cell_type": "code",
   "execution_count": 46,
   "metadata": {
    "colab": {
     "base_uri": "https://localhost:8080/",
     "height": 35
    },
    "id": "j0SHvxrGOoql",
    "outputId": "fb002051-d54f-4fc5-d75b-353cafe06d04"
   },
   "outputs": [
    {
     "data": {
      "application/vnd.google.colaboratory.intrinsic+json": {
       "type": "string"
      },
      "text/plain": [
       "'¡Beee!'"
      ]
     },
     "execution_count": 46,
     "metadata": {},
     "output_type": "execute_result"
    }
   ],
   "source": [
    "oveja.emitirSonido()"
   ]
  },
  {
   "cell_type": "code",
   "execution_count": 47,
   "metadata": {
    "colab": {
     "base_uri": "https://localhost:8080/",
     "height": 35
    },
    "id": "3EFy1nLzNlXA",
    "outputId": "5324e3fa-e297-418e-d8db-b8afcb062e4f"
   },
   "outputs": [
    {
     "data": {
      "application/vnd.google.colaboratory.intrinsic+json": {
       "type": "string"
      },
      "text/plain": [
       "'¡Qui qui ri qui qui ri!'"
      ]
     },
     "execution_count": 47,
     "metadata": {},
     "output_type": "execute_result"
    }
   ],
   "source": [
    "gallo.emitirSonido()"
   ]
  },
  {
   "cell_type": "markdown",
   "metadata": {
    "id": "Gp1myRmkOsAe"
   },
   "source": [
    "Pero podemos hacerlo de otra forma, la cual nos permita usar nuestras clases como parametros que llame al método hacerSonido"
   ]
  },
  {
   "cell_type": "code",
   "execution_count": 48,
   "metadata": {
    "id": "QDXwzezAO3bP"
   },
   "outputs": [],
   "source": [
    "# Función que interactúa con cualquier tipo de Animal\n",
    "def escucharSonido(animal):\n",
    "    print(animal.emitirSonido())"
   ]
  },
  {
   "cell_type": "code",
   "execution_count": 49,
   "metadata": {
    "colab": {
     "base_uri": "https://localhost:8080/"
    },
    "id": "ei7IA80gPryS",
    "outputId": "17c3255b-5f44-4bdd-dd41-a802e1ba36a2"
   },
   "outputs": [
    {
     "name": "stdout",
     "output_type": "stream",
     "text": [
      "¡Guau guau!\n"
     ]
    }
   ],
   "source": [
    "escucharSonido(perro)"
   ]
  },
  {
   "cell_type": "code",
   "execution_count": 50,
   "metadata": {
    "colab": {
     "base_uri": "https://localhost:8080/"
    },
    "id": "5nzNXQjFP17a",
    "outputId": "125ef641-adb4-411f-dcdb-278b78259c20"
   },
   "outputs": [
    {
     "name": "stdout",
     "output_type": "stream",
     "text": [
      "¡Muu!\n"
     ]
    }
   ],
   "source": [
    "escucharSonido(vaca)"
   ]
  },
  {
   "cell_type": "code",
   "execution_count": 51,
   "metadata": {
    "colab": {
     "base_uri": "https://localhost:8080/"
    },
    "id": "iaxRYzepP3KD",
    "outputId": "7288b74c-0a47-4489-c0a4-b6cb0ae5fdbe"
   },
   "outputs": [
    {
     "name": "stdout",
     "output_type": "stream",
     "text": [
      "¡Oink!\n"
     ]
    }
   ],
   "source": [
    "escucharSonido(cerdo)"
   ]
  },
  {
   "cell_type": "code",
   "execution_count": 52,
   "metadata": {
    "colab": {
     "base_uri": "https://localhost:8080/"
    },
    "id": "Q_LSKOrkP-NV",
    "outputId": "9bc3b1ed-9f4a-4fef-80f7-bb6c28c8aec5"
   },
   "outputs": [
    {
     "name": "stdout",
     "output_type": "stream",
     "text": [
      "¡Qui qui ri qui qui ri!\n"
     ]
    }
   ],
   "source": [
    "escucharSonido(gallo)"
   ]
  }
 ],
 "metadata": {
  "colab": {
   "authorship_tag": "ABX9TyNbsWNf5unAsy52ToKMz4pX",
   "include_colab_link": true,
   "provenance": []
  },
  "kernelspec": {
   "display_name": "Python 3 (ipykernel)",
   "language": "python",
   "name": "python3"
  },
  "language_info": {
   "codemirror_mode": {
    "name": "ipython",
    "version": 3
   },
   "file_extension": ".py",
   "mimetype": "text/x-python",
   "name": "python",
   "nbconvert_exporter": "python",
   "pygments_lexer": "ipython3",
   "version": "3.10.13"
  }
 },
 "nbformat": 4,
 "nbformat_minor": 4
}
